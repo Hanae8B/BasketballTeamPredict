{
 "cells": [
  {
   "cell_type": "code",
   "execution_count": 1,
   "id": "c843be6b",
   "metadata": {
    "_cell_guid": "b1076dfc-b9ad-4769-8c92-a6c4dae69d19",
    "_uuid": "8f2839f25d086af736a60e9eeb907d3b93b6e0e5",
    "execution": {
     "iopub.execute_input": "2024-06-26T19:41:54.731518Z",
     "iopub.status.busy": "2024-06-26T19:41:54.730486Z",
     "iopub.status.idle": "2024-06-26T19:41:55.712422Z",
     "shell.execute_reply": "2024-06-26T19:41:55.711324Z"
    },
    "papermill": {
     "duration": 0.99938,
     "end_time": "2024-06-26T19:41:55.715059",
     "exception": false,
     "start_time": "2024-06-26T19:41:54.715679",
     "status": "completed"
    },
    "tags": []
   },
   "outputs": [
    {
     "name": "stdout",
     "output_type": "stream",
     "text": [
      "/kaggle/input/arc-prize-2024/arc-agi_training_solutions.json\n",
      "/kaggle/input/arc-prize-2024/arc-agi_evaluation_solutions.json\n",
      "/kaggle/input/arc-prize-2024/arc-agi_evaluation_challenges.json\n",
      "/kaggle/input/arc-prize-2024/sample_submission.json\n",
      "/kaggle/input/arc-prize-2024/arc-agi_training_challenges.json\n",
      "/kaggle/input/arc-prize-2024/arc-agi_test_challenges.json\n"
     ]
    }
   ],
   "source": [
    "# This Python 3 environment comes with many helpful analytics libraries installed\n",
    "# It is defined by the kaggle/python Docker image: https://github.com/kaggle/docker-python\n",
    "# For example, here's several helpful packages to load\n",
    "\n",
    "import numpy as np # linear algebra\n",
    "import pandas as pd # data processing, CSV file I/O (e.g. pd.read_csv)\n",
    "\n",
    "# Input data files are available in the read-only \"../input/\" directory\n",
    "# For example, running this (by clicking run or pressing Shift+Enter) will list all files under the input directory\n",
    "\n",
    "import os\n",
    "for dirname, _, filenames in os.walk('/kaggle/input'):\n",
    "    for filename in filenames:\n",
    "        print(os.path.join(dirname, filename))\n",
    "\n",
    "# You can write up to 20GB to the current directory (/kaggle/working/) that gets preserved as output when you create a version using \"Save & Run All\" \n",
    "# You can also write temporary files to /kaggle/temp/, but they won't be saved outside of the current session"
   ]
  },
  {
   "cell_type": "code",
   "execution_count": 2,
   "id": "97abca17",
   "metadata": {
    "execution": {
     "iopub.execute_input": "2024-06-26T19:41:55.741140Z",
     "iopub.status.busy": "2024-06-26T19:41:55.740615Z",
     "iopub.status.idle": "2024-06-26T19:41:57.271367Z",
     "shell.execute_reply": "2024-06-26T19:41:57.269957Z"
    },
    "papermill": {
     "duration": 1.547149,
     "end_time": "2024-06-26T19:41:57.273811",
     "exception": false,
     "start_time": "2024-06-26T19:41:55.726662",
     "status": "completed"
    },
    "tags": []
   },
   "outputs": [
    {
     "name": "stdout",
     "output_type": "stream",
     "text": [
      "Structure of /kaggle/input/arc-prize-2024/arc-agi_training_solutions.json:\n",
      "{\n",
      "  \"007bbfb7\": [\n",
      "    [\n",
      "      [\n",
      "        7,\n",
      "        0,\n",
      "        7,\n",
      "        0,\n",
      "        0,\n",
      "        0,\n",
      "  ...\n",
      "\n",
      "Structure of /kaggle/input/arc-prize-2024/arc-agi_evaluation_challenges.json:\n",
      "{\n",
      "  \"00576224\": {\n",
      "    \"test\": [\n",
      "      {\n",
      "        \"input\": [\n",
      "          [\n",
      "            3,\n",
      "            2\n",
      "...\n",
      "\n",
      "Structure of /kaggle/input/arc-prize-2024/sample_submission.json:\n",
      "{\n",
      "  \"007bbfb7\": [\n",
      "    {\n",
      "      \"attempt_1\": [\n",
      "        [\n",
      "          0,\n",
      "          0\n",
      "        ],\n",
      "        [...\n",
      "\n",
      "Structure of /kaggle/input/arc-prize-2024/arc-agi_training_challenges.json:\n",
      "{\n",
      "  \"007bbfb7\": {\n",
      "    \"test\": [\n",
      "      {\n",
      "        \"input\": [\n",
      "          [\n",
      "            7,\n",
      "            0,...\n",
      "\n",
      "Structure of /kaggle/input/arc-prize-2024/arc-agi_test_challenges.json:\n",
      "{\n",
      "  \"007bbfb7\": {\n",
      "    \"test\": [\n",
      "      {\n",
      "        \"input\": [\n",
      "          [\n",
      "            7,\n",
      "            0,...\n",
      "\n"
     ]
    }
   ],
   "source": [
    "#inspect json files\n",
    "import json\n",
    "\n",
    "#list of JSON file paths\n",
    "json_files = ['/kaggle/input/arc-prize-2024/arc-agi_training_solutions.json',\n",
    "    '/kaggle/input/arc-prize-2024/arc-agi_evaluation_challenges.json',\n",
    "    '/kaggle/input/arc-prize-2024/sample_submission.json',\n",
    "    '/kaggle/input/arc-prize-2024/arc-agi_training_challenges.json',\n",
    "     '/kaggle/input/arc-prize-2024/arc-agi_test_challenges.json'\n",
    "             ]\n",
    "\n",
    "#read and print json structure\n",
    "def print_json_structure(file_path):\n",
    "    try:\n",
    "        with open(file_path, 'r') as file:\n",
    "            data = json.load(file)\n",
    "            print(f\"Structure of {file_path}:\")\n",
    "            print(json.dumps(data, indent=2)[:100] + \"...\\n\")  #only the fist 50 characters will be displayed\n",
    "    except FileNotFoundError:\n",
    "        print(f\"File not found: {file_path}\")\n",
    "\n",
    "#read and print structure of each json file\n",
    "for path in json_files:\n",
    "    print_json_structure(path)"
   ]
  },
  {
   "cell_type": "code",
   "execution_count": 3,
   "id": "9d5c0f23",
   "metadata": {
    "execution": {
     "iopub.execute_input": "2024-06-26T19:41:57.299710Z",
     "iopub.status.busy": "2024-06-26T19:41:57.299319Z",
     "iopub.status.idle": "2024-06-26T19:42:01.335519Z",
     "shell.execute_reply": "2024-06-26T19:42:01.334199Z"
    },
    "papermill": {
     "duration": 4.052886,
     "end_time": "2024-06-26T19:42:01.338607",
     "exception": false,
     "start_time": "2024-06-26T19:41:57.285721",
     "status": "completed"
    },
    "tags": []
   },
   "outputs": [],
   "source": [
    "#load and preprocess ARC dataset into input-output pairs\n",
    "import torch\n",
    "from torch.utils.data import DataLoader, Dataset\n",
    "\n",
    "#file paths\n",
    "train_solutions_path = '/kaggle/input/arc-prize-2024/arc-agi_training_solutions.json'\n",
    "train_challenges_path = '/kaggle/input/arc-prize-2024/arc-agi_training_challenges.json'\n",
    "\n",
    "#load json data\n",
    "def load_json(file_path):\n",
    "    with open(file_path, 'r') as f:\n",
    "        data = json.load(f)\n",
    "    return data\n",
    "\n",
    "#preprocess data into input-output pairs\n",
    "def preprocess_data(challenges, solutions):\n",
    "    data = []\n",
    "    for task_id, task_data in challenges.items():\n",
    "        input_grids = []\n",
    "        output_grids = []\n",
    "        for test_case in task_data['test']:\n",
    "            input_grid = np.array(test_case['input'], dtype=np.float32)\n",
    "            output_grid = np.array(solutions[task_id][0], dtype=np.float32)  #assuming first solution\n",
    "            input_grids.append(input_grid)\n",
    "            output_grids.append(output_grid)\n",
    "        data.append((input_grids, output_grids))\n",
    "    return data\n",
    "\n",
    "#load training challenges and solutions\n",
    "train_challenges = load_json(train_challenges_path)\n",
    "train_solutions = load_json(train_solutions_path)\n",
    "\n",
    "#preprocess training data\n",
    "train_data = preprocess_data(train_challenges, train_solutions)"
   ]
  },
  {
   "cell_type": "code",
   "execution_count": 4,
   "id": "325a6d1a",
   "metadata": {
    "execution": {
     "iopub.execute_input": "2024-06-26T19:42:01.367177Z",
     "iopub.status.busy": "2024-06-26T19:42:01.366633Z",
     "iopub.status.idle": "2024-06-26T19:42:01.375281Z",
     "shell.execute_reply": "2024-06-26T19:42:01.374044Z"
    },
    "papermill": {
     "duration": 0.024143,
     "end_time": "2024-06-26T19:42:01.377773",
     "exception": false,
     "start_time": "2024-06-26T19:42:01.353630",
     "status": "completed"
    },
    "tags": []
   },
   "outputs": [],
   "source": [
    "#identify the maximum height and width of the grids in the ARC dataset\n",
    "\n",
    "def preprocess_data(challenges, solutions):\n",
    "    max_height = 0\n",
    "    max_width = 0\n",
    "    data = []\n",
    "    \n",
    "    for task_id, task_data in challenges.items():\n",
    "        input_grids = []\n",
    "        output_grids = []\n",
    "        \n",
    "        for test_case in task_data['test']:\n",
    "            input_grid = np.array(test_case['input'], dtype=np.float32)\n",
    "            output_grid = np.array(solutions[task_id][0], dtype=np.float32)  #assuming first solution\n",
    "            \n",
    "            input_height, input_width = input_grid.shape\n",
    "            output_height, output_width = output_grid.shape\n",
    "            \n",
    "            max_height = max(max_height, input_height, output_height)\n",
    "            max_width = max(max_width, input_width, output_width)\n",
    "            \n",
    "            input_grids.append(input_grid)\n",
    "            output_grids.append(output_grid)\n",
    "        \n",
    "        data.append((input_grids, output_grids))\n",
    "    \n",
    "    print(f\"Maximum height: {max_height}, Maximum width: {max_width}\")\n",
    "    return data"
   ]
  },
  {
   "cell_type": "code",
   "execution_count": 5,
   "id": "c1f30303",
   "metadata": {
    "execution": {
     "iopub.execute_input": "2024-06-26T19:42:01.403852Z",
     "iopub.status.busy": "2024-06-26T19:42:01.403435Z",
     "iopub.status.idle": "2024-06-26T19:42:01.594244Z",
     "shell.execute_reply": "2024-06-26T19:42:01.592890Z"
    },
    "papermill": {
     "duration": 0.206375,
     "end_time": "2024-06-26T19:42:01.596837",
     "exception": false,
     "start_time": "2024-06-26T19:42:01.390462",
     "status": "completed"
    },
    "tags": []
   },
   "outputs": [],
   "source": [
    "#load training challenges and solutions\n",
    "train_challenges = load_json(train_challenges_path)\n",
    "train_solutions = load_json(train_solutions_path)"
   ]
  },
  {
   "cell_type": "code",
   "execution_count": 6,
   "id": "1185e01d",
   "metadata": {
    "execution": {
     "iopub.execute_input": "2024-06-26T19:42:01.624350Z",
     "iopub.status.busy": "2024-06-26T19:42:01.621586Z",
     "iopub.status.idle": "2024-06-26T19:42:01.645451Z",
     "shell.execute_reply": "2024-06-26T19:42:01.643826Z"
    },
    "papermill": {
     "duration": 0.040114,
     "end_time": "2024-06-26T19:42:01.648690",
     "exception": false,
     "start_time": "2024-06-26T19:42:01.608576",
     "status": "completed"
    },
    "tags": []
   },
   "outputs": [
    {
     "name": "stdout",
     "output_type": "stream",
     "text": [
      "Maximum height: 30, Maximum width: 30\n"
     ]
    }
   ],
   "source": [
    "#preprocess training data\n",
    "train_data = preprocess_data(train_challenges, train_solutions)"
   ]
  },
  {
   "cell_type": "code",
   "execution_count": 7,
   "id": "06aa155f",
   "metadata": {
    "execution": {
     "iopub.execute_input": "2024-06-26T19:42:01.676801Z",
     "iopub.status.busy": "2024-06-26T19:42:01.675870Z",
     "iopub.status.idle": "2024-06-26T19:42:01.699271Z",
     "shell.execute_reply": "2024-06-26T19:42:01.696139Z"
    },
    "papermill": {
     "duration": 0.039571,
     "end_time": "2024-06-26T19:42:01.702039",
     "exception": false,
     "start_time": "2024-06-26T19:42:01.662468",
     "status": "completed"
    },
    "tags": []
   },
   "outputs": [
    {
     "name": "stdout",
     "output_type": "stream",
     "text": [
      "Sample Input-Output Pairs:\n",
      "Task ID: 007bbfb7\n",
      "Input Grid:\n",
      "[[7 0 7]\n",
      " [7 0 7]\n",
      " [7 7 0]]\n",
      "Output Grid:\n",
      "[[7 0 7 0 0 0 7 0 7]\n",
      " [7 0 7 0 0 0 7 0 7]\n",
      " [7 7 0 0 0 0 7 7 0]\n",
      " [7 0 7 0 0 0 7 0 7]\n",
      " [7 0 7 0 0 0 7 0 7]\n",
      " [7 7 0 0 0 0 7 7 0]\n",
      " [7 0 7 7 0 7 0 0 0]\n",
      " [7 0 7 7 0 7 0 0 0]\n",
      " [7 7 0 7 7 0 0 0 0]]\n",
      "\n",
      "Task ID: 00d62c1b\n",
      "Input Grid:\n",
      "[[0 0 0 0 0 0 0 0 0 0 0 0 0 0 0 0 0 0 0 0]\n",
      " [0 0 3 0 0 0 0 0 0 0 0 0 0 0 0 0 0 0 0 0]\n",
      " [0 3 0 3 3 0 0 0 0 0 0 0 0 0 0 0 0 0 0 0]\n",
      " [0 0 3 0 3 3 3 3 3 0 3 3 0 0 0 0 0 0 0 0]\n",
      " [0 0 0 0 3 0 0 0 0 3 0 0 3 0 0 0 0 0 0 0]\n",
      " [0 0 0 0 3 3 3 3 3 0 3 3 3 0 0 0 0 0 0 0]\n",
      " [0 0 0 0 0 0 0 0 0 0 0 0 0 3 3 3 3 3 0 0]\n",
      " [0 0 0 0 0 0 0 0 0 0 0 0 0 3 0 0 0 3 0 0]\n",
      " [0 0 0 0 0 0 0 0 0 0 0 0 0 3 0 0 0 3 0 0]\n",
      " [0 0 0 0 0 0 0 0 0 3 3 3 3 3 0 0 0 3 0 0]\n",
      " [0 0 0 0 0 0 0 0 0 3 0 0 0 3 0 0 0 3 0 0]\n",
      " [0 0 0 0 0 0 0 0 3 3 3 3 3 3 0 0 0 3 0 0]\n",
      " [0 0 0 0 0 0 3 3 0 3 0 0 0 3 3 3 3 3 0 0]\n",
      " [0 0 3 0 0 0 0 0 3 3 0 0 0 0 0 0 0 0 0 0]\n",
      " [0 3 0 3 0 0 0 0 0 0 0 0 0 0 0 0 0 0 0 0]\n",
      " [0 0 3 0 3 0 3 3 3 3 3 3 0 0 0 0 0 0 0 0]\n",
      " [0 0 0 0 0 0 0 3 0 0 0 3 0 0 0 0 0 0 0 0]\n",
      " [0 0 0 0 0 0 0 3 0 0 0 3 0 0 0 0 0 0 0 0]\n",
      " [0 0 0 0 0 0 0 3 3 3 3 3 0 0 0 0 0 0 0 0]\n",
      " [0 0 0 0 0 0 0 0 0 0 0 0 0 0 0 0 0 0 0 0]]\n",
      "Output Grid:\n",
      "[[0 0 0 0 0 0 0 0 0 0 0 0 0 0 0 0 0 0 0 0]\n",
      " [0 0 3 0 0 0 0 0 0 0 0 0 0 0 0 0 0 0 0 0]\n",
      " [0 3 4 3 3 0 0 0 0 0 0 0 0 0 0 0 0 0 0 0]\n",
      " [0 0 3 0 3 3 3 3 3 0 3 3 0 0 0 0 0 0 0 0]\n",
      " [0 0 0 0 3 4 4 4 4 3 4 4 3 0 0 0 0 0 0 0]\n",
      " [0 0 0 0 3 3 3 3 3 0 3 3 3 0 0 0 0 0 0 0]\n",
      " [0 0 0 0 0 0 0 0 0 0 0 0 0 3 3 3 3 3 0 0]\n",
      " [0 0 0 0 0 0 0 0 0 0 0 0 0 3 4 4 4 3 0 0]\n",
      " [0 0 0 0 0 0 0 0 0 0 0 0 0 3 4 4 4 3 0 0]\n",
      " [0 0 0 0 0 0 0 0 0 3 3 3 3 3 4 4 4 3 0 0]\n",
      " [0 0 0 0 0 0 0 0 0 3 4 4 4 3 4 4 4 3 0 0]\n",
      " [0 0 0 0 0 0 0 0 3 3 3 3 3 3 4 4 4 3 0 0]\n",
      " [0 0 0 0 0 0 3 3 4 3 0 0 0 3 3 3 3 3 0 0]\n",
      " [0 0 3 0 0 0 0 0 3 3 0 0 0 0 0 0 0 0 0 0]\n",
      " [0 3 4 3 0 0 0 0 0 0 0 0 0 0 0 0 0 0 0 0]\n",
      " [0 0 3 0 3 0 3 3 3 3 3 3 0 0 0 0 0 0 0 0]\n",
      " [0 0 0 0 0 0 0 3 4 4 4 3 0 0 0 0 0 0 0 0]\n",
      " [0 0 0 0 0 0 0 3 4 4 4 3 0 0 0 0 0 0 0 0]\n",
      " [0 0 0 0 0 0 0 3 3 3 3 3 0 0 0 0 0 0 0 0]\n",
      " [0 0 0 0 0 0 0 0 0 0 0 0 0 0 0 0 0 0 0 0]]\n",
      "\n",
      "Task ID: 017c7c7b\n",
      "Input Grid:\n",
      "[[1 1 1]\n",
      " [0 1 0]\n",
      " [0 1 0]\n",
      " [1 1 1]\n",
      " [0 1 0]\n",
      " [0 1 0]]\n",
      "Output Grid:\n",
      "[[2 2 2]\n",
      " [0 2 0]\n",
      " [0 2 0]\n",
      " [2 2 2]\n",
      " [0 2 0]\n",
      " [0 2 0]\n",
      " [2 2 2]\n",
      " [0 2 0]\n",
      " [0 2 0]]\n",
      "\n",
      "Task ID: 025d127b\n",
      "Input Grid:\n",
      "[[0 0 0 0 0 0 0 0 0 0]\n",
      " [0 4 4 4 4 4 4 0 0 0]\n",
      " [0 4 0 0 0 0 0 4 0 0]\n",
      " [0 0 4 0 0 0 0 0 4 0]\n",
      " [0 0 0 4 0 0 0 0 0 4]\n",
      " [0 0 0 0 4 4 4 4 4 4]\n",
      " [0 0 0 0 0 0 0 0 0 0]\n",
      " [0 0 0 0 0 0 0 0 0 0]\n",
      " [0 0 0 0 0 0 0 0 0 0]\n",
      " [0 0 0 0 0 0 0 0 0 0]]\n",
      "Output Grid:\n",
      "[[0 0 0 0 0 0 0 0 0 0]\n",
      " [0 0 4 4 4 4 4 4 0 0]\n",
      " [0 0 4 0 0 0 0 0 4 0]\n",
      " [0 0 0 4 0 0 0 0 0 4]\n",
      " [0 0 0 0 4 0 0 0 0 4]\n",
      " [0 0 0 0 4 4 4 4 4 4]\n",
      " [0 0 0 0 0 0 0 0 0 0]\n",
      " [0 0 0 0 0 0 0 0 0 0]\n",
      " [0 0 0 0 0 0 0 0 0 0]\n",
      " [0 0 0 0 0 0 0 0 0 0]]\n",
      "\n",
      "Task ID: 045e512c\n",
      "Input Grid:\n",
      "[[0 0 0 0 0 0 0 0 0 0 0 0 0 0 0 0 0 0 0 0 0]\n",
      " [0 0 0 0 0 0 0 0 0 0 0 0 0 0 0 0 0 0 0 0 0]\n",
      " [0 0 0 0 0 0 0 0 0 0 0 0 0 0 0 0 0 0 0 0 0]\n",
      " [0 0 0 0 0 0 0 0 0 0 0 0 0 0 0 0 0 0 0 0 0]\n",
      " [0 0 0 0 0 0 0 0 0 0 4 0 0 0 0 0 0 0 0 0 0]\n",
      " [0 0 0 0 0 0 0 0 0 0 4 0 0 0 0 0 0 0 0 0 0]\n",
      " [0 0 0 0 0 0 0 0 0 0 0 0 0 0 0 0 0 0 0 0 0]\n",
      " [0 0 0 0 0 0 8 8 8 0 2 0 0 0 0 0 0 0 0 0 0]\n",
      " [0 0 0 0 0 0 8 0 8 0 2 0 0 0 0 0 0 0 0 0 0]\n",
      " [0 0 0 0 0 0 8 0 8 0 2 0 0 0 0 0 0 0 0 0 0]\n",
      " [0 0 0 0 0 0 0 0 0 0 0 0 0 0 0 0 0 0 0 0 0]\n",
      " [0 0 0 0 0 0 3 3 3 0 0 0 0 0 0 0 0 0 0 0 0]\n",
      " [0 0 0 0 0 0 0 0 0 0 0 0 0 0 0 0 0 0 0 0 0]\n",
      " [0 0 0 0 0 0 0 0 0 0 0 0 0 0 0 0 0 0 0 0 0]\n",
      " [0 0 0 0 0 0 0 0 0 0 0 0 0 0 0 0 0 0 0 0 0]\n",
      " [0 0 0 0 0 0 0 0 0 0 0 0 0 0 0 0 0 0 0 0 0]\n",
      " [0 0 0 0 0 0 0 0 0 0 0 0 0 0 0 0 0 0 0 0 0]\n",
      " [0 0 0 0 0 0 0 0 0 0 0 0 0 0 0 0 0 0 0 0 0]\n",
      " [0 0 0 0 0 0 0 0 0 0 0 0 0 0 0 0 0 0 0 0 0]\n",
      " [0 0 0 0 0 0 0 0 0 0 0 0 0 0 0 0 0 0 0 0 0]\n",
      " [0 0 0 0 0 0 0 0 0 0 0 0 0 0 0 0 0 0 0 0 0]]\n",
      "Output Grid:\n",
      "[[0 0 0 0 0 0 0 0 0 0 0 0 0 0 4 0 4 0 0 0 0]\n",
      " [0 0 0 0 0 0 0 0 0 0 0 0 0 0 4 0 4 0 0 0 0]\n",
      " [0 0 0 0 0 0 0 0 0 0 0 0 0 0 0 0 0 0 0 0 0]\n",
      " [0 0 0 0 0 0 0 0 0 0 4 4 4 0 0 0 0 0 0 0 0]\n",
      " [0 0 0 0 0 0 0 0 0 0 4 0 4 0 0 0 0 0 0 0 0]\n",
      " [0 0 0 0 0 0 0 0 0 0 4 0 4 0 0 0 0 0 0 0 0]\n",
      " [0 0 0 0 0 0 0 0 0 0 0 0 0 0 0 0 0 0 0 0 0]\n",
      " [0 0 0 0 0 0 8 8 8 0 2 2 2 0 2 2 2 0 2 2 2]\n",
      " [0 0 0 0 0 0 8 0 8 0 2 0 2 0 2 0 2 0 2 0 2]\n",
      " [0 0 0 0 0 0 8 0 8 0 2 0 2 0 2 0 2 0 2 0 2]\n",
      " [0 0 0 0 0 0 0 0 0 0 0 0 0 0 0 0 0 0 0 0 0]\n",
      " [0 0 0 0 0 0 3 3 3 0 0 0 0 0 0 0 0 0 0 0 0]\n",
      " [0 0 0 0 0 0 3 0 3 0 0 0 0 0 0 0 0 0 0 0 0]\n",
      " [0 0 0 0 0 0 3 0 3 0 0 0 0 0 0 0 0 0 0 0 0]\n",
      " [0 0 0 0 0 0 0 0 0 0 0 0 0 0 0 0 0 0 0 0 0]\n",
      " [0 0 0 0 0 0 3 3 3 0 0 0 0 0 0 0 0 0 0 0 0]\n",
      " [0 0 0 0 0 0 3 0 3 0 0 0 0 0 0 0 0 0 0 0 0]\n",
      " [0 0 0 0 0 0 3 0 3 0 0 0 0 0 0 0 0 0 0 0 0]\n",
      " [0 0 0 0 0 0 0 0 0 0 0 0 0 0 0 0 0 0 0 0 0]\n",
      " [0 0 0 0 0 0 3 3 3 0 0 0 0 0 0 0 0 0 0 0 0]\n",
      " [0 0 0 0 0 0 3 0 3 0 0 0 0 0 0 0 0 0 0 0 0]]\n",
      "\n"
     ]
    }
   ],
   "source": [
    "#print sample input-output pairs\n",
    "def print_sample_pairs(challenges, solutions, num_samples=5):\n",
    "    sample_tasks = list(challenges.keys())[:num_samples]\n",
    "    \n",
    "    for task_id in sample_tasks:\n",
    "        task_data = challenges[task_id]\n",
    "        input_grid = np.array(task_data['test'][0]['input'])  #taking the first test case\n",
    "        output_grid = np.array(solutions[task_id][0])  #assuming first solution\n",
    "        \n",
    "        print(f\"Task ID: {task_id}\")\n",
    "        print(\"Input Grid:\")\n",
    "        print(input_grid)\n",
    "        print(\"Output Grid:\")\n",
    "        print(output_grid)\n",
    "        print()\n",
    "\n",
    "#print sample input-output pairs\n",
    "print(\"Sample Input-Output Pairs:\")\n",
    "print_sample_pairs(train_challenges, train_solutions)"
   ]
  },
  {
   "cell_type": "code",
   "execution_count": 8,
   "id": "e5b89202",
   "metadata": {
    "execution": {
     "iopub.execute_input": "2024-06-26T19:42:01.729998Z",
     "iopub.status.busy": "2024-06-26T19:42:01.728958Z",
     "iopub.status.idle": "2024-06-26T19:42:02.221244Z",
     "shell.execute_reply": "2024-06-26T19:42:02.219705Z"
    },
    "papermill": {
     "duration": 0.508934,
     "end_time": "2024-06-26T19:42:02.223830",
     "exception": false,
     "start_time": "2024-06-26T19:42:01.714896",
     "status": "completed"
    },
    "tags": []
   },
   "outputs": [
    {
     "data": {
      "image/png": "[encoded data removed]",
      "text/plain": [
       "<Figure size 1000x500 with 2 Axes>"
      ]
     },
     "metadata": {},
     "output_type": "display_data"
    }
   ],
   "source": [
    "import matplotlib.pyplot as plt\n",
    "\n",
    "#visualize sample grids\n",
    "def visualize_grids(input_grid, output_grid):\n",
    "    fig, axes = plt.subplots(1, 2, figsize=(10, 5))\n",
    "    \n",
    "    axes[0].imshow(input_grid, cmap='viridis')\n",
    "    axes[0].set_title('Input Grid')\n",
    "    \n",
    "    axes[1].imshow(output_grid, cmap='viridis')\n",
    "    axes[1].set_title('Output Grid')\n",
    "    \n",
    "    plt.show()\n",
    "\n",
    "sample_task_id = list(train_challenges.keys())[0]\n",
    "sample_input = np.array(train_challenges[sample_task_id]['test'][0]['input'])\n",
    "sample_output = np.array(train_solutions[sample_task_id][0])\n",
    "\n",
    "visualize_grids(sample_input, sample_output)"
   ]
  },
  {
   "cell_type": "code",
   "execution_count": 9,
   "id": "8958611d",
   "metadata": {
    "execution": {
     "iopub.execute_input": "2024-06-26T19:42:02.251473Z",
     "iopub.status.busy": "2024-06-26T19:42:02.251050Z",
     "iopub.status.idle": "2024-06-26T19:42:02.262700Z",
     "shell.execute_reply": "2024-06-26T19:42:02.261175Z"
    },
    "papermill": {
     "duration": 0.028797,
     "end_time": "2024-06-26T19:42:02.265754",
     "exception": false,
     "start_time": "2024-06-26T19:42:02.236957",
     "status": "completed"
    },
    "tags": []
   },
   "outputs": [],
   "source": [
    "#resize or pad to handle different input and output grids\n",
    "\n",
    "def preprocess_data(challenges, solutions):\n",
    "    data = []\n",
    "    \n",
    "    for task_id, task_data in challenges.items():\n",
    "        input_grids = []\n",
    "        output_grids = []\n",
    "        \n",
    "        max_height = 0\n",
    "        max_width = 0\n",
    "        \n",
    "        #determine maximum dimensions across all test cases for this task\n",
    "        for test_case in task_data['test']:\n",
    "            input_grid = np.array(test_case['input'], dtype=np.float32)\n",
    "            output_grid = np.array(solutions[task_id][0], dtype=np.float32)  #assuming first solution\n",
    "            \n",
    "            max_height = max(max_height, input_grid.shape[0], output_grid.shape[0])\n",
    "            max_width = max(max_width, input_grid.shape[1], output_grid.shape[1])\n",
    "        \n",
    "        #resize or pad all input and output grids to match the maximum dimensions\n",
    "        for test_case in task_data['test']:\n",
    "            input_grid = np.array(test_case['input'], dtype=np.float32)\n",
    "            output_grid = np.array(solutions[task_id][0], dtype=np.float32)  #assuming first solution\n",
    "            \n",
    "            resized_input = np.zeros((max_height, max_width), dtype=np.float32)\n",
    "            resized_output = np.zeros((max_height, max_width), dtype=np.float32)\n",
    "            \n",
    "            resized_input[:input_grid.shape[0], :input_grid.shape[1]] = input_grid\n",
    "            resized_output[:output_grid.shape[0], :output_grid.shape[1]] = output_grid\n",
    "            \n",
    "            input_grids.append(resized_input)\n",
    "            output_grids.append(resized_output)\n",
    "        \n",
    "        #convert input_grids and output_grids to tensors\n",
    "        input_grids = torch.stack([torch.Tensor(grid).unsqueeze(0) for grid in input_grids])\n",
    "        output_grids = torch.stack([torch.Tensor(grid).unsqueeze(0) for grid in output_grids])\n",
    "        \n",
    "        data.append((input_grids, output_grids))\n",
    "    \n",
    "    return data"
   ]
  },
  {
   "cell_type": "code",
   "execution_count": 10,
   "id": "6fbf47d3",
   "metadata": {
    "execution": {
     "iopub.execute_input": "2024-06-26T19:42:02.293825Z",
     "iopub.status.busy": "2024-06-26T19:42:02.293403Z",
     "iopub.status.idle": "2024-06-26T19:42:02.318794Z",
     "shell.execute_reply": "2024-06-26T19:42:02.317323Z"
    },
    "papermill": {
     "duration": 0.042971,
     "end_time": "2024-06-26T19:42:02.321459",
     "exception": false,
     "start_time": "2024-06-26T19:42:02.278488",
     "status": "completed"
    },
    "tags": []
   },
   "outputs": [
    {
     "name": "stdout",
     "output_type": "stream",
     "text": [
      "Input grid size statistics:\n",
      "Mean size: [11.33173077 11.77163462]\n",
      "Median size: [10. 10.]\n",
      "Min size: [1 2]\n",
      "Max size: [30 30]\n",
      "\n",
      "Output grid size statistics:\n",
      "Mean size: [ 9.80048077 10.25721154]\n",
      "Median size: [10. 10.]\n",
      "Min size: [1 1]\n",
      "Max size: [30 30]\n"
     ]
    }
   ],
   "source": [
    "#analyze the distribution of grid sizes and identify common patterns of transformation\n",
    "\n",
    "def analyze_task_variability(challenges, solutions):\n",
    "    input_sizes = []\n",
    "    output_sizes = []\n",
    "    \n",
    "    for task_id, task_data in challenges.items():\n",
    "        for test_case in task_data['test']:\n",
    "            input_grid = np.array(test_case['input'])\n",
    "            output_grid = np.array(solutions[task_id][0])  #assuming first solution\n",
    "            \n",
    "            input_sizes.append(input_grid.shape)\n",
    "            output_sizes.append(output_grid.shape)\n",
    "    \n",
    "    input_sizes = np.array(input_sizes)\n",
    "    output_sizes = np.array(output_sizes)\n",
    "    \n",
    "    print(f\"Input grid size statistics:\")\n",
    "    print(f\"Mean size: {np.mean(input_sizes, axis=0)}\")\n",
    "    print(f\"Median size: {np.median(input_sizes, axis=0)}\")\n",
    "    print(f\"Min size: {np.min(input_sizes, axis=0)}\")\n",
    "    print(f\"Max size: {np.max(input_sizes, axis=0)}\")\n",
    "    \n",
    "    print(f\"\\nOutput grid size statistics:\")\n",
    "    print(f\"Mean size: {np.mean(output_sizes, axis=0)}\")\n",
    "    print(f\"Median size: {np.median(output_sizes, axis=0)}\")\n",
    "    print(f\"Min size: {np.min(output_sizes, axis=0)}\")\n",
    "    print(f\"Max size: {np.max(output_sizes, axis=0)}\")\n",
    "\n",
    "#usage example:\n",
    "analyze_task_variability(train_challenges, train_solutions)"
   ]
  },
  {
   "cell_type": "code",
   "execution_count": 11,
   "id": "41b98318",
   "metadata": {
    "execution": {
     "iopub.execute_input": "2024-06-26T19:42:02.348502Z",
     "iopub.status.busy": "2024-06-26T19:42:02.348103Z",
     "iopub.status.idle": "2024-06-26T19:42:02.361216Z",
     "shell.execute_reply": "2024-06-26T19:42:02.359707Z"
    },
    "papermill": {
     "duration": 0.030291,
     "end_time": "2024-06-26T19:42:02.364450",
     "exception": false,
     "start_time": "2024-06-26T19:42:02.334159",
     "status": "completed"
    },
    "tags": []
   },
   "outputs": [
    {
     "name": "stdout",
     "output_type": "stream",
     "text": [
      "[([array([[7., 0., 7.],\n",
      "       [7., 0., 7.],\n",
      "       [7., 7., 0.]], dtype=float32)], [array([[7., 0., 7., 0., 0., 0., 7., 0., 7.],\n",
      "       [7., 0., 7., 0., 0., 0., 7., 0., 7.],\n",
      "       [7., 7., 0., 0., 0., 0., 7., 7., 0.],\n",
      "       [7., 0., 7., 0., 0., 0., 7., 0., 7.],\n",
      "       [7., 0., 7., 0., 0., 0., 7., 0., 7.],\n",
      "       [7., 7., 0., 0., 0., 0., 7., 7., 0.],\n",
      "       [7., 0., 7., 7., 0., 7., 0., 0., 0.],\n",
      "       [7., 0., 7., 7., 0., 7., 0., 0., 0.],\n",
      "       [7., 7., 0., 7., 7., 0., 0., 0., 0.]], dtype=float32)]), ([array([[0., 0., 0., 0., 0., 0., 0., 0., 0., 0., 0., 0., 0., 0., 0., 0.,\n",
      "        0., 0., 0., 0.],\n",
      "       [0., 0., 3., 0., 0., 0., 0., 0., 0., 0., 0., 0., 0., 0., 0., 0.,\n",
      "        0., 0., 0., 0.],\n",
      "       [0., 3., 0., 3., 3., 0., 0., 0., 0., 0., 0., 0., 0., 0., 0., 0.,\n",
      "        0., 0., 0., 0.],\n",
      "       [0., 0., 3., 0., 3., 3., 3., 3., 3., 0., 3., 3., 0., 0., 0., 0.,\n",
      "        0., 0., 0., 0.],\n",
      "       [0., 0., 0., 0., 3., 0., 0., 0., 0., 3., 0., 0., 3., 0., 0., 0.,\n",
      "        0., 0., 0., 0.],\n",
      "       [0., 0., 0., 0., 3., 3., 3., 3., 3., 0., 3., 3., 3., 0., 0., 0.,\n",
      "        0., 0., 0., 0.],\n",
      "       [0., 0., 0., 0., 0., 0., 0., 0., 0., 0., 0., 0., 0., 3., 3., 3.,\n",
      "        3., 3., 0., 0.],\n",
      "       [0., 0., 0., 0., 0., 0., 0., 0., 0., 0., 0., 0., 0., 3., 0., 0.,\n",
      "        0., 3., 0., 0.],\n",
      "       [0., 0., 0., 0., 0., 0., 0., 0., 0., 0., 0., 0., 0., 3., 0., 0.,\n",
      "        0., 3., 0., 0.],\n",
      "       [0., 0., 0., 0., 0., 0., 0., 0., 0., 3., 3., 3., 3., 3., 0., 0.,\n",
      "        0., 3., 0., 0.],\n",
      "       [0., 0., 0., 0., 0., 0., 0., 0., 0., 3., 0., 0., 0., 3., 0., 0.,\n",
      "        0., 3., 0., 0.],\n",
      "       [0., 0., 0., 0., 0., 0., 0., 0., 3., 3., 3., 3., 3., 3., 0., 0.,\n",
      "        0., 3., 0., 0.],\n",
      "       [0., 0., 0., 0., 0., 0., 3., 3., 0., 3., 0., 0., 0., 3., 3., 3.,\n",
      "        3., 3., 0., 0.],\n",
      "       [0., 0., 3., 0., 0., 0., 0., 0., 3., 3., 0., 0., 0., 0., 0., 0.,\n",
      "        0., 0., 0., 0.],\n",
      "       [0., 3., 0., 3., 0., 0., 0., 0., 0., 0., 0., 0., 0., 0., 0., 0.,\n",
      "        0., 0., 0., 0.],\n",
      "       [0., 0., 3., 0., 3., 0., 3., 3., 3., 3., 3., 3., 0., 0., 0., 0.,\n",
      "        0., 0., 0., 0.],\n",
      "       [0., 0., 0., 0., 0., 0., 0., 3., 0., 0., 0., 3., 0., 0., 0., 0.,\n",
      "        0., 0., 0., 0.],\n",
      "       [0., 0., 0., 0., 0., 0., 0., 3., 0., 0., 0., 3., 0., 0., 0., 0.,\n",
      "        0., 0., 0., 0.],\n",
      "       [0., 0., 0., 0., 0., 0., 0., 3., 3., 3., 3., 3., 0., 0., 0., 0.,\n",
      "        0., 0., 0., 0.],\n",
      "       [0., 0., 0., 0., 0., 0., 0., 0., 0., 0., 0., 0., 0., 0., 0., 0.,\n",
      "        0., 0., 0., 0.]], dtype=float32)], [array([[0., 0., 0., 0., 0., 0., 0., 0., 0., 0., 0., 0., 0., 0., 0., 0.,\n",
      "        0., 0., 0., 0.],\n",
      "       [0., 0., 3., 0., 0., 0., 0., 0., 0., 0., 0., 0., 0., 0., 0., 0.,\n",
      "        0., 0., 0., 0.],\n",
      "       [0., 3., 4., 3., 3., 0., 0., 0., 0., 0., 0., 0., 0., 0., 0., 0.,\n",
      "        0., 0., 0., 0.],\n",
      "       [0., 0., 3., 0., 3., 3., 3., 3., 3., 0., 3., 3., 0., 0., 0., 0.,\n",
      "        0., 0., 0., 0.],\n",
      "       [0., 0., 0., 0., 3., 4., 4., 4., 4., 3., 4., 4., 3., 0., 0., 0.,\n",
      "        0., 0., 0., 0.],\n",
      "       [0., 0., 0., 0., 3., 3., 3., 3., 3., 0., 3., 3., 3., 0., 0., 0.,\n",
      "        0., 0., 0., 0.],\n",
      "       [0., 0., 0., 0., 0., 0., 0., 0., 0., 0., 0., 0., 0., 3., 3., 3.,\n",
      "        3., 3., 0., 0.],\n",
      "       [0., 0., 0., 0., 0., 0., 0., 0., 0., 0., 0., 0., 0., 3., 4., 4.,\n",
      "        4., 3., 0., 0.],\n",
      "       [0., 0., 0., 0., 0., 0., 0., 0., 0., 0., 0., 0., 0., 3., 4., 4.,\n",
      "        4., 3., 0., 0.],\n",
      "       [0., 0., 0., 0., 0., 0., 0., 0., 0., 3., 3., 3., 3., 3., 4., 4.,\n",
      "        4., 3., 0., 0.],\n",
      "       [0., 0., 0., 0., 0., 0., 0., 0., 0., 3., 4., 4., 4., 3., 4., 4.,\n",
      "        4., 3., 0., 0.],\n",
      "       [0., 0., 0., 0., 0., 0., 0., 0., 3., 3., 3., 3., 3., 3., 4., 4.,\n",
      "        4., 3., 0., 0.],\n",
      "       [0., 0., 0., 0., 0., 0., 3., 3., 4., 3., 0., 0., 0., 3., 3., 3.,\n",
      "        3., 3., 0., 0.],\n",
      "       [0., 0., 3., 0., 0., 0., 0., 0., 3., 3., 0., 0., 0., 0., 0., 0.,\n",
      "        0., 0., 0., 0.],\n",
      "       [0., 3., 4., 3., 0., 0., 0., 0., 0., 0., 0., 0., 0., 0., 0., 0.,\n",
      "        0., 0., 0., 0.],\n",
      "       [0., 0., 3., 0., 3., 0., 3., 3., 3., 3., 3., 3., 0., 0., 0., 0.,\n",
      "        0., 0., 0., 0.],\n",
      "       [0., 0., 0., 0., 0., 0., 0., 3., 4., 4., 4., 3., 0., 0., 0., 0.,\n",
      "        0., 0., 0., 0.],\n",
      "       [0., 0., 0., 0., 0., 0., 0., 3., 4., 4., 4., 3., 0., 0., 0., 0.,\n",
      "        0., 0., 0., 0.],\n",
      "       [0., 0., 0., 0., 0., 0., 0., 3., 3., 3., 3., 3., 0., 0., 0., 0.,\n",
      "        0., 0., 0., 0.],\n",
      "       [0., 0., 0., 0., 0., 0., 0., 0., 0., 0., 0., 0., 0., 0., 0., 0.,\n",
      "        0., 0., 0., 0.]], dtype=float32)]), ([array([[1., 1., 1.],\n",
      "       [0., 1., 0.],\n",
      "       [0., 1., 0.],\n",
      "       [1., 1., 1.],\n",
      "       [0., 1., 0.],\n",
      "       [0., 1., 0.]], dtype=float32)], [array([[2., 2., 2.],\n",
      "       [0., 2., 0.],\n",
      "       [0., 2., 0.],\n",
      "       [2., 2., 2.],\n",
      "       [0., 2., 0.],\n",
      "       [0., 2., 0.],\n",
      "       [2., 2., 2.],\n",
      "       [0., 2., 0.],\n",
      "       [0., 2., 0.]], dtype=float32)])]\n"
     ]
    }
   ],
   "source": [
    "#inspect the structure of preprocessed data\n",
    "print(train_data[:3])"
   ]
  },
  {
   "cell_type": "code",
   "execution_count": 12,
   "id": "f1730491",
   "metadata": {
    "execution": {
     "iopub.execute_input": "2024-06-26T19:42:02.393264Z",
     "iopub.status.busy": "2024-06-26T19:42:02.392863Z",
     "iopub.status.idle": "2024-06-26T19:42:02.398565Z",
     "shell.execute_reply": "2024-06-26T19:42:02.397295Z"
    },
    "papermill": {
     "duration": 0.02285,
     "end_time": "2024-06-26T19:42:02.401051",
     "exception": false,
     "start_time": "2024-06-26T19:42:02.378201",
     "status": "completed"
    },
    "tags": []
   },
   "outputs": [],
   "source": [
    "#extract input and output grids\n",
    "input_grids = [item[0][0] for item in train_data]\n",
    "output_grids = [item[1][0] for item in train_data]"
   ]
  },
  {
   "cell_type": "code",
   "execution_count": 13,
   "id": "24793206",
   "metadata": {
    "execution": {
     "iopub.execute_input": "2024-06-26T19:42:02.428742Z",
     "iopub.status.busy": "2024-06-26T19:42:02.428331Z",
     "iopub.status.idle": "2024-06-26T19:42:02.435701Z",
     "shell.execute_reply": "2024-06-26T19:42:02.433887Z"
    },
    "papermill": {
     "duration": 0.024126,
     "end_time": "2024-06-26T19:42:02.438187",
     "exception": false,
     "start_time": "2024-06-26T19:42:02.414061",
     "status": "completed"
    },
    "tags": []
   },
   "outputs": [
    {
     "name": "stdout",
     "output_type": "stream",
     "text": [
      "Shapes of input grids: [(3, 3), (20, 20), (6, 3), (10, 10), (21, 21), (3, 7), (7, 7), (11, 10), (26, 26), (9, 9), (11, 11), (12, 12), (11, 27), (15, 17), (9, 9), (3, 3), (21, 21), (24, 19), (6, 5), (10, 10), (22, 22), (11, 11), (8, 11), (12, 11), (19, 26), (5, 7), (10, 10), (10, 10), (17, 16), (10, 10), (12, 12), (5, 5), (17, 17), (9, 9), (10, 10), (30, 30), (10, 10), (9, 9), (10, 10), (10, 10), (10, 10), (10, 10), (10, 10), (10, 10), (10, 10), (3, 11), (9, 9), (8, 6), (18, 18), (12, 13), (16, 11), (3, 3), (3, 3), (30, 30), (17, 15), (3, 3), (8, 8), (18, 18), (11, 11), (5, 11), (18, 18), (10, 10), (14, 14), (19, 21), (13, 13), (13, 13), (5, 15), (10, 10), (10, 10), (17, 17), (16, 16), (13, 5), (5, 5), (30, 30), (9, 13), (14, 15), (17, 18), (10, 10), (14, 14), (29, 29), (7, 7), (6, 12), (3, 4), (10, 10), (11, 20), (12, 12), (3, 3), (18, 19), (13, 13), (4, 24), (14, 13), (20, 20), (14, 14), (15, 15), (9, 9), (19, 19), (17, 14), (17, 19), (10, 10), (10, 10), (17, 21), (12, 12), (3, 3), (3, 3), (13, 13), (3, 3), (5, 5), (10, 10), (13, 13), (29, 29), (10, 10), (18, 14), (10, 6), (3, 2), (14, 14), (3, 4), (15, 15), (19, 22), (12, 12), (14, 13), (13, 13), (7, 17), (5, 5), (8, 10), (15, 15), (7, 11), (7, 11), (15, 15), (3, 3), (9, 9), (4, 18), (9, 8), (19, 30), (22, 26), (9, 9), (10, 10), (28, 28), (16, 15), (9, 9), (3, 3), (17, 17), (3, 3), (10, 10), (9, 4), (13, 16), (9, 3), (5, 5), (21, 12), (11, 11), (3, 3), (12, 12), (3, 3), (10, 10), (15, 15), (7, 7), (10, 10), (10, 15), (22, 22), (24, 26), (10, 10), (16, 19), (20, 20), (11, 11), (3, 3), (20, 20), (9, 11), (3, 3), (10, 10), (10, 10), (21, 24), (7, 6), (3, 3), (19, 19), (10, 10), (21, 21), (3, 25), (17, 17), (4, 9), (3, 3), (8, 8), (6, 9), (20, 20), (10, 10), (23, 28), (29, 29), (3, 3), (22, 25), (8, 3), (9, 9), (10, 10), (23, 23), (12, 17), (10, 10), (3, 3), (17, 19), (12, 12), (14, 10), (27, 27), (12, 12), (10, 10), (13, 13), (17, 15), (14, 14), (20, 20), (19, 17), (10, 11), (5, 5), (21, 21), (19, 18), (3, 3), (3, 2), (10, 10), (19, 19), (3, 11), (14, 13), (20, 20), (9, 9), (21, 21), (15, 10), (16, 16), (3, 3), (16, 16), (3, 3), (15, 15), (6, 6), (10, 10), (8, 4), (10, 10), (3, 3), (15, 15), (5, 9), (9, 8), (19, 15), (12, 17), (4, 14), (9, 4), (7, 8), (16, 16), (4, 4), (19, 19), (6, 6), (16, 16), (16, 16), (23, 23), (10, 8), (12, 14), (10, 10), (10, 5), (5, 4), (10, 10), (9, 9), (12, 12), (13, 13), (9, 9), (30, 30), (9, 9), (9, 9), (10, 10), (6, 6), (10, 10), (5, 5), (3, 3), (15, 3), (16, 15), (18, 18), (3, 5), (7, 7), (10, 10), (3, 3), (15, 15), (9, 9), (5, 4), (10, 10), (9, 9), (8, 4), (4, 4), (10, 10), (17, 16), (16, 15), (20, 20), (13, 13), (9, 9), (10, 10), (19, 9), (24, 24), (15, 15), (16, 16), (9, 9), (3, 3), (14, 13), (14, 15), (3, 17), (11, 6), (10, 10), (1, 12), (5, 7), (12, 5), (6, 6), (6, 6), (9, 9), (11, 8), (12, 12), (27, 25), (3, 3), (16, 16), (19, 29), (5, 5), (18, 19), (3, 5), (24, 24), (3, 3), (12, 12), (18, 18), (8, 8), (3, 3), (10, 10), (9, 9), (9, 4), (18, 18), (11, 9), (4, 14), (3, 3), (13, 13), (17, 19), (15, 12), (4, 8), (3, 3), (17, 17), (7, 7), (10, 10), (10, 10), (3, 17), (10, 10), (5, 5), (12, 13), (10, 10), (4, 4), (10, 10), (3, 3), (14, 17), (10, 10), (10, 10), (5, 15), (7, 9), (10, 10), (12, 12), (3, 6), (9, 9), (30, 30), (19, 21), (16, 16), (10, 10), (11, 11), (10, 10), (18, 19), (10, 10), (10, 5), (20, 20), (15, 15), (10, 9), (10, 10), (10, 10), (10, 10), (14, 16), (10, 10), (24, 12), (16, 18), (10, 10), (10, 10), (18, 16), (12, 12), (11, 11), (2, 6), (10, 10), (11, 11), (5, 17), (26, 27), (12, 12), (17, 19), (3, 3), (10, 10), (12, 17), (19, 18), (9, 9), (10, 4), (4, 7), (17, 18), (4, 4), (5, 5), (15, 15), (15, 13), (10, 10), (12, 12), (7, 7), (6, 3), (17, 17), (10, 10), (1, 5), (6, 6), (24, 24)]\n"
     ]
    }
   ],
   "source": [
    "#check shapes of input grids\n",
    "shapes = [grid.shape for grid in input_grids]\n",
    "print(\"Shapes of input grids:\", shapes)"
   ]
  },
  {
   "cell_type": "code",
   "execution_count": 14,
   "id": "bdb69cfc",
   "metadata": {
    "execution": {
     "iopub.execute_input": "2024-06-26T19:42:02.465916Z",
     "iopub.status.busy": "2024-06-26T19:42:02.465479Z",
     "iopub.status.idle": "2024-06-26T19:42:02.472184Z",
     "shell.execute_reply": "2024-06-26T19:42:02.470640Z"
    },
    "papermill": {
     "duration": 0.024486,
     "end_time": "2024-06-26T19:42:02.475443",
     "exception": false,
     "start_time": "2024-06-26T19:42:02.450957",
     "status": "completed"
    },
    "tags": []
   },
   "outputs": [],
   "source": [
    "#ensure that all grids have the same shape\n",
    "max_shape = max(shapes, key=lambda x: x[0]*x[1])\n",
    "consistent_shape = tuple(max_shape)"
   ]
  },
  {
   "cell_type": "code",
   "execution_count": 15,
   "id": "47c2c0e5",
   "metadata": {
    "execution": {
     "iopub.execute_input": "2024-06-26T19:42:02.502997Z",
     "iopub.status.busy": "2024-06-26T19:42:02.502239Z",
     "iopub.status.idle": "2024-06-26T19:42:02.542075Z",
     "shell.execute_reply": "2024-06-26T19:42:02.540893Z"
    },
    "papermill": {
     "duration": 0.056501,
     "end_time": "2024-06-26T19:42:02.544805",
     "exception": false,
     "start_time": "2024-06-26T19:42:02.488304",
     "status": "completed"
    },
    "tags": []
   },
   "outputs": [],
   "source": [
    "#pad or resize if necessary\n",
    "processed_grids = []\n",
    "for grid in input_grids:\n",
    "    if grid.shape != consistent_shape:\n",
    "        #determine padding or resizing logic based on dimensions\n",
    "        if grid.shape[0] < consistent_shape[0]:\n",
    "            # Pad rows if current shape is smaller\n",
    "            pad_rows = consistent_shape[0] - grid.shape[0]\n",
    "            pad_cols = consistent_shape[1] - grid.shape[1]\n",
    "            padded_grid = np.pad(grid, ((0, pad_rows), (0, pad_cols)), mode='constant', constant_values=0)\n",
    "        else:\n",
    "            #resize using interpolation if current shape is larger\n",
    "            padded_grid = np.resize(grid, consistent_shape)\n",
    "        \n",
    "        processed_grids.append(padded_grid)\n",
    "    else:\n",
    "        processed_grids.append(grid)"
   ]
  },
  {
   "cell_type": "code",
   "execution_count": 16,
   "id": "76afd27c",
   "metadata": {
    "execution": {
     "iopub.execute_input": "2024-06-26T19:42:02.572590Z",
     "iopub.status.busy": "2024-06-26T19:42:02.572177Z",
     "iopub.status.idle": "2024-06-26T19:42:02.578988Z",
     "shell.execute_reply": "2024-06-26T19:42:02.577832Z"
    },
    "papermill": {
     "duration": 0.024155,
     "end_time": "2024-06-26T19:42:02.581883",
     "exception": false,
     "start_time": "2024-06-26T19:42:02.557728",
     "status": "completed"
    },
    "tags": []
   },
   "outputs": [],
   "source": [
    "#convert to NumPy array\n",
    "X = np.array(processed_grids)"
   ]
  },
  {
   "cell_type": "code",
   "execution_count": 17,
   "id": "bca65896",
   "metadata": {
    "execution": {
     "iopub.execute_input": "2024-06-26T19:42:02.609025Z",
     "iopub.status.busy": "2024-06-26T19:42:02.608607Z",
     "iopub.status.idle": "2024-06-26T19:42:02.617304Z",
     "shell.execute_reply": "2024-06-26T19:42:02.615831Z"
    },
    "papermill": {
     "duration": 0.025417,
     "end_time": "2024-06-26T19:42:02.620030",
     "exception": false,
     "start_time": "2024-06-26T19:42:02.594613",
     "status": "completed"
    },
    "tags": []
   },
   "outputs": [
    {
     "name": "stdout",
     "output_type": "stream",
     "text": [
      "Shape of X: (400, 30, 30)\n",
      "X:\n",
      "[[[7. 0. 7. ... 0. 0. 0.]\n",
      "  [7. 0. 7. ... 0. 0. 0.]\n",
      "  [7. 7. 0. ... 0. 0. 0.]\n",
      "  ...\n",
      "  [0. 0. 0. ... 0. 0. 0.]\n",
      "  [0. 0. 0. ... 0. 0. 0.]\n",
      "  [0. 0. 0. ... 0. 0. 0.]]\n",
      "\n",
      " [[0. 0. 0. ... 0. 0. 0.]\n",
      "  [0. 0. 3. ... 0. 0. 0.]\n",
      "  [0. 3. 0. ... 0. 0. 0.]\n",
      "  ...\n",
      "  [0. 0. 0. ... 0. 0. 0.]\n",
      "  [0. 0. 0. ... 0. 0. 0.]\n",
      "  [0. 0. 0. ... 0. 0. 0.]]\n",
      "\n",
      " [[1. 1. 1. ... 0. 0. 0.]\n",
      "  [0. 1. 0. ... 0. 0. 0.]\n",
      "  [0. 1. 0. ... 0. 0. 0.]\n",
      "  ...\n",
      "  [0. 0. 0. ... 0. 0. 0.]\n",
      "  [0. 0. 0. ... 0. 0. 0.]\n",
      "  [0. 0. 0. ... 0. 0. 0.]]\n",
      "\n",
      " ...\n",
      "\n",
      " [[0. 6. 7. ... 0. 0. 0.]\n",
      "  [0. 0. 0. ... 0. 0. 0.]\n",
      "  [0. 0. 0. ... 0. 0. 0.]\n",
      "  ...\n",
      "  [0. 0. 0. ... 0. 0. 0.]\n",
      "  [0. 0. 0. ... 0. 0. 0.]\n",
      "  [0. 0. 0. ... 0. 0. 0.]]\n",
      "\n",
      " [[0. 0. 0. ... 0. 0. 0.]\n",
      "  [2. 2. 0. ... 0. 0. 0.]\n",
      "  [2. 2. 0. ... 0. 0. 0.]\n",
      "  ...\n",
      "  [0. 0. 0. ... 0. 0. 0.]\n",
      "  [0. 0. 0. ... 0. 0. 0.]\n",
      "  [0. 0. 0. ... 0. 0. 0.]]\n",
      "\n",
      " [[4. 4. 4. ... 0. 0. 0.]\n",
      "  [4. 4. 4. ... 0. 0. 0.]\n",
      "  [4. 4. 0. ... 0. 0. 0.]\n",
      "  ...\n",
      "  [0. 0. 0. ... 0. 0. 0.]\n",
      "  [0. 0. 0. ... 0. 0. 0.]\n",
      "  [0. 0. 0. ... 0. 0. 0.]]]\n"
     ]
    }
   ],
   "source": [
    "#check X shape for all grids\n",
    "print(\"Shape of X:\", X.shape)\n",
    "print(\"X:\")\n",
    "print(X)"
   ]
  },
  {
   "cell_type": "code",
   "execution_count": 18,
   "id": "cd665a72",
   "metadata": {
    "execution": {
     "iopub.execute_input": "2024-06-26T19:42:02.647617Z",
     "iopub.status.busy": "2024-06-26T19:42:02.647223Z",
     "iopub.status.idle": "2024-06-26T19:42:02.654550Z",
     "shell.execute_reply": "2024-06-26T19:42:02.652678Z"
    },
    "papermill": {
     "duration": 0.023807,
     "end_time": "2024-06-26T19:42:02.657149",
     "exception": false,
     "start_time": "2024-06-26T19:42:02.633342",
     "status": "completed"
    },
    "tags": []
   },
   "outputs": [
    {
     "name": "stdout",
     "output_type": "stream",
     "text": [
      "Shapes of output grids (Y): [(9, 9), (20, 20), (9, 3), (10, 10), (21, 21), (3, 3), (7, 7), (11, 10), (26, 26), (9, 9), (11, 11), (12, 12), (11, 27), (6, 6), (9, 9), (3, 3), (21, 21), (24, 19), (12, 10), (10, 10), (5, 3), (3, 3), (8, 11), (12, 11), (19, 26), (5, 3), (10, 10), (10, 10), (8, 9), (10, 10), (4, 6), (5, 5), (17, 17), (9, 9), (10, 10), (4, 4), (10, 10), (1, 5), (3, 3), (10, 10), (10, 10), (10, 10), (10, 10), (10, 10), (10, 10), (3, 8), (9, 9), (1, 1), (3, 3), (12, 13), (16, 11), (3, 3), (3, 3), (30, 30), (17, 15), (1, 1), (3, 6), (18, 18), (11, 11), (5, 11), (18, 18), (10, 10), (14, 14), (19, 21), (6, 6), (13, 13), (5, 5), (10, 10), (10, 10), (17, 17), (16, 16), (6, 5), (5, 5), (30, 30), (9, 13), (14, 15), (17, 18), (10, 10), (3, 3), (29, 29), (7, 7), (6, 12), (6, 8), (10, 10), (11, 20), (12, 12), (3, 3), (8, 10), (13, 13), (4, 24), (10, 4), (20, 20), (14, 14), (15, 15), (9, 9), (11, 11), (17, 14), (17, 19), (10, 10), (2, 2), (17, 21), (12, 12), (1, 1), (9, 9), (13, 13), (6, 6), (25, 25), (20, 20), (12, 12), (29, 29), (3, 3), (18, 14), (10, 6), (5, 4), (1, 4), (6, 4), (15, 15), (19, 22), (12, 12), (14, 13), (3, 3), (7, 17), (10, 10), (10, 10), (15, 15), (7, 11), (7, 11), (15, 15), (3, 3), (3, 3), (4, 18), (9, 8), (19, 30), (3, 3), (3, 3), (10, 10), (28, 28), (12, 10), (9, 9), (3, 3), (17, 17), (6, 6), (10, 10), (4, 4), (13, 16), (3, 3), (5, 5), (21, 12), (3, 3), (3, 3), (12, 12), (6, 6), (3, 3), (15, 15), (7, 7), (10, 10), (10, 15), (22, 22), (14, 14), (10, 10), (16, 19), (20, 20), (11, 11), (3, 6), (20, 20), (9, 11), (3, 3), (10, 10), (10, 10), (4, 4), (7, 6), (6, 3), (19, 19), (3, 4), (21, 21), (3, 25), (7, 8), (1, 5), (3, 3), (4, 4), (6, 9), (20, 20), (6, 6), (3, 3), (3, 3), (3, 3), (22, 25), (4, 3), (6, 6), (10, 10), (23, 23), (12, 17), (10, 10), (6, 6), (9, 9), (12, 12), (14, 10), (27, 27), (12, 12), (10, 10), (6, 8), (17, 15), (14, 14), (20, 20), (10, 8), (10, 11), (2, 2), (21, 21), (14, 18), (6, 3), (9, 4), (10, 10), (7, 7), (3, 11), (14, 13), (9, 10), (9, 9), (3, 3), (15, 10), (16, 16), (21, 21), (16, 16), (9, 9), (15, 15), (6, 6), (10, 10), (4, 4), (10, 10), (3, 3), (15, 15), (5, 18), (9, 8), (8, 12), (12, 17), (3, 3), (4, 4), (7, 8), (7, 7), (6, 5), (19, 19), (6, 6), (3, 3), (16, 16), (4, 4), (10, 8), (12, 14), (4, 3), (10, 5), (5, 8), (10, 10), (9, 9), (12, 12), (4, 4), (9, 9), (30, 30), (9, 9), (4, 4), (10, 10), (2, 2), (10, 10), (5, 5), (3, 3), (3, 3), (9, 9), (18, 18), (3, 5), (7, 7), (10, 10), (12, 12), (15, 15), (3, 3), (5, 4), (10, 10), (3, 3), (16, 16), (4, 4), (10, 10), (17, 16), (16, 15), (20, 20), (13, 13), (9, 9), (10, 10), (19, 9), (24, 24), (15, 15), (16, 16), (9, 9), (12, 12), (6, 6), (1, 1), (3, 17), (11, 6), (10, 10), (6, 12), (3, 3), (12, 5), (6, 6), (6, 6), (4, 3), (11, 8), (12, 12), (27, 25), (9, 9), (16, 16), (19, 29), (10, 10), (7, 7), (3, 5), (6, 6), (3, 6), (12, 12), (18, 18), (8, 8), (9, 9), (3, 3), (9, 9), (4, 4), (4, 3), (11, 9), (4, 4), (3, 3), (13, 13), (17, 19), (5, 5), (2, 2), (6, 6), (17, 17), (7, 7), (10, 10), (10, 10), (3, 17), (10, 10), (3, 3), (12, 13), (10, 10), (4, 4), (10, 10), (1, 5), (14, 17), (10, 10), (10, 10), (5, 15), (7, 9), (10, 10), (1, 1), (3, 3), (9, 9), (30, 30), (19, 21), (5, 5), (10, 10), (11, 11), (10, 10), (1, 1), (10, 10), (10, 5), (20, 20), (15, 15), (10, 4), (10, 10), (10, 10), (10, 10), (14, 16), (6, 3), (12, 12), (16, 18), (10, 10), (10, 10), (18, 16), (12, 12), (5, 11), (2, 6), (10, 10), (11, 11), (17, 17), (9, 9), (12, 12), (17, 19), (3, 3), (10, 10), (12, 17), (19, 18), (6, 10), (10, 4), (4, 3), (17, 18), (8, 8), (5, 5), (15, 15), (3, 1), (10, 10), (3, 1), (3, 3), (3, 3), (8, 8), (10, 10), (20, 20), (3, 3), (5, 5)]\n"
     ]
    }
   ],
   "source": [
    "#check Y shapes\n",
    "shapes_y = [grid.shape for grid in output_grids]\n",
    "print(\"Shapes of output grids (Y):\", shapes_y)"
   ]
  },
  {
   "cell_type": "code",
   "execution_count": 19,
   "id": "449b1563",
   "metadata": {
    "execution": {
     "iopub.execute_input": "2024-06-26T19:42:02.685278Z",
     "iopub.status.busy": "2024-06-26T19:42:02.684854Z",
     "iopub.status.idle": "2024-06-26T19:42:02.690154Z",
     "shell.execute_reply": "2024-06-26T19:42:02.688938Z"
    },
    "papermill": {
     "duration": 0.022579,
     "end_time": "2024-06-26T19:42:02.692634",
     "exception": false,
     "start_time": "2024-06-26T19:42:02.670055",
     "status": "completed"
    },
    "tags": []
   },
   "outputs": [],
   "source": [
    "#determine the maximum Y shape\n",
    "max_shape_y = max(shapes_y, key=lambda x: x[0]*x[1])\n",
    "consistent_shape_y = tuple(max_shape_y)"
   ]
  },
  {
   "cell_type": "code",
   "execution_count": 20,
   "id": "e4a89e9a",
   "metadata": {
    "execution": {
     "iopub.execute_input": "2024-06-26T19:42:02.720525Z",
     "iopub.status.busy": "2024-06-26T19:42:02.720105Z",
     "iopub.status.idle": "2024-06-26T19:42:02.748631Z",
     "shell.execute_reply": "2024-06-26T19:42:02.747447Z"
    },
    "papermill": {
     "duration": 0.045374,
     "end_time": "2024-06-26T19:42:02.751338",
     "exception": false,
     "start_time": "2024-06-26T19:42:02.705964",
     "status": "completed"
    },
    "tags": []
   },
   "outputs": [],
   "source": [
    "#pad or resize\n",
    "processed_grids_y = []\n",
    "for grid_y in output_grids:\n",
    "    if grid_y.shape != consistent_shape_y:\n",
    "        #pad or resize\n",
    "        if grid_y.shape[0] < consistent_shape_y[0] or grid_y.shape[1] < consistent_shape_y[1]:\n",
    "            #pad with zeros to match consistent_shape_y\n",
    "            pad_width = ((0, consistent_shape_y[0] - grid_y.shape[0]), \n",
    "                         (0, consistent_shape_y[1] - grid_y.shape[1]))\n",
    "            padded_grid_y = np.pad(grid_y, pad_width, mode='constant', constant_values=0)\n",
    "        else:\n",
    "            #resize to match consistent_shape_y\n",
    "            padded_grid_y = np.resize(grid_y, consistent_shape_y)\n",
    "\n",
    "        processed_grids_y.append(padded_grid_y)\n",
    "    else:\n",
    "        processed_grids_y.append(grid_y)"
   ]
  },
  {
   "cell_type": "code",
   "execution_count": 21,
   "id": "9dea0039",
   "metadata": {
    "execution": {
     "iopub.execute_input": "2024-06-26T19:42:02.779152Z",
     "iopub.status.busy": "2024-06-26T19:42:02.778726Z",
     "iopub.status.idle": "2024-06-26T19:42:02.785716Z",
     "shell.execute_reply": "2024-06-26T19:42:02.784444Z"
    },
    "papermill": {
     "duration": 0.024013,
     "end_time": "2024-06-26T19:42:02.788292",
     "exception": false,
     "start_time": "2024-06-26T19:42:02.764279",
     "status": "completed"
    },
    "tags": []
   },
   "outputs": [],
   "source": [
    "#convert to NumPy array\n",
    "Y = np.array(processed_grids_y)"
   ]
  },
  {
   "cell_type": "code",
   "execution_count": 22,
   "id": "945ba927",
   "metadata": {
    "execution": {
     "iopub.execute_input": "2024-06-26T19:42:02.815509Z",
     "iopub.status.busy": "2024-06-26T19:42:02.815118Z",
     "iopub.status.idle": "2024-06-26T19:42:02.821678Z",
     "shell.execute_reply": "2024-06-26T19:42:02.820310Z"
    },
    "papermill": {
     "duration": 0.023951,
     "end_time": "2024-06-26T19:42:02.824999",
     "exception": false,
     "start_time": "2024-06-26T19:42:02.801048",
     "status": "completed"
    },
    "tags": []
   },
   "outputs": [
    {
     "name": "stdout",
     "output_type": "stream",
     "text": [
      "Shapes of output grids (Y) after processing: [(30, 30), (30, 30), (30, 30), (30, 30), (30, 30), (30, 30), (30, 30), (30, 30), (30, 30), (30, 30), (30, 30), (30, 30), (30, 30), (30, 30), (30, 30), (30, 30), (30, 30), (30, 30), (30, 30), (30, 30), (30, 30), (30, 30), (30, 30), (30, 30), (30, 30), (30, 30), (30, 30), (30, 30), (30, 30), (30, 30), (30, 30), (30, 30), (30, 30), (30, 30), (30, 30), (30, 30), (30, 30), (30, 30), (30, 30), (30, 30), (30, 30), (30, 30), (30, 30), (30, 30), (30, 30), (30, 30), (30, 30), (30, 30), (30, 30), (30, 30), (30, 30), (30, 30), (30, 30), (30, 30), (30, 30), (30, 30), (30, 30), (30, 30), (30, 30), (30, 30), (30, 30), (30, 30), (30, 30), (30, 30), (30, 30), (30, 30), (30, 30), (30, 30), (30, 30), (30, 30), (30, 30), (30, 30), (30, 30), (30, 30), (30, 30), (30, 30), (30, 30), (30, 30), (30, 30), (30, 30), (30, 30), (30, 30), (30, 30), (30, 30), (30, 30), (30, 30), (30, 30), (30, 30), (30, 30), (30, 30), (30, 30), (30, 30), (30, 30), (30, 30), (30, 30), (30, 30), (30, 30), (30, 30), (30, 30), (30, 30), (30, 30), (30, 30), (30, 30), (30, 30), (30, 30), (30, 30), (30, 30), (30, 30), (30, 30), (30, 30), (30, 30), (30, 30), (30, 30), (30, 30), (30, 30), (30, 30), (30, 30), (30, 30), (30, 30), (30, 30), (30, 30), (30, 30), (30, 30), (30, 30), (30, 30), (30, 30), (30, 30), (30, 30), (30, 30), (30, 30), (30, 30), (30, 30), (30, 30), (30, 30), (30, 30), (30, 30), (30, 30), (30, 30), (30, 30), (30, 30), (30, 30), (30, 30), (30, 30), (30, 30), (30, 30), (30, 30), (30, 30), (30, 30), (30, 30), (30, 30), (30, 30), (30, 30), (30, 30), (30, 30), (30, 30), (30, 30), (30, 30), (30, 30), (30, 30), (30, 30), (30, 30), (30, 30), (30, 30), (30, 30), (30, 30), (30, 30), (30, 30), (30, 30), (30, 30), (30, 30), (30, 30), (30, 30), (30, 30), (30, 30), (30, 30), (30, 30), (30, 30), (30, 30), (30, 30), (30, 30), (30, 30), (30, 30), (30, 30), (30, 30), (30, 30), (30, 30), (30, 30), (30, 30), (30, 30), (30, 30), (30, 30), (30, 30), (30, 30), (30, 30), (30, 30), (30, 30), (30, 30), (30, 30), (30, 30), (30, 30), (30, 30), (30, 30), (30, 30), (30, 30), (30, 30), (30, 30), (30, 30), (30, 30), (30, 30), (30, 30), (30, 30), (30, 30), (30, 30), (30, 30), (30, 30), (30, 30), (30, 30), (30, 30), (30, 30), (30, 30), (30, 30), (30, 30), (30, 30), (30, 30), (30, 30), (30, 30), (30, 30), (30, 30), (30, 30), (30, 30), (30, 30), (30, 30), (30, 30), (30, 30), (30, 30), (30, 30), (30, 30), (30, 30), (30, 30), (30, 30), (30, 30), (30, 30), (30, 30), (30, 30), (30, 30), (30, 30), (30, 30), (30, 30), (30, 30), (30, 30), (30, 30), (30, 30), (30, 30), (30, 30), (30, 30), (30, 30), (30, 30), (30, 30), (30, 30), (30, 30), (30, 30), (30, 30), (30, 30), (30, 30), (30, 30), (30, 30), (30, 30), (30, 30), (30, 30), (30, 30), (30, 30), (30, 30), (30, 30), (30, 30), (30, 30), (30, 30), (30, 30), (30, 30), (30, 30), (30, 30), (30, 30), (30, 30), (30, 30), (30, 30), (30, 30), (30, 30), (30, 30), (30, 30), (30, 30), (30, 30), (30, 30), (30, 30), (30, 30), (30, 30), (30, 30), (30, 30), (30, 30), (30, 30), (30, 30), (30, 30), (30, 30), (30, 30), (30, 30), (30, 30), (30, 30), (30, 30), (30, 30), (30, 30), (30, 30), (30, 30), (30, 30), (30, 30), (30, 30), (30, 30), (30, 30), (30, 30), (30, 30), (30, 30), (30, 30), (30, 30), (30, 30), (30, 30), (30, 30), (30, 30), (30, 30), (30, 30), (30, 30), (30, 30), (30, 30), (30, 30), (30, 30), (30, 30), (30, 30), (30, 30), (30, 30), (30, 30), (30, 30), (30, 30), (30, 30), (30, 30), (30, 30), (30, 30), (30, 30), (30, 30), (30, 30), (30, 30), (30, 30), (30, 30), (30, 30), (30, 30), (30, 30), (30, 30), (30, 30), (30, 30), (30, 30), (30, 30), (30, 30), (30, 30), (30, 30), (30, 30), (30, 30), (30, 30), (30, 30), (30, 30), (30, 30), (30, 30), (30, 30), (30, 30), (30, 30), (30, 30), (30, 30), (30, 30), (30, 30), (30, 30), (30, 30), (30, 30), (30, 30), (30, 30), (30, 30), (30, 30), (30, 30), (30, 30), (30, 30), (30, 30), (30, 30), (30, 30), (30, 30), (30, 30), (30, 30), (30, 30), (30, 30), (30, 30), (30, 30), (30, 30), (30, 30), (30, 30), (30, 30), (30, 30), (30, 30), (30, 30)]\n"
     ]
    }
   ],
   "source": [
    "#check shapes after processing\n",
    "shapes_y_processed = [grid.shape for grid in Y]\n",
    "print(\"Shapes of output grids (Y) after processing:\", shapes_y_processed)"
   ]
  },
  {
   "cell_type": "code",
   "execution_count": 23,
   "id": "39bf6722",
   "metadata": {
    "execution": {
     "iopub.execute_input": "2024-06-26T19:42:02.916582Z",
     "iopub.status.busy": "2024-06-26T19:42:02.916197Z",
     "iopub.status.idle": "2024-06-26T19:42:04.320918Z",
     "shell.execute_reply": "2024-06-26T19:42:04.319908Z"
    },
    "papermill": {
     "duration": 1.484575,
     "end_time": "2024-06-26T19:42:04.323504",
     "exception": false,
     "start_time": "2024-06-26T19:42:02.838929",
     "status": "completed"
    },
    "tags": []
   },
   "outputs": [],
   "source": [
    "#split data into train and test sets\n",
    "from sklearn.model_selection import train_test_split\n",
    "\n",
    "X_train, X_test, Y_train, Y_test = train_test_split(X, Y, test_size=0.2, random_state=42)"
   ]
  },
  {
   "cell_type": "code",
   "execution_count": 24,
   "id": "2608ab4b",
   "metadata": {
    "execution": {
     "iopub.execute_input": "2024-06-26T19:42:04.351146Z",
     "iopub.status.busy": "2024-06-26T19:42:04.350704Z",
     "iopub.status.idle": "2024-06-26T19:42:04.559984Z",
     "shell.execute_reply": "2024-06-26T19:42:04.558709Z"
    },
    "papermill": {
     "duration": 0.226117,
     "end_time": "2024-06-26T19:42:04.562667",
     "exception": false,
     "start_time": "2024-06-26T19:42:04.336550",
     "status": "completed"
    },
    "tags": []
   },
   "outputs": [
    {
     "name": "stdout",
     "output_type": "stream",
     "text": [
      "Sample Task IDs:\n",
      "['007bbfb7', '00d62c1b', '017c7c7b', '025d127b', '045e512c', '0520fde7', '05269061', '05f2a901', '06df4c85', '08ed6ac7']\n"
     ]
    }
   ],
   "source": [
    "#retrieve 10 IDs from training\n",
    "\n",
    "train_challenges_path = '/kaggle/input/arc-prize-2024/arc-agi_training_challenges.json'\n",
    "\n",
    "#load training challenges\n",
    "with open(train_challenges_path, 'r') as f:\n",
    "    train_challenges = json.load(f)\n",
    "\n",
    "#get 10 task IDs\n",
    "sample_task_ids = list(train_challenges.keys())[:10]\n",
    "\n",
    "#print the sample task IDs\n",
    "print(\"Sample Task IDs:\")\n",
    "print(sample_task_ids)"
   ]
  },
  {
   "cell_type": "code",
   "execution_count": 25,
   "id": "dcad7db0",
   "metadata": {
    "execution": {
     "iopub.execute_input": "2024-06-26T19:42:04.592095Z",
     "iopub.status.busy": "2024-06-26T19:42:04.591013Z",
     "iopub.status.idle": "2024-06-26T19:42:04.597411Z",
     "shell.execute_reply": "2024-06-26T19:42:04.596358Z"
    },
    "papermill": {
     "duration": 0.023819,
     "end_time": "2024-06-26T19:42:04.599998",
     "exception": false,
     "start_time": "2024-06-26T19:42:04.576179",
     "status": "completed"
    },
    "tags": []
   },
   "outputs": [
    {
     "name": "stdout",
     "output_type": "stream",
     "text": [
      "Shape of X_train: (320, 30, 30)\n"
     ]
    }
   ],
   "source": [
    "print(f\"Shape of X_train: {X_train.shape}\")"
   ]
  },
  {
   "cell_type": "code",
   "execution_count": 26,
   "id": "b9564ccc",
   "metadata": {
    "execution": {
     "iopub.execute_input": "2024-06-26T19:42:04.628854Z",
     "iopub.status.busy": "2024-06-26T19:42:04.628486Z",
     "iopub.status.idle": "2024-06-26T19:42:04.634201Z",
     "shell.execute_reply": "2024-06-26T19:42:04.632788Z"
    },
    "papermill": {
     "duration": 0.023334,
     "end_time": "2024-06-26T19:42:04.636858",
     "exception": false,
     "start_time": "2024-06-26T19:42:04.613524",
     "status": "completed"
    },
    "tags": []
   },
   "outputs": [
    {
     "name": "stdout",
     "output_type": "stream",
     "text": [
      "Shape of Y_train: (320, 30, 30)\n"
     ]
    }
   ],
   "source": [
    "print(f\"Shape of Y_train: {Y_train.shape}\")"
   ]
  },
  {
   "cell_type": "code",
   "execution_count": 27,
   "id": "70d93c3e",
   "metadata": {
    "execution": {
     "iopub.execute_input": "2024-06-26T19:42:04.665838Z",
     "iopub.status.busy": "2024-06-26T19:42:04.665470Z",
     "iopub.status.idle": "2024-06-26T19:42:04.708474Z",
     "shell.execute_reply": "2024-06-26T19:42:04.707118Z"
    },
    "papermill": {
     "duration": 0.060708,
     "end_time": "2024-06-26T19:42:04.711058",
     "exception": false,
     "start_time": "2024-06-26T19:42:04.650350",
     "status": "completed"
    },
    "tags": []
   },
   "outputs": [
    {
     "name": "stdout",
     "output_type": "stream",
     "text": [
      "Shape of X_train: torch.Size([320, 1, 30, 30])\n",
      "Shape of Y_train: torch.Size([320, 30, 30])\n",
      "Shape of X_test: torch.Size([80, 1, 30, 30])\n",
      "Shape of Y_test: torch.Size([80, 30, 30])\n"
     ]
    }
   ],
   "source": [
    "#ensure Y_train contains values between 0 and 1\n",
    "Y_train = (Y_train > 0).astype(np.float32)  #convert to 0 and 1\n",
    "Y_test = (Y_test > 0).astype(np.float32)    #convert to 0 and 1\n",
    "\n",
    "#reshape inputs to add channel dimension\n",
    "X_train = X_train.reshape(-1, 1, 30, 30).astype(np.float32)  #add channel dimension and convert to float32\n",
    "X_test = X_test.reshape(-1, 1, 30, 30).astype(np.float32)    #add channel dimension and convert to float32\n",
    "\n",
    "#convert to PyTorch tensors\n",
    "X_train = torch.tensor(X_train)\n",
    "Y_train = torch.tensor(Y_train)\n",
    "X_test = torch.tensor(X_test)\n",
    "Y_test = torch.tensor(Y_test)\n",
    "\n",
    "#check shapes\n",
    "print(f\"Shape of X_train: {X_train.shape}\")\n",
    "print(f\"Shape of Y_train: {Y_train.shape}\")\n",
    "print(f\"Shape of X_test: {X_test.shape}\")\n",
    "print(f\"Shape of Y_test: {Y_test.shape}\")"
   ]
  },
  {
   "cell_type": "code",
   "execution_count": 28,
   "id": "4f6ffbd3",
   "metadata": {
    "execution": {
     "iopub.execute_input": "2024-06-26T19:42:04.740060Z",
     "iopub.status.busy": "2024-06-26T19:42:04.739036Z",
     "iopub.status.idle": "2024-06-26T19:42:04.747986Z",
     "shell.execute_reply": "2024-06-26T19:42:04.747021Z"
    },
    "papermill": {
     "duration": 0.026108,
     "end_time": "2024-06-26T19:42:04.750647",
     "exception": false,
     "start_time": "2024-06-26T19:42:04.724539",
     "status": "completed"
    },
    "tags": []
   },
   "outputs": [],
   "source": [
    "from torch.utils.data import TensorDataset\n",
    "#create PyTorch DataLoader\n",
    "train_dataset = TensorDataset(X_train, Y_train)\n",
    "train_loader = DataLoader(train_dataset, batch_size=32, shuffle=True)"
   ]
  },
  {
   "cell_type": "code",
   "execution_count": 29,
   "id": "43850aff",
   "metadata": {
    "execution": {
     "iopub.execute_input": "2024-06-26T19:42:04.780149Z",
     "iopub.status.busy": "2024-06-26T19:42:04.779740Z",
     "iopub.status.idle": "2024-06-26T19:42:04.792160Z",
     "shell.execute_reply": "2024-06-26T19:42:04.790977Z"
    },
    "papermill": {
     "duration": 0.030292,
     "end_time": "2024-06-26T19:42:04.794704",
     "exception": false,
     "start_time": "2024-06-26T19:42:04.764412",
     "status": "completed"
    },
    "tags": []
   },
   "outputs": [],
   "source": [
    "import torch\n",
    "import torch.nn as nn\n",
    "import torch.nn.functional as F\n",
    "\n",
    "class YambiModel(nn.Module):\n",
    "    \"\"\"\n",
    "    YambiModel is a convolutional neural network designed specifically\n",
    "    for solving grid prediction tasks within the context of the ARC.\n",
    "    The model architecture comprises two convolutional layers followed by three fully connected layers.\n",
    "    Convolutional layers are adept at capturing spatial relationships within grid-like data, making them suitable\n",
    "    for tasks involving pattern recognition and prediction. The model utilizes ReLU activation functions\n",
    "    for its hidden layers to introduce non-linearity, enhancing its ability to learn complex patterns.\n",
    "    The output layer employs a sigmoid activation function to constrain predictions between 0 and 1,\n",
    "    ensuring compatibility with ARC's output format.\n",
    "\n",
    "    Attributes:\n",
    "    - conv1 (nn.Conv2d): First convolutional layer.\n",
    "    - conv2 (nn.Conv2d): Second convolutional layer.\n",
    "    - fc1 (nn.Linear): First fully connected layer.\n",
    "    - fc2 (nn.Linear): Second fully connected layer.\n",
    "    - fc3 (nn.Linear): Third fully connected layer.\n",
    "    \"\"\"\n",
    "\n",
    "    def __init__(self):\n",
    "        super(YambiModel, self).__init__()\n",
    "        self.conv1 = nn.Conv2d(1, 32, 3, padding=1)\n",
    "        self.conv2 = nn.Conv2d(32, 64, 3, padding=1)\n",
    "        self.fc1 = nn.Linear(64 * 30 * 30, 128)\n",
    "        self.fc2 = nn.Linear(128, 64)\n",
    "        self.fc3 = nn.Linear(64, 30 * 30)\n",
    "\n",
    "    def forward(self, x):\n",
    "        \"\"\"\n",
    "        Forward pass through the network.\n",
    "\n",
    "        Args:\n",
    "        - x (Tensor): Input tensor of shape (batch_size, 1, height, width).\n",
    "\n",
    "        Returns:\n",
    "        - Tensor: Output tensor of shape (batch_size, 30, 30).\n",
    "        \"\"\"\n",
    "        x = F.relu(self.conv1(x))\n",
    "        x = F.relu(self.conv2(x))\n",
    "        x = x.view(-1, 64 * 30 * 30)  #flatten the tensor\n",
    "        x = F.relu(self.fc1(x))\n",
    "        x = F.relu(self.fc2(x))\n",
    "        x = torch.sigmoid(self.fc3(x))  #apply sigmoid activation for output\n",
    "        x = x.view(-1, 30, 30)  #reshape to (batch_size, 30, 30)\n",
    "        return x\n",
    "\n",
    "    def save_model(self, model_path='/kaggle/working/yambi_model.pth'):\n",
    "        \"\"\"\n",
    "        Save the trained model to a file.\n",
    "\n",
    "        Args:\n",
    "        - model_path (str): File path to save the model.\n",
    "        \"\"\"\n",
    "        torch.save(self.state_dict(), model_path)\n",
    "\n",
    "    def load_model(self, model_path='/kaggle/working/yambi_model.pth'):\n",
    "        \"\"\"\n",
    "        Load a pre-trained model from a file.\n",
    "\n",
    "        Args:\n",
    "        - model_path (str): File path to load the model from.\n",
    "        \"\"\"\n",
    "        self.load_state_dict(torch.load(model_path))\n",
    "        self.eval()\n",
    "\n",
    "    def __repr__(self):\n",
    "        return f'YambiModel()'"
   ]
  },
  {
   "cell_type": "code",
   "execution_count": 30,
   "id": "ddc78911",
   "metadata": {
    "execution": {
     "iopub.execute_input": "2024-06-26T19:42:04.823988Z",
     "iopub.status.busy": "2024-06-26T19:42:04.823056Z",
     "iopub.status.idle": "2024-06-26T19:42:04.841845Z",
     "shell.execute_reply": "2024-06-26T19:42:04.840664Z"
    },
    "papermill": {
     "duration": 0.036382,
     "end_time": "2024-06-26T19:42:04.844507",
     "exception": false,
     "start_time": "2024-06-26T19:42:04.808125",
     "status": "completed"
    },
    "tags": []
   },
   "outputs": [],
   "source": [
    "import torch.optim as optim\n",
    "\n",
    "class ARCTrainer:\n",
    "    \"\"\"\n",
    "    ARCTrainer: Class to train and evaluate YambiModel.\n",
    "\n",
    "    Attributes:\n",
    "    - model (YambiModel): Instance of YambiModel for training.\n",
    "    - train_loader (torch.utils.data.DataLoader): DataLoader for training data.\n",
    "    - criterion (torch.nn.modules.loss): Loss function for training.\n",
    "    - optimizer (torch.optim): Optimizer for training.\n",
    "    - device (str): Device to run training on ('cpu' or 'cuda').\n",
    "    \"\"\"\n",
    "\n",
    "    def __init__(self, model, train_loader, device='cpu', learning_rate=0.001):\n",
    "        \"\"\"\n",
    "        Initialize ARCTrainer with model, data loader, and device for training.\n",
    "\n",
    "        Args:\n",
    "        - model (YambiModel): Instance of YambiModel for training.\n",
    "        - train_loader (torch.utils.data.DataLoader): DataLoader for training data.\n",
    "        - device (str): Device to run training on ('cpu' or 'cuda') (default: 'cpu').\n",
    "        - learning_rate (float): Learning rate for optimizer (default: 0.001).\n",
    "        \"\"\"\n",
    "        self.model = model\n",
    "        self.train_loader = train_loader\n",
    "        self.device = device\n",
    "\n",
    "        #move model to device\n",
    "        self.model.to(self.device)\n",
    "\n",
    "        #define loss function and optimizer\n",
    "        self.criterion = nn.BCELoss()  #Binary Cross Entropy Loss for binary classification\n",
    "        self.optimizer = optim.Adam(self.model.parameters(), lr=learning_rate)\n",
    "\n",
    "    def train(self, num_epochs=10):\n",
    "        \"\"\"\n",
    "        Train the YambiModel on the ARC training data.\n",
    "\n",
    "        Args:\n",
    "        - num_epochs (int): Number of epochs to train (default: 10).\n",
    "        \"\"\"\n",
    "        self.model.train()  #set model to training mode\n",
    "\n",
    "        for epoch in range(num_epochs):\n",
    "            running_loss = 0.0\n",
    "            for inputs, targets in self.train_loader:\n",
    "                #move data to device\n",
    "                inputs, targets = inputs.to(self.device), targets.to(self.device)\n",
    "\n",
    "                #zero the gradients\n",
    "                self.optimizer.zero_grad()\n",
    "\n",
    "                #forward pass\n",
    "                outputs = self.model(inputs)\n",
    "                loss = self.criterion(outputs, targets)\n",
    "\n",
    "                #backward pass and optimize\n",
    "                loss.backward()\n",
    "                self.optimizer.step()\n",
    "\n",
    "                #track loss\n",
    "                running_loss += loss.item()\n",
    "\n",
    "            #print epoch loss\n",
    "            print(f\"Epoch [{epoch+1}/{num_epochs}], Loss: {running_loss/len(self.train_loader):.4f}\")\n",
    "\n",
    "            #compute and print evaluation metrics on the training set\n",
    "            self.evaluate_train_set()\n",
    "\n",
    "    def evaluate_train_set(self):\n",
    "        \"\"\"\n",
    "        Evaluate the model on the training set and print evaluation metrics.\n",
    "        \"\"\"\n",
    "        predictions, targets = self.predict(self.train_loader)\n",
    "        self.print_metrics(predictions, targets, title=\"Training Set Metrics\")\n",
    "\n",
    "    def predict(self, data_loader):\n",
    "        \"\"\"\n",
    "        Predict outputs for a given data loader.\n",
    "\n",
    "        Args:\n",
    "        - data_loader (torch.utils.data.DataLoader): DataLoader for prediction.\n",
    "\n",
    "        Returns:\n",
    "        - predictions (torch.Tensor): Model predictions.\n",
    "        - targets (torch.Tensor): Ground truth labels.\n",
    "        \"\"\"\n",
    "        self.model.eval()  #set model to evaluation mode\n",
    "        predictions = []\n",
    "        targets = []\n",
    "        \n",
    "        with torch.no_grad():\n",
    "            for inputs, labels in data_loader:\n",
    "                inputs = inputs.to(self.device)\n",
    "                outputs = self.model(inputs)\n",
    "                predictions.append(outputs.cpu())\n",
    "                targets.append(labels)\n",
    "\n",
    "        predictions = torch.cat(predictions, dim=0)\n",
    "        targets = torch.cat(targets, dim=0)\n",
    "        \n",
    "        return predictions, targets\n",
    "\n",
    "    def print_metrics(self, predictions, targets, title=\"Metrics\"):\n",
    "        \"\"\"\n",
    "        Compute and print evaluation metrics: accuracy, precision, recall, and F1-score.\n",
    "\n",
    "        Args:\n",
    "        - predictions (torch.Tensor): Model predictions.\n",
    "        - targets (torch.Tensor): Ground truth labels.\n",
    "        - title (str): Title for the metrics printout (default: \"Metrics\").\n",
    "        \"\"\"\n",
    "        predictions = (predictions > 0.5).float()  #convert to binary predictions\n",
    "        correct = (predictions == targets).float()\n",
    "        \n",
    "        accuracy = correct.mean().item()\n",
    "        precision = torch.true_divide((predictions * targets).sum(), predictions.sum() + 1e-7).item()\n",
    "        recall = torch.true_divide((predictions * targets).sum(), targets.sum() + 1e-7).item()\n",
    "        f1_score = 2 * (precision * recall) / (precision + recall + 1e-7)\n",
    "\n",
    "        print(f\"{title}:\")\n",
    "        print(f\"  Accuracy: {accuracy:.4f}\")\n",
    "        print(f\"  Precision: {precision:.4f}\")\n",
    "        print(f\"  Recall: {recall:.4f}\")\n",
    "        print(f\"  F1-score: {f1_score:.4f}\")\n",
    "\n",
    "    def save_model(self, model_path='yambi_model.pth'):\n",
    "        \"\"\"\n",
    "        Save the trained model to a file.\n",
    "\n",
    "        Args:\n",
    "        - model_path (str): File path to save the model (default: 'yambi_model.pth').\n",
    "        \"\"\"\n",
    "        torch.save(self.model.state_dict(), model_path)\n",
    "\n",
    "    def load_model(self, model_path='yambi_model.pth'):\n",
    "        \"\"\"\n",
    "        Load a pre-trained model from a file.\n",
    "\n",
    "        Args:\n",
    "        - model_path (str): File path to load the model from (default: 'yambi_model.pth').\n",
    "        \"\"\"\n",
    "        self.model.load_state_dict(torch.load(model_path, map_location=self.device))\n",
    "        self.model.eval()  #set model to evaluation mode after loading"
   ]
  },
  {
   "cell_type": "code",
   "execution_count": 31,
   "id": "95b450ba",
   "metadata": {
    "execution": {
     "iopub.execute_input": "2024-06-26T19:42:04.873271Z",
     "iopub.status.busy": "2024-06-26T19:42:04.872860Z",
     "iopub.status.idle": "2024-06-26T19:42:04.881433Z",
     "shell.execute_reply": "2024-06-26T19:42:04.880269Z"
    },
    "papermill": {
     "duration": 0.02604,
     "end_time": "2024-06-26T19:42:04.884448",
     "exception": false,
     "start_time": "2024-06-26T19:42:04.858408",
     "status": "completed"
    },
    "tags": []
   },
   "outputs": [],
   "source": [
    "class ARCModelDeployer:\n",
    "    \"\"\"\n",
    "    ARCModelDeployer: Class to deploy YambiModel for making predictions.\n",
    "\n",
    "    Attributes:\n",
    "    - model (YambiModel): YambiModel instance for making predictions.\n",
    "    - device (str): Device ('cpu' or 'cuda') on which the model is deployed.\n",
    "    \"\"\"\n",
    "\n",
    "    def __init__(self, model, device='cpu'):\n",
    "        \"\"\"\n",
    "        Initialize ARCModelDeployer with a YambiModel instance.\n",
    "\n",
    "        Args:\n",
    "        - model (YambiModel): Instance of YambiModel for making predictions.\n",
    "        - device (str): Device to deploy the model on, 'cpu' or 'cuda' (default: 'cpu').\n",
    "        \"\"\"\n",
    "        self.model = model\n",
    "        self.device = device\n",
    "        self.model.to(device)\n",
    "        self.model.eval()\n",
    "\n",
    "    def predict(self, input_data):\n",
    "        \"\"\"\n",
    "        Make predictions using the deployed YambiModel.\n",
    "\n",
    "        Args:\n",
    "        - input_data (np.ndarray or torch.Tensor): Input data for predictions.\n",
    "\n",
    "        Returns:\n",
    "        - np.ndarray: Predicted outputs for the input data.\n",
    "        \"\"\"\n",
    "        if isinstance(input_data, np.ndarray):\n",
    "            input_data = torch.from_numpy(input_data).float()\n",
    "        input_data = input_data.to(self.device)\n",
    "        with torch.no_grad():\n",
    "            outputs = self.model(input_data)\n",
    "        return outputs.cpu().numpy()"
   ]
  },
  {
   "cell_type": "code",
   "execution_count": 32,
   "id": "225ee79a",
   "metadata": {
    "execution": {
     "iopub.execute_input": "2024-06-26T19:42:04.912956Z",
     "iopub.status.busy": "2024-06-26T19:42:04.912497Z",
     "iopub.status.idle": "2024-06-26T19:42:04.920991Z",
     "shell.execute_reply": "2024-06-26T19:42:04.919858Z"
    },
    "papermill": {
     "duration": 0.025396,
     "end_time": "2024-06-26T19:42:04.923303",
     "exception": false,
     "start_time": "2024-06-26T19:42:04.897907",
     "status": "completed"
    },
    "tags": []
   },
   "outputs": [],
   "source": [
    "class ARCDataLoader:\n",
    "    \"\"\"\n",
    "    ARCDataLoader: Class to load and preprocess ARC data for training YambiModel.\n",
    "\n",
    "    Attributes:\n",
    "    - X_train (np.ndarray): Training input data (grids).\n",
    "    - Y_train (np.ndarray): Training output data (grids).\n",
    "    - X_test (np.ndarray): Test input data (grids).\n",
    "    - Y_test (np.ndarray): Test output data (grids).\n",
    "    - batch_size (int): Size of mini-batches for training.\n",
    "    \"\"\"\n",
    "\n",
    "    def __init__(self, X_train, Y_train, X_test, Y_test, batch_size=32):\n",
    "        \"\"\"\n",
    "        Initialize ARCDataLoader with training and test data.\n",
    "\n",
    "        Args:\n",
    "        - X_train (np.ndarray): Training input data (grids).\n",
    "        - Y_train (np.ndarray): Training output data (grids).\n",
    "        - X_test (np.ndarray): Test input data (grids).\n",
    "        - Y_test (np.ndarray): Test output data (grids).\n",
    "        - batch_size (int): Size of mini-batches for training (default: 32).\n",
    "        \"\"\"\n",
    "        self.X_train = X_train\n",
    "        self.Y_train = Y_train\n",
    "        self.X_test = X_test\n",
    "        self.Y_test = Y_test\n",
    "        self.batch_size = batch_size\n",
    "\n",
    "    def get_train_loader(self):\n",
    "        \"\"\"\n",
    "        Create and return a DataLoader for training data.\n",
    "\n",
    "        Returns:\n",
    "        - torch.utils.data.DataLoader: DataLoader for training data.\n",
    "        \"\"\"\n",
    "        train_dataset = torch.utils.data.TensorDataset(torch.from_numpy(self.X_train).float(),\n",
    "                                                       torch.from_numpy(self.Y_train).float())\n",
    "        train_loader = torch.utils.data.DataLoader(train_dataset, batch_size=self.batch_size, shuffle=True)\n",
    "        return train_loader\n",
    "\n",
    "    def get_test_data(self):\n",
    "        \"\"\"\n",
    "        Get test data in numpy arrays.\n",
    "\n",
    "        Returns:\n",
    "        - np.ndarray: Test input data (X_test).\n",
    "        - np.ndarray: Test output data (Y_test).\n",
    "        \"\"\"\n",
    "        return self.X_test, self.Y_test"
   ]
  },
  {
   "cell_type": "code",
   "execution_count": 33,
   "id": "2c6e666b",
   "metadata": {
    "execution": {
     "iopub.execute_input": "2024-06-26T19:42:04.951656Z",
     "iopub.status.busy": "2024-06-26T19:42:04.951274Z",
     "iopub.status.idle": "2024-06-26T19:42:04.962459Z",
     "shell.execute_reply": "2024-06-26T19:42:04.961358Z"
    },
    "papermill": {
     "duration": 0.028329,
     "end_time": "2024-06-26T19:42:04.965006",
     "exception": false,
     "start_time": "2024-06-26T19:42:04.936677",
     "status": "completed"
    },
    "tags": []
   },
   "outputs": [],
   "source": [
    "#convert data into PyTorch TensorDataset\n",
    "train_dataset = TensorDataset(torch.Tensor(X_train), torch.Tensor(Y_train))"
   ]
  },
  {
   "cell_type": "code",
   "execution_count": 34,
   "id": "55eb2942",
   "metadata": {
    "execution": {
     "iopub.execute_input": "2024-06-26T19:42:04.994348Z",
     "iopub.status.busy": "2024-06-26T19:42:04.993246Z",
     "iopub.status.idle": "2024-06-26T19:42:04.999682Z",
     "shell.execute_reply": "2024-06-26T19:42:04.998509Z"
    },
    "papermill": {
     "duration": 0.02344,
     "end_time": "2024-06-26T19:42:05.002003",
     "exception": false,
     "start_time": "2024-06-26T19:42:04.978563",
     "status": "completed"
    },
    "tags": []
   },
   "outputs": [],
   "source": [
    "#create DataLoaders for training and test\n",
    "batch_size = 32\n",
    "train_loader = DataLoader(train_dataset, batch_size=batch_size, shuffle=True)"
   ]
  },
  {
   "cell_type": "code",
   "execution_count": 35,
   "id": "fd255550",
   "metadata": {
    "execution": {
     "iopub.execute_input": "2024-06-26T19:42:05.031834Z",
     "iopub.status.busy": "2024-06-26T19:42:05.031462Z",
     "iopub.status.idle": "2024-06-26T19:42:06.637334Z",
     "shell.execute_reply": "2024-06-26T19:42:06.636101Z"
    },
    "papermill": {
     "duration": 1.623444,
     "end_time": "2024-06-26T19:42:06.639832",
     "exception": false,
     "start_time": "2024-06-26T19:42:05.016388",
     "status": "completed"
    },
    "tags": []
   },
   "outputs": [],
   "source": [
    "#instantiate the YambiModel, criterion, and optimizer\n",
    "model = YambiModel()\n",
    "device = torch.device(\"cuda\" if torch.cuda.is_available() else \"cpu\")\n",
    "model.to(device)\n",
    "\n",
    "criterion = nn.BCELoss()\n",
    "optimizer = optim.Adam(model.parameters(), lr=0.001)"
   ]
  },
  {
   "cell_type": "code",
   "execution_count": 36,
   "id": "a458cc68",
   "metadata": {
    "execution": {
     "iopub.execute_input": "2024-06-26T19:42:06.668897Z",
     "iopub.status.busy": "2024-06-26T19:42:06.668378Z",
     "iopub.status.idle": "2024-06-26T19:42:06.676185Z",
     "shell.execute_reply": "2024-06-26T19:42:06.675008Z"
    },
    "papermill": {
     "duration": 0.025212,
     "end_time": "2024-06-26T19:42:06.678660",
     "exception": false,
     "start_time": "2024-06-26T19:42:06.653448",
     "status": "completed"
    },
    "tags": []
   },
   "outputs": [],
   "source": [
    "#instantiate ARCTrainer with train_loader\n",
    "trainer = ARCTrainer(model, train_loader=train_loader)"
   ]
  },
  {
   "cell_type": "code",
   "execution_count": 37,
   "id": "9dfe1fe6",
   "metadata": {
    "execution": {
     "iopub.execute_input": "2024-06-26T19:42:06.707611Z",
     "iopub.status.busy": "2024-06-26T19:42:06.707232Z",
     "iopub.status.idle": "2024-06-26T19:42:17.319810Z",
     "shell.execute_reply": "2024-06-26T19:42:17.318714Z"
    },
    "papermill": {
     "duration": 10.629871,
     "end_time": "2024-06-26T19:42:17.322445",
     "exception": false,
     "start_time": "2024-06-26T19:42:06.692574",
     "status": "completed"
    },
    "tags": []
   },
   "outputs": [
    {
     "name": "stdout",
     "output_type": "stream",
     "text": [
      "Epoch [1/10], Loss: 0.6640\n",
      "Epoch [2/10], Loss: 0.4757\n",
      "Epoch [3/10], Loss: 0.2813\n",
      "Epoch [4/10], Loss: 0.1884\n",
      "Epoch [5/10], Loss: 0.1646\n",
      "Epoch [6/10], Loss: 0.1575\n",
      "Epoch [7/10], Loss: 0.1502\n",
      "Epoch [8/10], Loss: 0.1433\n",
      "Epoch [9/10], Loss: 0.1359\n",
      "Epoch [10/10], Loss: 0.1271\n"
     ]
    }
   ],
   "source": [
    "def train_model(model, train_loader, criterion, optimizer, num_epochs=10):\n",
    "    model.train()\n",
    "    for epoch in range(num_epochs):\n",
    "        running_loss = 0.0\n",
    "        for inputs, targets in train_loader:\n",
    "            inputs, targets = inputs.to(device), targets.to(device)\n",
    "            optimizer.zero_grad()\n",
    "            outputs = model(inputs)\n",
    "            loss = criterion(outputs, targets)\n",
    "            loss.backward()\n",
    "            optimizer.step()\n",
    "            running_loss += loss.item()\n",
    "        print(f\"Epoch [{epoch+1}/{num_epochs}], Loss: {running_loss/len(train_loader):.4f}\")\n",
    "    model.save_model()\n",
    "\n",
    "#train the model\n",
    "train_model(model, train_loader, criterion, optimizer)"
   ]
  },
  {
   "cell_type": "code",
   "execution_count": 38,
   "id": "79fc5fb6",
   "metadata": {
    "execution": {
     "iopub.execute_input": "2024-06-26T19:42:17.353215Z",
     "iopub.status.busy": "2024-06-26T19:42:17.352789Z",
     "iopub.status.idle": "2024-06-26T19:42:17.359701Z",
     "shell.execute_reply": "2024-06-26T19:42:17.358442Z"
    },
    "papermill": {
     "duration": 0.025506,
     "end_time": "2024-06-26T19:42:17.362154",
     "exception": false,
     "start_time": "2024-06-26T19:42:17.336648",
     "status": "completed"
    },
    "tags": []
   },
   "outputs": [],
   "source": [
    "def predict(model, data_loader, device='cpu'):\n",
    "    model.eval()\n",
    "    all_outputs = []\n",
    "    with torch.no_grad():\n",
    "        for inputs in data_loader:\n",
    "            inputs = inputs[0].to(device)  #extract tensor from list\n",
    "            outputs = model(inputs)\n",
    "            all_outputs.append(outputs.cpu().numpy())\n",
    "    return np.concatenate(all_outputs)"
   ]
  },
  {
   "cell_type": "code",
   "execution_count": 39,
   "id": "21a58805",
   "metadata": {
    "execution": {
     "iopub.execute_input": "2024-06-26T19:42:17.391667Z",
     "iopub.status.busy": "2024-06-26T19:42:17.391293Z",
     "iopub.status.idle": "2024-06-26T19:42:17.398076Z",
     "shell.execute_reply": "2024-06-26T19:42:17.396788Z"
    },
    "papermill": {
     "duration": 0.024249,
     "end_time": "2024-06-26T19:42:17.400501",
     "exception": false,
     "start_time": "2024-06-26T19:42:17.376252",
     "status": "completed"
    },
    "tags": []
   },
   "outputs": [],
   "source": [
    "from sklearn.metrics import accuracy_score, precision_score, recall_score, f1_score\n",
    "#calculate metrics\n",
    "def calculate_metrics(predictions, targets):\n",
    "    predictions = (predictions > 0.5).astype(int).flatten()\n",
    "    targets = targets.flatten()  # Changed line\n",
    "    accuracy = accuracy_score(targets, predictions)\n",
    "    precision = precision_score(targets, predictions, average='binary') \n",
    "    recall = recall_score(targets, predictions, average='binary')\n",
    "    f1 = f1_score(targets, predictions, average='binary') \n",
    "    return accuracy, precision, recall, f1"
   ]
  },
  {
   "cell_type": "code",
   "execution_count": 40,
   "id": "054e229a",
   "metadata": {
    "execution": {
     "iopub.execute_input": "2024-06-26T19:42:17.430394Z",
     "iopub.status.busy": "2024-06-26T19:42:17.429897Z",
     "iopub.status.idle": "2024-06-26T19:42:17.436659Z",
     "shell.execute_reply": "2024-06-26T19:42:17.435360Z"
    },
    "papermill": {
     "duration": 0.024606,
     "end_time": "2024-06-26T19:42:17.439045",
     "exception": false,
     "start_time": "2024-06-26T19:42:17.414439",
     "status": "completed"
    },
    "tags": []
   },
   "outputs": [],
   "source": [
    "#format the output\n",
    "def format_output(ids, predictions):\n",
    "    formatted_output = {}\n",
    "    for idx, id_val in enumerate(ids):\n",
    "        pred = predictions[idx].astype(int).tolist()\n",
    "        formatted_output[id_val] = [{\"attempt_1\": pred, \"attempt_2\": pred}]\n",
    "    return formatted_output"
   ]
  },
  {
   "cell_type": "code",
   "execution_count": 41,
   "id": "d206afa7",
   "metadata": {
    "execution": {
     "iopub.execute_input": "2024-06-26T19:42:17.469285Z",
     "iopub.status.busy": "2024-06-26T19:42:17.468890Z",
     "iopub.status.idle": "2024-06-26T19:42:17.475043Z",
     "shell.execute_reply": "2024-06-26T19:42:17.473377Z"
    },
    "papermill": {
     "duration": 0.024865,
     "end_time": "2024-06-26T19:42:17.478499",
     "exception": false,
     "start_time": "2024-06-26T19:42:17.453634",
     "status": "completed"
    },
    "tags": []
   },
   "outputs": [],
   "source": [
    "#prepare the test dataset and DataLoader\n",
    "test_dataset = TensorDataset(X_test)\n",
    "test_loader = DataLoader(test_dataset, batch_size=32, shuffle=False)"
   ]
  },
  {
   "cell_type": "code",
   "execution_count": 42,
   "id": "74e2830f",
   "metadata": {
    "execution": {
     "iopub.execute_input": "2024-06-26T19:42:17.509033Z",
     "iopub.status.busy": "2024-06-26T19:42:17.507964Z",
     "iopub.status.idle": "2024-06-26T19:42:17.567732Z",
     "shell.execute_reply": "2024-06-26T19:42:17.566614Z"
    },
    "papermill": {
     "duration": 0.077941,
     "end_time": "2024-06-26T19:42:17.570874",
     "exception": false,
     "start_time": "2024-06-26T19:42:17.492933",
     "status": "completed"
    },
    "tags": []
   },
   "outputs": [],
   "source": [
    "#predict the output for the test dataset\n",
    "predictions = predict(model, test_loader, device=device)"
   ]
  },
  {
   "cell_type": "code",
   "execution_count": 43,
   "id": "743a63de",
   "metadata": {
    "execution": {
     "iopub.execute_input": "2024-06-26T19:42:17.600491Z",
     "iopub.status.busy": "2024-06-26T19:42:17.600045Z",
     "iopub.status.idle": "2024-06-26T19:42:17.710187Z",
     "shell.execute_reply": "2024-06-26T19:42:17.708983Z"
    },
    "papermill": {
     "duration": 0.128208,
     "end_time": "2024-06-26T19:42:17.712982",
     "exception": false,
     "start_time": "2024-06-26T19:42:17.584774",
     "status": "completed"
    },
    "tags": []
   },
   "outputs": [],
   "source": [
    "#calculate metrics\n",
    "accuracy, precision, recall, f1 = calculate_metrics(predictions, Y_test.numpy())"
   ]
  },
  {
   "cell_type": "code",
   "execution_count": 44,
   "id": "b3c49135",
   "metadata": {
    "execution": {
     "iopub.execute_input": "2024-06-26T19:42:17.743332Z",
     "iopub.status.busy": "2024-06-26T19:42:17.742925Z",
     "iopub.status.idle": "2024-06-26T19:42:17.749582Z",
     "shell.execute_reply": "2024-06-26T19:42:17.748372Z"
    },
    "papermill": {
     "duration": 0.024569,
     "end_time": "2024-06-26T19:42:17.751844",
     "exception": false,
     "start_time": "2024-06-26T19:42:17.727275",
     "status": "completed"
    },
    "tags": []
   },
   "outputs": [
    {
     "name": "stdout",
     "output_type": "stream",
     "text": [
      "ARC Score Metrics:\n",
      "  Accuracy: 0.9393\n",
      "  Precision: 0.5021\n",
      "  Recall: 0.3303\n",
      "  F1-score: 0.3985\n"
     ]
    }
   ],
   "source": [
    "#print metrics\n",
    "print(f\"ARC Score Metrics:\")\n",
    "print(f\"  Accuracy: {accuracy:.4f}\")\n",
    "print(f\"  Precision: {precision:.4f}\")\n",
    "print(f\"  Recall: {recall:.4f}\")\n",
    "print(f\"  F1-score: {f1:.4f}\")"
   ]
  },
  {
   "cell_type": "code",
   "execution_count": 45,
   "id": "2f435d7d",
   "metadata": {
    "execution": {
     "iopub.execute_input": "2024-06-26T19:42:17.781528Z",
     "iopub.status.busy": "2024-06-26T19:42:17.781139Z",
     "iopub.status.idle": "2024-06-26T19:42:17.786908Z",
     "shell.execute_reply": "2024-06-26T19:42:17.785655Z"
    },
    "papermill": {
     "duration": 0.023307,
     "end_time": "2024-06-26T19:42:17.789169",
     "exception": false,
     "start_time": "2024-06-26T19:42:17.765862",
     "status": "completed"
    },
    "tags": []
   },
   "outputs": [],
   "source": [
    "#format the output\n",
    "ids = ['007bbfb7', '00d62c1b', '017c7c7b', '025d127b', '045e512c', '0520fde7', '05269061', '05f2a901', '06df4c85', '08ed6ac7']\n",
    "formatted_output = format_output(ids, predictions)"
   ]
  },
  {
   "cell_type": "code",
   "execution_count": 46,
   "id": "9f29f6e2",
   "metadata": {
    "execution": {
     "iopub.execute_input": "2024-06-26T19:42:17.818976Z",
     "iopub.status.busy": "2024-06-26T19:42:17.818590Z",
     "iopub.status.idle": "2024-06-26T19:42:17.827753Z",
     "shell.execute_reply": "2024-06-26T19:42:17.826578Z"
    },
    "papermill": {
     "duration": 0.028904,
     "end_time": "2024-06-26T19:42:17.832116",
     "exception": false,
     "start_time": "2024-06-26T19:42:17.803212",
     "status": "completed"
    },
    "tags": []
   },
   "outputs": [
    {
     "name": "stdout",
     "output_type": "stream",
     "text": [
      "Formatted Output:\n",
      "{'007bbfb7': [{'attempt_1': [[0, 0, 0, 0, 0, 0, 0, 0, 0, 0, 0, 0, 0, 0, 0, 0, 0, 0, 0, 0, 0, 0, 0, 0, 0, 0, 0, 0, 0, 0], [0, 0, 0, 0, 0, 0, 0, 0, 0, 0, 0, 0, 0, 0, 0, 0, 0, 0, 0, 0, 0, 0, 0, 0, 0, 0, 0, 0, 0, 0], [0, 0, 0, 0, 0, 0, 0, 0, 0, 0, 0, 0, 0, 0, 0, 0, 0, 0, 0, 0, 0, 0, 0, 0, 0, 0, 0, 0, 0, 0], [0, 0, 0, 0, 0, 0, 0, 0, 0, 0, 0, 0, 0, 0, 0, 0, 0, 0, 0, 0, 0, 0, 0, 0, 0, 0, 0, 0, 0, 0], [0, 0, 0, 0, 0, 0, 0, 0, 0, 0, 0, 0, 0, 0, 0, 0, 0, 0, 0, 0, 0, 0, 0, 0, 0, 0, 0, 0, 0, 0], [0, 0, 0, 0, 0, 0, 0, 0, 0, 0, 0, 0, 0, 0, 0, 0, 0, 0, 0, 0, 0, 0, 0, 0, 0, 0, 0, 0, 0, 0], [0, 0, 0, 0, 0, 0, 0, 0, 0, 0, 0, 0, 0, 0, 0, 0, 0, 0, 0, 0, 0, 0, 0, 0, 0, 0, 0, 0, 0, 0], [0, 0, 0, 0, 0, 0, 0, 0, 0, 0, 0, 0, 0, 0, 0, 0, 0, 0, 0, 0, 0, 0, 0, 0, 0, 0, 0, 0, 0, 0], [0, 0, 0, 0, 0, 0, 0, 0, 0, 0, 0, 0, 0, 0, 0, 0, 0, 0, 0, 0, 0, 0, 0, 0, 0, 0, 0, 0, 0, 0], [0, 0, 0, 0, 0, 0, 0, 0, 0, 0, 0, 0, 0, 0, 0, 0, 0, 0, 0, 0, 0, 0, 0, 0, 0, 0, 0, 0, 0, 0], [0, 0, 0, 0, 0, 0, 0, 0, 0, 0, 0, 0, 0, 0, 0, 0, 0, 0, 0, 0, 0, 0, 0, 0, 0, 0, 0, 0, 0, 0], [0, 0, 0, 0, 0, 0, 0, 0, 0, 0, 0, 0, 0, 0, 0, 0, 0, 0, 0, 0, 0, 0, 0, 0, 0, 0, 0, 0, 0, 0], [0, 0, 0, 0, 0, 0, 0, 0, 0, 0, 0, 0, 0, 0, 0, 0, 0, 0, 0, 0, 0, 0, 0, 0, 0, 0, 0, 0, 0, 0], [0, 0, 0, 0, 0, 0, 0, 0, 0, 0, 0, 0, 0, 0, 0, 0, 0, 0, 0, 0, 0, 0, 0, 0, 0, 0, 0, 0, 0, 0], [0, 0, 0, 0, 0, 0, 0, 0, 0, 0, 0, 0, 0, 0, 0, 0, 0, 0, 0, 0, 0, 0, 0, 0, 0, 0, 0, 0, 0, 0], [0, 0, 0, 0, 0, 0, 0, 0, 0, 0, 0, 0, 0, 0, 0, 0, 0, 0, 0, 0, 0, 0, 0, 0, 0, 0, 0, 0, 0, 0], [0, 0, 0, 0, 0, 0, 0, 0, 0, 0, 0, 0, 0, 0, 0, 0, 0, 0, 0, 0, 0, 0, 0, 0, 0, 0, 0, 0, 0, 0], [0, 0, 0, 0, 0, 0, 0, 0, 0, 0, 0, 0, 0, 0, 0, 0, 0, 0, 0, 0, 0, 0, 0, 0, 0, 0, 0, 0, 0, 0], [0, 0, 0, 0, 0, 0, 0, 0, 0, 0, 0, 0, 0, 0, 0, 0, 0, 0, 0, 0, 0, 0, 0, 0, 0, 0, 0, 0, 0, 0], [0, 0, 0, 0, 0, 0, 0, 0, 0, 0, 0, 0, 0, 0, 0, 0, 0, 0, 0, 0, 0, 0, 0, 0, 0, 0, 0, 0, 0, 0], [0, 0, 0, 0, 0, 0, 0, 0, 0, 0, 0, 0, 0, 0, 0, 0, 0, 0, 0, 0, 0, 0, 0, 0, 0, 0, 0, 0, 0, 0], [0, 0, 0, 0, 0, 0, 0, 0, 0, 0, 0, 0, 0, 0, 0, 0, 0, 0, 0, 0, 0, 0, 0, 0, 0, 0, 0, 0, 0, 0], [0, 0, 0, 0, 0, 0, 0, 0, 0, 0, 0, 0, 0, 0, 0, 0, 0, 0, 0, 0, 0, 0, 0, 0, 0, 0, 0, 0, 0, 0], [0, 0, 0, 0, 0, 0, 0, 0, 0, 0, 0, 0, 0, 0, 0, 0, 0, 0, 0, 0, 0, 0, 0, 0, 0, 0, 0, 0, 0, 0], [0, 0, 0, 0, 0, 0, 0, 0, 0, 0, 0, 0, 0, 0, 0, 0, 0, 0, 0, 0, 0, 0, 0, 0, 0, 0, 0, 0, 0, 0], [0, 0, 0, 0, 0, 0, 0, 0, 0, 0, 0, 0, 0, 0, 0, 0, 0, 0, 0, 0, 0, 0, 0, 0, 0, 0, 0, 0, 0, 0], [0, 0, 0, 0, 0, 0, 0, 0, 0, 0, 0, 0, 0, 0, 0, 0, 0, 0, 0, 0, 0, 0, 0, 0, 0, 0, 0, 0, 0, 0], [0, 0, 0, 0, 0, 0, 0, 0, 0, 0, 0, 0, 0, 0, 0, 0, 0, 0, 0, 0, 0, 0, 0, 0, 0, 0, 0, 0, 0, 0], [0, 0, 0, 0, 0, 0, 0, 0, 0, 0, 0, 0, 0, 0, 0, 0, 0, 0, 0, 0, 0, 0, 0, 0, 0, 0, 0, 0, 0, 0], [0, 0, 0, 0, 0, 0, 0, 0, 0, 0, 0, 0, 0, 0, 0, 0, 0, 0, 0, 0, 0, 0, 0, 0, 0, 0, 0, 0, 0, 0]], 'attempt_2': [[0, 0, 0, 0, 0, 0, 0, 0, 0, 0, 0, 0, 0, 0, 0, 0, 0, 0, 0, 0, 0, 0, 0, 0, 0, 0, 0, 0, 0, 0], [0, 0, 0, 0, 0, 0, 0, 0, 0, 0, 0, 0, 0, 0, 0, 0, 0, 0, 0, 0, 0, 0, 0, 0, 0, 0, 0, 0, 0, 0], [0, 0, 0, 0, 0, 0, 0, 0, 0, 0, 0, 0, 0, 0, 0, 0, 0, 0, 0, 0, 0, 0, 0, 0, 0, 0, 0, 0, 0, 0], [0, 0, 0, 0, 0, 0, 0, 0, 0, 0, 0, 0, 0, 0, 0, 0, 0, 0, 0, 0, 0, 0, 0, 0, 0, 0, 0, 0, 0, 0], [0, 0, 0, 0, 0, 0, 0, 0, 0, 0, 0, 0, 0, 0, 0, 0, 0, 0, 0, 0, 0, 0, 0, 0, 0, 0, 0, 0, 0, 0], [0, 0, 0, 0, 0, 0, 0, 0, 0, 0, 0, 0, 0, 0, 0, 0, 0, 0, 0, 0, 0, 0, 0, 0, 0, 0, 0, 0, 0, 0], [0, 0, 0, 0, 0, 0, 0, 0, 0, 0, 0, 0, 0, 0, 0, 0, 0, 0, 0, 0, 0, 0, 0, 0, 0, 0, 0, 0, 0, 0], [0, 0, 0, 0, 0, 0, 0, 0, 0, 0, 0, 0, 0, 0, 0, 0, 0, 0, 0, 0, 0, 0, 0, 0, 0, 0, 0, 0, 0, 0], [0, 0, 0, 0, 0, 0, 0, 0, 0, 0, 0, 0, 0, 0, 0, 0, 0, 0, 0, 0, 0, 0, 0, 0, 0, 0, 0, 0, 0, 0], [0, 0, 0, 0, 0, 0, 0, 0, 0, 0, 0, 0, 0, 0, 0, 0, 0, 0, 0, 0, 0, 0, 0, 0, 0, 0, 0, 0, 0, 0], [0, 0, 0, 0, 0, 0, 0, 0, 0, 0, 0, 0, 0, 0, 0, 0, 0, 0, 0, 0, 0, 0, 0, 0, 0, 0, 0, 0, 0, 0], [0, 0, 0, 0, 0, 0, 0, 0, 0, 0, 0, 0, 0, 0, 0, 0, 0, 0, 0, 0, 0, 0, 0, 0, 0, 0, 0, 0, 0, 0], [0, 0, 0, 0, 0, 0, 0, 0, 0, 0, 0, 0, 0, 0, 0, 0, 0, 0, 0, 0, 0, 0, 0, 0, 0, 0, 0, 0, 0, 0], [0, 0, 0, 0, 0, 0, 0, 0, 0, 0, 0, 0, 0, 0, 0, 0, 0, 0, 0, 0, 0, 0, 0, 0, 0, 0, 0, 0, 0, 0], [0, 0, 0, 0, 0, 0, 0, 0, 0, 0, 0, 0, 0, 0, 0, 0, 0, 0, 0, 0, 0, 0, 0, 0, 0, 0, 0, 0, 0, 0], [0, 0, 0, 0, 0, 0, 0, 0, 0, 0, 0, 0, 0, 0, 0, 0, 0, 0, 0, 0, 0, 0, 0, 0, 0, 0, 0, 0, 0, 0], [0, 0, 0, 0, 0, 0, 0, 0, 0, 0, 0, 0, 0, 0, 0, 0, 0, 0, 0, 0, 0, 0, 0, 0, 0, 0, 0, 0, 0, 0], [0, 0, 0, 0, 0, 0, 0, 0, 0, 0, 0, 0, 0, 0, 0, 0, 0, 0, 0, 0, 0, 0, 0, 0, 0, 0, 0, 0, 0, 0], [0, 0, 0, 0, 0, 0, 0, 0, 0, 0, 0, 0, 0, 0, 0, 0, 0, 0, 0, 0, 0, 0, 0, 0, 0, 0, 0, 0, 0, 0], [0, 0, 0, 0, 0, 0, 0, 0, 0, 0, 0, 0, 0, 0, 0, 0, 0, 0, 0, 0, 0, 0, 0, 0, 0, 0, 0, 0, 0, 0], [0, 0, 0, 0, 0, 0, 0, 0, 0, 0, 0, 0, 0, 0, 0, 0, 0, 0, 0, 0, 0, 0, 0, 0, 0, 0, 0, 0, 0, 0], [0, 0, 0, 0, 0, 0, 0, 0, 0, 0, 0, 0, 0, 0, 0, 0, 0, 0, 0, 0, 0, 0, 0, 0, 0, 0, 0, 0, 0, 0], [0, 0, 0, 0, 0, 0, 0, 0, 0, 0, 0, 0, 0, 0, 0, 0, 0, 0, 0, 0, 0, 0, 0, 0, 0, 0, 0, 0, 0, 0], [0, 0, 0, 0, 0, 0, 0, 0, 0, 0, 0, 0, 0, 0, 0, 0, 0, 0, 0, 0, 0, 0, 0, 0, 0, 0, 0, 0, 0, 0], [0, 0, 0, 0, 0, 0, 0, 0, 0, 0, 0, 0, 0, 0, 0, 0, 0, 0, 0, 0, 0, 0, 0, 0, 0, 0, 0, 0, 0, 0], [0, 0, 0, 0, 0, 0, 0, 0, 0, 0, 0, 0, 0, 0, 0, 0, 0, 0, 0, 0, 0, 0, 0, 0, 0, 0, 0, 0, 0, 0], [0, 0, 0, 0, 0, 0, 0, 0, 0, 0, 0, 0, 0, 0, 0, 0, 0, 0, 0, 0, 0, 0, 0, 0, 0, 0, 0, 0, 0, 0], [0, 0, 0, 0, 0, 0, 0, 0, 0, 0, 0, 0, 0, 0, 0, 0, 0, 0, 0, 0, 0, 0, 0, 0, 0, 0, 0, 0, 0, 0], [0, 0, 0, 0, 0, 0, 0, 0, 0, 0, 0, 0, 0, 0, 0, 0, 0, 0, 0, 0, 0, 0, 0, 0, 0, 0, 0, 0, 0, 0], [0, 0, 0, 0, 0, 0, 0, 0, 0, 0, 0, 0, 0, 0, 0, 0, 0, 0, 0, 0, 0, 0, 0, 0, 0, 0, 0, 0, 0, 0]]}], '00d62c1b': [{'attempt_1': [[0, 0, 0, 0, 0, 0, 0, 0, 0, 0, 0, 0, 0, 0, 0, 0, 0, 0, 0, 0, 0, 0, 0, 0, 0, 0, 0, 0, 0, 0], [0, 0, 0, 0, 0, 0, 0, 0, 0, 0, 0, 0, 0, 0, 0, 0, 0, 0, 0, 0, 0, 0, 0, 0, 0, 0, 0, 0, 0, 0], [0, 0, 0, 0, 0, 0, 0, 0, 0, 0, 0, 0, 0, 0, 0, 0, 0, 0, 0, 0, 0, 0, 0, 0, 0, 0, 0, 0, 0, 0], [0, 0, 0, 0, 0, 0, 0, 0, 0, 0, 0, 0, 0, 0, 0, 0, 0, 0, 0, 0, 0, 0, 0, 0, 0, 0, 0, 0, 0, 0], [0, 0, 0, 0, 0, 0, 0, 0, 0, 0, 0, 0, 0, 0, 0, 0, 0, 0, 0, 0, 0, 0, 0, 0, 0, 0, 0, 0, 0, 0], [0, 0, 0, 0, 0, 0, 0, 0, 0, 0, 0, 0, 0, 0, 0, 0, 0, 0, 0, 0, 0, 0, 0, 0, 0, 0, 0, 0, 0, 0], [0, 0, 0, 0, 0, 0, 0, 0, 0, 0, 0, 0, 0, 0, 0, 0, 0, 0, 0, 0, 0, 0, 0, 0, 0, 0, 0, 0, 0, 0], [0, 0, 0, 0, 0, 0, 0, 0, 0, 0, 0, 0, 0, 0, 0, 0, 0, 0, 0, 0, 0, 0, 0, 0, 0, 0, 0, 0, 0, 0], [0, 0, 0, 0, 0, 0, 0, 0, 0, 0, 0, 0, 0, 0, 0, 0, 0, 0, 0, 0, 0, 0, 0, 0, 0, 0, 0, 0, 0, 0], [0, 0, 0, 0, 0, 0, 0, 0, 0, 0, 0, 0, 0, 0, 0, 0, 0, 0, 0, 0, 0, 0, 0, 0, 0, 0, 0, 0, 0, 0], [0, 0, 0, 0, 0, 0, 0, 0, 0, 0, 0, 0, 0, 0, 0, 0, 0, 0, 0, 0, 0, 0, 0, 0, 0, 0, 0, 0, 0, 0], [0, 0, 0, 0, 0, 0, 0, 0, 0, 0, 0, 0, 0, 0, 0, 0, 0, 0, 0, 0, 0, 0, 0, 0, 0, 0, 0, 0, 0, 0], [0, 0, 0, 0, 0, 0, 0, 0, 0, 0, 0, 0, 0, 0, 0, 0, 0, 0, 0, 0, 0, 0, 0, 0, 0, 0, 0, 0, 0, 0], [0, 0, 0, 0, 0, 0, 0, 0, 0, 0, 0, 0, 0, 0, 0, 0, 0, 0, 0, 0, 0, 0, 0, 0, 0, 0, 0, 0, 0, 0], [0, 0, 0, 0, 0, 0, 0, 0, 0, 0, 0, 0, 0, 0, 0, 0, 0, 0, 0, 0, 0, 0, 0, 0, 0, 0, 0, 0, 0, 0], [0, 0, 0, 0, 0, 0, 0, 0, 0, 0, 0, 0, 0, 0, 0, 0, 0, 0, 0, 0, 0, 0, 0, 0, 0, 0, 0, 0, 0, 0], [0, 0, 0, 0, 0, 0, 0, 0, 0, 0, 0, 0, 0, 0, 0, 0, 0, 0, 0, 0, 0, 0, 0, 0, 0, 0, 0, 0, 0, 0], [0, 0, 0, 0, 0, 0, 0, 0, 0, 0, 0, 0, 0, 0, 0, 0, 0, 0, 0, 0, 0, 0, 0, 0, 0, 0, 0, 0, 0, 0], [0, 0, 0, 0, 0, 0, 0, 0, 0, 0, 0, 0, 0, 0, 0, 0, 0, 0, 0, 0, 0, 0, 0, 0, 0, 0, 0, 0, 0, 0], [0, 0, 0, 0, 0, 0, 0, 0, 0, 0, 0, 0, 0, 0, 0, 0, 0, 0, 0, 0, 0, 0, 0, 0, 0, 0, 0, 0, 0, 0], [0, 0, 0, 0, 0, 0, 0, 0, 0, 0, 0, 0, 0, 0, 0, 0, 0, 0, 0, 0, 0, 0, 0, 0, 0, 0, 0, 0, 0, 0], [0, 0, 0, 0, 0, 0, 0, 0, 0, 0, 0, 0, 0, 0, 0, 0, 0, 0, 0, 0, 0, 0, 0, 0, 0, 0, 0, 0, 0, 0], [0, 0, 0, 0, 0, 0, 0, 0, 0, 0, 0, 0, 0, 0, 0, 0, 0, 0, 0, 0, 0, 0, 0, 0, 0, 0, 0, 0, 0, 0], [0, 0, 0, 0, 0, 0, 0, 0, 0, 0, 0, 0, 0, 0, 0, 0, 0, 0, 0, 0, 0, 0, 0, 0, 0, 0, 0, 0, 0, 0], [0, 0, 0, 0, 0, 0, 0, 0, 0, 0, 0, 0, 0, 0, 0, 0, 0, 0, 0, 0, 0, 0, 0, 0, 0, 0, 0, 0, 0, 0], [0, 0, 0, 0, 0, 0, 0, 0, 0, 0, 0, 0, 0, 0, 0, 0, 0, 0, 0, 0, 0, 0, 0, 0, 0, 0, 0, 0, 0, 0], [0, 0, 0, 0, 0, 0, 0, 0, 0, 0, 0, 0, 0, 0, 0, 0, 0, 0, 0, 0, 0, 0, 0, 0, 0, 0, 0, 0, 0, 0], [0, 0, 0, 0, 0, 0, 0, 0, 0, 0, 0, 0, 0, 0, 0, 0, 0, 0, 0, 0, 0, 0, 0, 0, 0, 0, 0, 0, 0, 0], [0, 0, 0, 0, 0, 0, 0, 0, 0, 0, 0, 0, 0, 0, 0, 0, 0, 0, 0, 0, 0, 0, 0, 0, 0, 0, 0, 0, 0, 0], [0, 0, 0, 0, 0, 0, 0, 0, 0, 0, 0, 0, 0, 0, 0, 0, 0, 0, 0, 0, 0, 0, 0, 0, 0, 0, 0, 0, 0, 0]], 'attempt_2': [[0, 0, 0, 0, 0, 0, 0, 0, 0, 0, 0, 0, 0, 0, 0, 0, 0, 0, 0, 0, 0, 0, 0, 0, 0, 0, 0, 0, 0, 0], [0, 0, 0, 0, 0, 0, 0, 0, 0, 0, 0, 0, 0, 0, 0, 0, 0, 0, 0, 0, 0, 0, 0, 0, 0, 0, 0, 0, 0, 0], [0, 0, 0, 0, 0, 0, 0, 0, 0, 0, 0, 0, 0, 0, 0, 0, 0, 0, 0, 0, 0, 0, 0, 0, 0, 0, 0, 0, 0, 0], [0, 0, 0, 0, 0, 0, 0, 0, 0, 0, 0, 0, 0, 0, 0, 0, 0, 0, 0, 0, 0, 0, 0, 0, 0, 0, 0, 0, 0, 0], [0, 0, 0, 0, 0, 0, 0, 0, 0, 0, 0, 0, 0, 0, 0, 0, 0, 0, 0, 0, 0, 0, 0, 0, 0, 0, 0, 0, 0, 0], [0, 0, 0, 0, 0, 0, 0, 0, 0, 0, 0, 0, 0, 0, 0, 0, 0, 0, 0, 0, 0, 0, 0, 0, 0, 0, 0, 0, 0, 0], [0, 0, 0, 0, 0, 0, 0, 0, 0, 0, 0, 0, 0, 0, 0, 0, 0, 0, 0, 0, 0, 0, 0, 0, 0, 0, 0, 0, 0, 0], [0, 0, 0, 0, 0, 0, 0, 0, 0, 0, 0, 0, 0, 0, 0, 0, 0, 0, 0, 0, 0, 0, 0, 0, 0, 0, 0, 0, 0, 0], [0, 0, 0, 0, 0, 0, 0, 0, 0, 0, 0, 0, 0, 0, 0, 0, 0, 0, 0, 0, 0, 0, 0, 0, 0, 0, 0, 0, 0, 0], [0, 0, 0, 0, 0, 0, 0, 0, 0, 0, 0, 0, 0, 0, 0, 0, 0, 0, 0, 0, 0, 0, 0, 0, 0, 0, 0, 0, 0, 0], [0, 0, 0, 0, 0, 0, 0, 0, 0, 0, 0, 0, 0, 0, 0, 0, 0, 0, 0, 0, 0, 0, 0, 0, 0, 0, 0, 0, 0, 0], [0, 0, 0, 0, 0, 0, 0, 0, 0, 0, 0, 0, 0, 0, 0, 0, 0, 0, 0, 0, 0, 0, 0, 0, 0, 0, 0, 0, 0, 0], [0, 0, 0, 0, 0, 0, 0, 0, 0, 0, 0, 0, 0, 0, 0, 0, 0, 0, 0, 0, 0, 0, 0, 0, 0, 0, 0, 0, 0, 0], [0, 0, 0, 0, 0, 0, 0, 0, 0, 0, 0, 0, 0, 0, 0, 0, 0, 0, 0, 0, 0, 0, 0, 0, 0, 0, 0, 0, 0, 0], [0, 0, 0, 0, 0, 0, 0, 0, 0, 0, 0, 0, 0, 0, 0, 0, 0, 0, 0, 0, 0, 0, 0, 0, 0, 0, 0, 0, 0, 0], [0, 0, 0, 0, 0, 0, 0, 0, 0, 0, 0, 0, 0, 0, 0, 0, 0, 0, 0, 0, 0, 0, 0, 0, 0, 0, 0, 0, 0, 0], [0, 0, 0, 0, 0, 0, 0, 0, 0, 0, 0, 0, 0, 0, 0, 0, 0, 0, 0, 0, 0, 0, 0, 0, 0, 0, 0, 0, 0, 0], [0, 0, 0, 0, 0, 0, 0, 0, 0, 0, 0, 0, 0, 0, 0, 0, 0, 0, 0, 0, 0, 0, 0, 0, 0, 0, 0, 0, 0, 0], [0, 0, 0, 0, 0, 0, 0, 0, 0, 0, 0, 0, 0, 0, 0, 0, 0, 0, 0, 0, 0, 0, 0, 0, 0, 0, 0, 0, 0, 0], [0, 0, 0, 0, 0, 0, 0, 0, 0, 0, 0, 0, 0, 0, 0, 0, 0, 0, 0, 0, 0, 0, 0, 0, 0, 0, 0, 0, 0, 0], [0, 0, 0, 0, 0, 0, 0, 0, 0, 0, 0, 0, 0, 0, 0, 0, 0, 0, 0, 0, 0, 0, 0, 0, 0, 0, 0, 0, 0, 0], [0, 0, 0, 0, 0, 0, 0, 0, 0, 0, 0, 0, 0, 0, 0, 0, 0, 0, 0, 0, 0, 0, 0, 0, 0, 0, 0, 0, 0, 0], [0, 0, 0, 0, 0, 0, 0, 0, 0, 0, 0, 0, 0, 0, 0, 0, 0, 0, 0, 0, 0, 0, 0, 0, 0, 0, 0, 0, 0, 0], [0, 0, 0, 0, 0, 0, 0, 0, 0, 0, 0, 0, 0, 0, 0, 0, 0, 0, 0, 0, 0, 0, 0, 0, 0, 0, 0, 0, 0, 0], [0, 0, 0, 0, 0, 0, 0, 0, 0, 0, 0, 0, 0, 0, 0, 0, 0, 0, 0, 0, 0, 0, 0, 0, 0, 0, 0, 0, 0, 0], [0, 0, 0, 0, 0, 0, 0, 0, 0, 0, 0, 0, 0, 0, 0, 0, 0, 0, 0, 0, 0, 0, 0, 0, 0, 0, 0, 0, 0, 0], [0, 0, 0, 0, 0, 0, 0, 0, 0, 0, 0, 0, 0, 0, 0, 0, 0, 0, 0, 0, 0, 0, 0, 0, 0, 0, 0, 0, 0, 0], [0, 0, 0, 0, 0, 0, 0, 0, 0, 0, 0, 0, 0, 0, 0, 0, 0, 0, 0, 0, 0, 0, 0, 0, 0, 0, 0, 0, 0, 0], [0, 0, 0, 0, 0, 0, 0, 0, 0, 0, 0, 0, 0, 0, 0, 0, 0, 0, 0, 0, 0, 0, 0, 0, 0, 0, 0, 0, 0, 0], [0, 0, 0, 0, 0, 0, 0, 0, 0, 0, 0, 0, 0, 0, 0, 0, 0, 0, 0, 0, 0, 0, 0, 0, 0, 0, 0, 0, 0, 0]]}], '017c7c7b': [{'attempt_1': [[0, 0, 0, 0, 0, 0, 0, 0, 0, 0, 0, 0, 0, 0, 0, 0, 0, 0, 0, 0, 0, 0, 0, 0, 0, 0, 0, 0, 0, 0], [0, 0, 0, 0, 0, 0, 0, 0, 0, 0, 0, 0, 0, 0, 0, 0, 0, 0, 0, 0, 0, 0, 0, 0, 0, 0, 0, 0, 0, 0], [0, 0, 0, 0, 0, 0, 0, 0, 0, 0, 0, 0, 0, 0, 0, 0, 0, 0, 0, 0, 0, 0, 0, 0, 0, 0, 0, 0, 0, 0], [0, 0, 0, 0, 0, 0, 0, 0, 0, 0, 0, 0, 0, 0, 0, 0, 0, 0, 0, 0, 0, 0, 0, 0, 0, 0, 0, 0, 0, 0], [0, 0, 0, 0, 0, 0, 0, 0, 0, 0, 0, 0, 0, 0, 0, 0, 0, 0, 0, 0, 0, 0, 0, 0, 0, 0, 0, 0, 0, 0], [0, 0, 0, 0, 0, 0, 0, 0, 0, 0, 0, 0, 0, 0, 0, 0, 0, 0, 0, 0, 0, 0, 0, 0, 0, 0, 0, 0, 0, 0], [0, 0, 0, 0, 0, 0, 0, 0, 0, 0, 0, 0, 0, 0, 0, 0, 0, 0, 0, 0, 0, 0, 0, 0, 0, 0, 0, 0, 0, 0], [0, 0, 0, 0, 0, 0, 0, 0, 0, 0, 0, 0, 0, 0, 0, 0, 0, 0, 0, 0, 0, 0, 0, 0, 0, 0, 0, 0, 0, 0], [0, 0, 0, 0, 0, 0, 0, 0, 0, 0, 0, 0, 0, 0, 0, 0, 0, 0, 0, 0, 0, 0, 0, 0, 0, 0, 0, 0, 0, 0], [0, 0, 0, 0, 0, 0, 0, 0, 0, 0, 0, 0, 0, 0, 0, 0, 0, 0, 0, 0, 0, 0, 0, 0, 0, 0, 0, 0, 0, 0], [0, 0, 0, 0, 0, 0, 0, 0, 0, 0, 0, 0, 0, 0, 0, 0, 0, 0, 0, 0, 0, 0, 0, 0, 0, 0, 0, 0, 0, 0], [0, 0, 0, 0, 0, 0, 0, 0, 0, 0, 0, 0, 0, 0, 0, 0, 0, 0, 0, 0, 0, 0, 0, 0, 0, 0, 0, 0, 0, 0], [0, 0, 0, 0, 0, 0, 0, 0, 0, 0, 0, 0, 0, 0, 0, 0, 0, 0, 0, 0, 0, 0, 0, 0, 0, 0, 0, 0, 0, 0], [0, 0, 0, 0, 0, 0, 0, 0, 0, 0, 0, 0, 0, 0, 0, 0, 0, 0, 0, 0, 0, 0, 0, 0, 0, 0, 0, 0, 0, 0], [0, 0, 0, 0, 0, 0, 0, 0, 0, 0, 0, 0, 0, 0, 0, 0, 0, 0, 0, 0, 0, 0, 0, 0, 0, 0, 0, 0, 0, 0], [0, 0, 0, 0, 0, 0, 0, 0, 0, 0, 0, 0, 0, 0, 0, 0, 0, 0, 0, 0, 0, 0, 0, 0, 0, 0, 0, 0, 0, 0], [0, 0, 0, 0, 0, 0, 0, 0, 0, 0, 0, 0, 0, 0, 0, 0, 0, 0, 0, 0, 0, 0, 0, 0, 0, 0, 0, 0, 0, 0], [0, 0, 0, 0, 0, 0, 0, 0, 0, 0, 0, 0, 0, 0, 0, 0, 0, 0, 0, 0, 0, 0, 0, 0, 0, 0, 0, 0, 0, 0], [0, 0, 0, 0, 0, 0, 0, 0, 0, 0, 0, 0, 0, 0, 0, 0, 0, 0, 0, 0, 0, 0, 0, 0, 0, 0, 0, 0, 0, 0], [0, 0, 0, 0, 0, 0, 0, 0, 0, 0, 0, 0, 0, 0, 0, 0, 0, 0, 0, 0, 0, 0, 0, 0, 0, 0, 0, 0, 0, 0], [0, 0, 0, 0, 0, 0, 0, 0, 0, 0, 0, 0, 0, 0, 0, 0, 0, 0, 0, 0, 0, 0, 0, 0, 0, 0, 0, 0, 0, 0], [0, 0, 0, 0, 0, 0, 0, 0, 0, 0, 0, 0, 0, 0, 0, 0, 0, 0, 0, 0, 0, 0, 0, 0, 0, 0, 0, 0, 0, 0], [0, 0, 0, 0, 0, 0, 0, 0, 0, 0, 0, 0, 0, 0, 0, 0, 0, 0, 0, 0, 0, 0, 0, 0, 0, 0, 0, 0, 0, 0], [0, 0, 0, 0, 0, 0, 0, 0, 0, 0, 0, 0, 0, 0, 0, 0, 0, 0, 0, 0, 0, 0, 0, 0, 0, 0, 0, 0, 0, 0], [0, 0, 0, 0, 0, 0, 0, 0, 0, 0, 0, 0, 0, 0, 0, 0, 0, 0, 0, 0, 0, 0, 0, 0, 0, 0, 0, 0, 0, 0], [0, 0, 0, 0, 0, 0, 0, 0, 0, 0, 0, 0, 0, 0, 0, 0, 0, 0, 0, 0, 0, 0, 0, 0, 0, 0, 0, 0, 0, 0], [0, 0, 0, 0, 0, 0, 0, 0, 0, 0, 0, 0, 0, 0, 0, 0, 0, 0, 0, 0, 0, 0, 0, 0, 0, 0, 0, 0, 0, 0], [0, 0, 0, 0, 0, 0, 0, 0, 0, 0, 0, 0, 0, 0, 0, 0, 0, 0, 0, 0, 0, 0, 0, 0, 0, 0, 0, 0, 0, 0], [0, 0, 0, 0, 0, 0, 0, 0, 0, 0, 0, 0, 0, 0, 0, 0, 0, 0, 0, 0, 0, 0, 0, 0, 0, 0, 0, 0, 0, 0], [0, 0, 0, 0, 0, 0, 0, 0, 0, 0, 0, 0, 0, 0, 0, 0, 0, 0, 0, 0, 0, 0, 0, 0, 0, 0, 0, 0, 0, 0]], 'attempt_2': [[0, 0, 0, 0, 0, 0, 0, 0, 0, 0, 0, 0, 0, 0, 0, 0, 0, 0, 0, 0, 0, 0, 0, 0, 0, 0, 0, 0, 0, 0], [0, 0, 0, 0, 0, 0, 0, 0, 0, 0, 0, 0, 0, 0, 0, 0, 0, 0, 0, 0, 0, 0, 0, 0, 0, 0, 0, 0, 0, 0], [0, 0, 0, 0, 0, 0, 0, 0, 0, 0, 0, 0, 0, 0, 0, 0, 0, 0, 0, 0, 0, 0, 0, 0, 0, 0, 0, 0, 0, 0], [0, 0, 0, 0, 0, 0, 0, 0, 0, 0, 0, 0, 0, 0, 0, 0, 0, 0, 0, 0, 0, 0, 0, 0, 0, 0, 0, 0, 0, 0], [0, 0, 0, 0, 0, 0, 0, 0, 0, 0, 0, 0, 0, 0, 0, 0, 0, 0, 0, 0, 0, 0, 0, 0, 0, 0, 0, 0, 0, 0], [0, 0, 0, 0, 0, 0, 0, 0, 0, 0, 0, 0, 0, 0, 0, 0, 0, 0, 0, 0, 0, 0, 0, 0, 0, 0, 0, 0, 0, 0], [0, 0, 0, 0, 0, 0, 0, 0, 0, 0, 0, 0, 0, 0, 0, 0, 0, 0, 0, 0, 0, 0, 0, 0, 0, 0, 0, 0, 0, 0], [0, 0, 0, 0, 0, 0, 0, 0, 0, 0, 0, 0, 0, 0, 0, 0, 0, 0, 0, 0, 0, 0, 0, 0, 0, 0, 0, 0, 0, 0], [0, 0, 0, 0, 0, 0, 0, 0, 0, 0, 0, 0, 0, 0, 0, 0, 0, 0, 0, 0, 0, 0, 0, 0, 0, 0, 0, 0, 0, 0], [0, 0, 0, 0, 0, 0, 0, 0, 0, 0, 0, 0, 0, 0, 0, 0, 0, 0, 0, 0, 0, 0, 0, 0, 0, 0, 0, 0, 0, 0], [0, 0, 0, 0, 0, 0, 0, 0, 0, 0, 0, 0, 0, 0, 0, 0, 0, 0, 0, 0, 0, 0, 0, 0, 0, 0, 0, 0, 0, 0], [0, 0, 0, 0, 0, 0, 0, 0, 0, 0, 0, 0, 0, 0, 0, 0, 0, 0, 0, 0, 0, 0, 0, 0, 0, 0, 0, 0, 0, 0], [0, 0, 0, 0, 0, 0, 0, 0, 0, 0, 0, 0, 0, 0, 0, 0, 0, 0, 0, 0, 0, 0, 0, 0, 0, 0, 0, 0, 0, 0], [0, 0, 0, 0, 0, 0, 0, 0, 0, 0, 0, 0, 0, 0, 0, 0, 0, 0, 0, 0, 0, 0, 0, 0, 0, 0, 0, 0, 0, 0], [0, 0, 0, 0, 0, 0, 0, 0, 0, 0, 0, 0, 0, 0, 0, 0, 0, 0, 0, 0, 0, 0, 0, 0, 0, 0, 0, 0, 0, 0], [0, 0, 0, 0, 0, 0, 0, 0, 0, 0, 0, 0, 0, 0, 0, 0, 0, 0, 0, 0, 0, 0, 0, 0, 0, 0, 0, 0, 0, 0], [0, 0, 0, 0, 0, 0, 0, 0, 0, 0, 0, 0, 0, 0, 0, 0, 0, 0, 0, 0, 0, 0, 0, 0, 0, 0, 0, 0, 0, 0], [0, 0, 0, 0, 0, 0, 0, 0, 0, 0, 0, 0, 0, 0, 0, 0, 0, 0, 0, 0, 0, 0, 0, 0, 0, 0, 0, 0, 0, 0], [0, 0, 0, 0, 0, 0, 0, 0, 0, 0, 0, 0, 0, 0, 0, 0, 0, 0, 0, 0, 0, 0, 0, 0, 0, 0, 0, 0, 0, 0], [0, 0, 0, 0, 0, 0, 0, 0, 0, 0, 0, 0, 0, 0, 0, 0, 0, 0, 0, 0, 0, 0, 0, 0, 0, 0, 0, 0, 0, 0], [0, 0, 0, 0, 0, 0, 0, 0, 0, 0, 0, 0, 0, 0, 0, 0, 0, 0, 0, 0, 0, 0, 0, 0, 0, 0, 0, 0, 0, 0], [0, 0, 0, 0, 0, 0, 0, 0, 0, 0, 0, 0, 0, 0, 0, 0, 0, 0, 0, 0, 0, 0, 0, 0, 0, 0, 0, 0, 0, 0], [0, 0, 0, 0, 0, 0, 0, 0, 0, 0, 0, 0, 0, 0, 0, 0, 0, 0, 0, 0, 0, 0, 0, 0, 0, 0, 0, 0, 0, 0], [0, 0, 0, 0, 0, 0, 0, 0, 0, 0, 0, 0, 0, 0, 0, 0, 0, 0, 0, 0, 0, 0, 0, 0, 0, 0, 0, 0, 0, 0], [0, 0, 0, 0, 0, 0, 0, 0, 0, 0, 0, 0, 0, 0, 0, 0, 0, 0, 0, 0, 0, 0, 0, 0, 0, 0, 0, 0, 0, 0], [0, 0, 0, 0, 0, 0, 0, 0, 0, 0, 0, 0, 0, 0, 0, 0, 0, 0, 0, 0, 0, 0, 0, 0, 0, 0, 0, 0, 0, 0], [0, 0, 0, 0, 0, 0, 0, 0, 0, 0, 0, 0, 0, 0, 0, 0, 0, 0, 0, 0, 0, 0, 0, 0, 0, 0, 0, 0, 0, 0], [0, 0, 0, 0, 0, 0, 0, 0, 0, 0, 0, 0, 0, 0, 0, 0, 0, 0, 0, 0, 0, 0, 0, 0, 0, 0, 0, 0, 0, 0], [0, 0, 0, 0, 0, 0, 0, 0, 0, 0, 0, 0, 0, 0, 0, 0, 0, 0, 0, 0, 0, 0, 0, 0, 0, 0, 0, 0, 0, 0], [0, 0, 0, 0, 0, 0, 0, 0, 0, 0, 0, 0, 0, 0, 0, 0, 0, 0, 0, 0, 0, 0, 0, 0, 0, 0, 0, 0, 0, 0]]}], '025d127b': [{'attempt_1': [[0, 0, 0, 0, 0, 0, 0, 0, 0, 0, 0, 0, 0, 0, 0, 0, 0, 0, 0, 0, 0, 0, 0, 0, 0, 0, 0, 0, 0, 0], [0, 0, 0, 0, 0, 0, 0, 0, 0, 0, 0, 0, 0, 0, 0, 0, 0, 0, 0, 0, 0, 0, 0, 0, 0, 0, 0, 0, 0, 0], [0, 0, 0, 0, 0, 0, 0, 0, 0, 0, 0, 0, 0, 0, 0, 0, 0, 0, 0, 0, 0, 0, 0, 0, 0, 0, 0, 0, 0, 0], [0, 0, 0, 0, 0, 0, 0, 0, 0, 0, 0, 0, 0, 0, 0, 0, 0, 0, 0, 0, 0, 0, 0, 0, 0, 0, 0, 0, 0, 0], [0, 0, 0, 0, 0, 0, 0, 0, 0, 0, 0, 0, 0, 0, 0, 0, 0, 0, 0, 0, 0, 0, 0, 0, 0, 0, 0, 0, 0, 0], [0, 0, 0, 0, 0, 0, 0, 0, 0, 0, 0, 0, 0, 0, 0, 0, 0, 0, 0, 0, 0, 0, 0, 0, 0, 0, 0, 0, 0, 0], [0, 0, 0, 0, 0, 0, 0, 0, 0, 0, 0, 0, 0, 0, 0, 0, 0, 0, 0, 0, 0, 0, 0, 0, 0, 0, 0, 0, 0, 0], [0, 0, 0, 0, 0, 0, 0, 0, 0, 0, 0, 0, 0, 0, 0, 0, 0, 0, 0, 0, 0, 0, 0, 0, 0, 0, 0, 0, 0, 0], [0, 0, 0, 0, 0, 0, 0, 0, 0, 0, 0, 0, 0, 0, 0, 0, 0, 0, 0, 0, 0, 0, 0, 0, 0, 0, 0, 0, 0, 0], [0, 0, 0, 0, 0, 0, 0, 0, 0, 0, 0, 0, 0, 0, 0, 0, 0, 0, 0, 0, 0, 0, 0, 0, 0, 0, 0, 0, 0, 0], [0, 0, 0, 0, 0, 0, 0, 0, 0, 0, 0, 0, 0, 0, 0, 0, 0, 0, 0, 0, 0, 0, 0, 0, 0, 0, 0, 0, 0, 0], [0, 0, 0, 0, 0, 0, 0, 0, 0, 0, 0, 0, 0, 0, 0, 0, 0, 0, 0, 0, 0, 0, 0, 0, 0, 0, 0, 0, 0, 0], [0, 0, 0, 0, 0, 0, 0, 0, 0, 0, 0, 0, 0, 0, 0, 0, 0, 0, 0, 0, 0, 0, 0, 0, 0, 0, 0, 0, 0, 0], [0, 0, 0, 0, 0, 0, 0, 0, 0, 0, 0, 0, 0, 0, 0, 0, 0, 0, 0, 0, 0, 0, 0, 0, 0, 0, 0, 0, 0, 0], [0, 0, 0, 0, 0, 0, 0, 0, 0, 0, 0, 0, 0, 0, 0, 0, 0, 0, 0, 0, 0, 0, 0, 0, 0, 0, 0, 0, 0, 0], [0, 0, 0, 0, 0, 0, 0, 0, 0, 0, 0, 0, 0, 0, 0, 0, 0, 0, 0, 0, 0, 0, 0, 0, 0, 0, 0, 0, 0, 0], [0, 0, 0, 0, 0, 0, 0, 0, 0, 0, 0, 0, 0, 0, 0, 0, 0, 0, 0, 0, 0, 0, 0, 0, 0, 0, 0, 0, 0, 0], [0, 0, 0, 0, 0, 0, 0, 0, 0, 0, 0, 0, 0, 0, 0, 0, 0, 0, 0, 0, 0, 0, 0, 0, 0, 0, 0, 0, 0, 0], [0, 0, 0, 0, 0, 0, 0, 0, 0, 0, 0, 0, 0, 0, 0, 0, 0, 0, 0, 0, 0, 0, 0, 0, 0, 0, 0, 0, 0, 0], [0, 0, 0, 0, 0, 0, 0, 0, 0, 0, 0, 0, 0, 0, 0, 0, 0, 0, 0, 0, 0, 0, 0, 0, 0, 0, 0, 0, 0, 0], [0, 0, 0, 0, 0, 0, 0, 0, 0, 0, 0, 0, 0, 0, 0, 0, 0, 0, 0, 0, 0, 0, 0, 0, 0, 0, 0, 0, 0, 0], [0, 0, 0, 0, 0, 0, 0, 0, 0, 0, 0, 0, 0, 0, 0, 0, 0, 0, 0, 0, 0, 0, 0, 0, 0, 0, 0, 0, 0, 0], [0, 0, 0, 0, 0, 0, 0, 0, 0, 0, 0, 0, 0, 0, 0, 0, 0, 0, 0, 0, 0, 0, 0, 0, 0, 0, 0, 0, 0, 0], [0, 0, 0, 0, 0, 0, 0, 0, 0, 0, 0, 0, 0, 0, 0, 0, 0, 0, 0, 0, 0, 0, 0, 0, 0, 0, 0, 0, 0, 0], [0, 0, 0, 0, 0, 0, 0, 0, 0, 0, 0, 0, 0, 0, 0, 0, 0, 0, 0, 0, 0, 0, 0, 0, 0, 0, 0, 0, 0, 0], [0, 0, 0, 0, 0, 0, 0, 0, 0, 0, 0, 0, 0, 0, 0, 0, 0, 0, 0, 0, 0, 0, 0, 0, 0, 0, 0, 0, 0, 0], [0, 0, 0, 0, 0, 0, 0, 0, 0, 0, 0, 0, 0, 0, 0, 0, 0, 0, 0, 0, 0, 0, 0, 0, 0, 0, 0, 0, 0, 0], [0, 0, 0, 0, 0, 0, 0, 0, 0, 0, 0, 0, 0, 0, 0, 0, 0, 0, 0, 0, 0, 0, 0, 0, 0, 0, 0, 0, 0, 0], [0, 0, 0, 0, 0, 0, 0, 0, 0, 0, 0, 0, 0, 0, 0, 0, 0, 0, 0, 0, 0, 0, 0, 0, 0, 0, 0, 0, 0, 0], [0, 0, 0, 0, 0, 0, 0, 0, 0, 0, 0, 0, 0, 0, 0, 0, 0, 0, 0, 0, 0, 0, 0, 0, 0, 0, 0, 0, 0, 0]], 'attempt_2': [[0, 0, 0, 0, 0, 0, 0, 0, 0, 0, 0, 0, 0, 0, 0, 0, 0, 0, 0, 0, 0, 0, 0, 0, 0, 0, 0, 0, 0, 0], [0, 0, 0, 0, 0, 0, 0, 0, 0, 0, 0, 0, 0, 0, 0, 0, 0, 0, 0, 0, 0, 0, 0, 0, 0, 0, 0, 0, 0, 0], [0, 0, 0, 0, 0, 0, 0, 0, 0, 0, 0, 0, 0, 0, 0, 0, 0, 0, 0, 0, 0, 0, 0, 0, 0, 0, 0, 0, 0, 0], [0, 0, 0, 0, 0, 0, 0, 0, 0, 0, 0, 0, 0, 0, 0, 0, 0, 0, 0, 0, 0, 0, 0, 0, 0, 0, 0, 0, 0, 0], [0, 0, 0, 0, 0, 0, 0, 0, 0, 0, 0, 0, 0, 0, 0, 0, 0, 0, 0, 0, 0, 0, 0, 0, 0, 0, 0, 0, 0, 0], [0, 0, 0, 0, 0, 0, 0, 0, 0, 0, 0, 0, 0, 0, 0, 0, 0, 0, 0, 0, 0, 0, 0, 0, 0, 0, 0, 0, 0, 0], [0, 0, 0, 0, 0, 0, 0, 0, 0, 0, 0, 0, 0, 0, 0, 0, 0, 0, 0, 0, 0, 0, 0, 0, 0, 0, 0, 0, 0, 0], [0, 0, 0, 0, 0, 0, 0, 0, 0, 0, 0, 0, 0, 0, 0, 0, 0, 0, 0, 0, 0, 0, 0, 0, 0, 0, 0, 0, 0, 0], [0, 0, 0, 0, 0, 0, 0, 0, 0, 0, 0, 0, 0, 0, 0, 0, 0, 0, 0, 0, 0, 0, 0, 0, 0, 0, 0, 0, 0, 0], [0, 0, 0, 0, 0, 0, 0, 0, 0, 0, 0, 0, 0, 0, 0, 0, 0, 0, 0, 0, 0, 0, 0, 0, 0, 0, 0, 0, 0, 0], [0, 0, 0, 0, 0, 0, 0, 0, 0, 0, 0, 0, 0, 0, 0, 0, 0, 0, 0, 0, 0, 0, 0, 0, 0, 0, 0, 0, 0, 0], [0, 0, 0, 0, 0, 0, 0, 0, 0, 0, 0, 0, 0, 0, 0, 0, 0, 0, 0, 0, 0, 0, 0, 0, 0, 0, 0, 0, 0, 0], [0, 0, 0, 0, 0, 0, 0, 0, 0, 0, 0, 0, 0, 0, 0, 0, 0, 0, 0, 0, 0, 0, 0, 0, 0, 0, 0, 0, 0, 0], [0, 0, 0, 0, 0, 0, 0, 0, 0, 0, 0, 0, 0, 0, 0, 0, 0, 0, 0, 0, 0, 0, 0, 0, 0, 0, 0, 0, 0, 0], [0, 0, 0, 0, 0, 0, 0, 0, 0, 0, 0, 0, 0, 0, 0, 0, 0, 0, 0, 0, 0, 0, 0, 0, 0, 0, 0, 0, 0, 0], [0, 0, 0, 0, 0, 0, 0, 0, 0, 0, 0, 0, 0, 0, 0, 0, 0, 0, 0, 0, 0, 0, 0, 0, 0, 0, 0, 0, 0, 0], [0, 0, 0, 0, 0, 0, 0, 0, 0, 0, 0, 0, 0, 0, 0, 0, 0, 0, 0, 0, 0, 0, 0, 0, 0, 0, 0, 0, 0, 0], [0, 0, 0, 0, 0, 0, 0, 0, 0, 0, 0, 0, 0, 0, 0, 0, 0, 0, 0, 0, 0, 0, 0, 0, 0, 0, 0, 0, 0, 0], [0, 0, 0, 0, 0, 0, 0, 0, 0, 0, 0, 0, 0, 0, 0, 0, 0, 0, 0, 0, 0, 0, 0, 0, 0, 0, 0, 0, 0, 0], [0, 0, 0, 0, 0, 0, 0, 0, 0, 0, 0, 0, 0, 0, 0, 0, 0, 0, 0, 0, 0, 0, 0, 0, 0, 0, 0, 0, 0, 0], [0, 0, 0, 0, 0, 0, 0, 0, 0, 0, 0, 0, 0, 0, 0, 0, 0, 0, 0, 0, 0, 0, 0, 0, 0, 0, 0, 0, 0, 0], [0, 0, 0, 0, 0, 0, 0, 0, 0, 0, 0, 0, 0, 0, 0, 0, 0, 0, 0, 0, 0, 0, 0, 0, 0, 0, 0, 0, 0, 0], [0, 0, 0, 0, 0, 0, 0, 0, 0, 0, 0, 0, 0, 0, 0, 0, 0, 0, 0, 0, 0, 0, 0, 0, 0, 0, 0, 0, 0, 0], [0, 0, 0, 0, 0, 0, 0, 0, 0, 0, 0, 0, 0, 0, 0, 0, 0, 0, 0, 0, 0, 0, 0, 0, 0, 0, 0, 0, 0, 0], [0, 0, 0, 0, 0, 0, 0, 0, 0, 0, 0, 0, 0, 0, 0, 0, 0, 0, 0, 0, 0, 0, 0, 0, 0, 0, 0, 0, 0, 0], [0, 0, 0, 0, 0, 0, 0, 0, 0, 0, 0, 0, 0, 0, 0, 0, 0, 0, 0, 0, 0, 0, 0, 0, 0, 0, 0, 0, 0, 0], [0, 0, 0, 0, 0, 0, 0, 0, 0, 0, 0, 0, 0, 0, 0, 0, 0, 0, 0, 0, 0, 0, 0, 0, 0, 0, 0, 0, 0, 0], [0, 0, 0, 0, 0, 0, 0, 0, 0, 0, 0, 0, 0, 0, 0, 0, 0, 0, 0, 0, 0, 0, 0, 0, 0, 0, 0, 0, 0, 0], [0, 0, 0, 0, 0, 0, 0, 0, 0, 0, 0, 0, 0, 0, 0, 0, 0, 0, 0, 0, 0, 0, 0, 0, 0, 0, 0, 0, 0, 0], [0, 0, 0, 0, 0, 0, 0, 0, 0, 0, 0, 0, 0, 0, 0, 0, 0, 0, 0, 0, 0, 0, 0, 0, 0, 0, 0, 0, 0, 0]]}], '045e512c': [{'attempt_1': [[0, 0, 0, 0, 0, 0, 0, 0, 0, 0, 0, 0, 0, 0, 0, 0, 0, 0, 0, 0, 0, 0, 0, 0, 0, 0, 0, 0, 0, 0], [0, 0, 0, 0, 0, 0, 0, 0, 0, 0, 0, 0, 0, 0, 0, 0, 0, 0, 0, 0, 0, 0, 0, 0, 0, 0, 0, 0, 0, 0], [0, 0, 0, 0, 0, 0, 0, 0, 0, 0, 0, 0, 0, 0, 0, 0, 0, 0, 0, 0, 0, 0, 0, 0, 0, 0, 0, 0, 0, 0], [0, 0, 0, 0, 0, 0, 0, 0, 0, 0, 0, 0, 0, 0, 0, 0, 0, 0, 0, 0, 0, 0, 0, 0, 0, 0, 0, 0, 0, 0], [0, 0, 0, 0, 0, 0, 0, 0, 0, 0, 0, 0, 0, 0, 0, 0, 0, 0, 0, 0, 0, 0, 0, 0, 0, 0, 0, 0, 0, 0], [0, 0, 0, 0, 0, 0, 0, 0, 0, 0, 0, 0, 0, 0, 0, 0, 0, 0, 0, 0, 0, 0, 0, 0, 0, 0, 0, 0, 0, 0], [0, 0, 0, 0, 0, 0, 0, 0, 0, 0, 0, 0, 0, 0, 0, 0, 0, 0, 0, 0, 0, 0, 0, 0, 0, 0, 0, 0, 0, 0], [0, 0, 0, 0, 0, 0, 0, 0, 0, 0, 0, 0, 0, 0, 0, 0, 0, 0, 0, 0, 0, 0, 0, 0, 0, 0, 0, 0, 0, 0], [0, 0, 0, 0, 0, 0, 0, 0, 0, 0, 0, 0, 0, 0, 0, 0, 0, 0, 0, 0, 0, 0, 0, 0, 0, 0, 0, 0, 0, 0], [0, 0, 0, 0, 0, 0, 0, 0, 0, 0, 0, 0, 0, 0, 0, 0, 0, 0, 0, 0, 0, 0, 0, 0, 0, 0, 0, 0, 0, 0], [0, 0, 0, 0, 0, 0, 0, 0, 0, 0, 0, 0, 0, 0, 0, 0, 0, 0, 0, 0, 0, 0, 0, 0, 0, 0, 0, 0, 0, 0], [0, 0, 0, 0, 0, 0, 0, 0, 0, 0, 0, 0, 0, 0, 0, 0, 0, 0, 0, 0, 0, 0, 0, 0, 0, 0, 0, 0, 0, 0], [0, 0, 0, 0, 0, 0, 0, 0, 0, 0, 0, 0, 0, 0, 0, 0, 0, 0, 0, 0, 0, 0, 0, 0, 0, 0, 0, 0, 0, 0], [0, 0, 0, 0, 0, 0, 0, 0, 0, 0, 0, 0, 0, 0, 0, 0, 0, 0, 0, 0, 0, 0, 0, 0, 0, 0, 0, 0, 0, 0], [0, 0, 0, 0, 0, 0, 0, 0, 0, 0, 0, 0, 0, 0, 0, 0, 0, 0, 0, 0, 0, 0, 0, 0, 0, 0, 0, 0, 0, 0], [0, 0, 0, 0, 0, 0, 0, 0, 0, 0, 0, 0, 0, 0, 0, 0, 0, 0, 0, 0, 0, 0, 0, 0, 0, 0, 0, 0, 0, 0], [0, 0, 0, 0, 0, 0, 0, 0, 0, 0, 0, 0, 0, 0, 0, 0, 0, 0, 0, 0, 0, 0, 0, 0, 0, 0, 0, 0, 0, 0], [0, 0, 0, 0, 0, 0, 0, 0, 0, 0, 0, 0, 0, 0, 0, 0, 0, 0, 0, 0, 0, 0, 0, 0, 0, 0, 0, 0, 0, 0], [0, 0, 0, 0, 0, 0, 0, 0, 0, 0, 0, 0, 0, 0, 0, 0, 0, 0, 0, 0, 0, 0, 0, 0, 0, 0, 0, 0, 0, 0], [0, 0, 0, 0, 0, 0, 0, 0, 0, 0, 0, 0, 0, 0, 0, 0, 0, 0, 0, 0, 0, 0, 0, 0, 0, 0, 0, 0, 0, 0], [0, 0, 0, 0, 0, 0, 0, 0, 0, 0, 0, 0, 0, 0, 0, 0, 0, 0, 0, 0, 0, 0, 0, 0, 0, 0, 0, 0, 0, 0], [0, 0, 0, 0, 0, 0, 0, 0, 0, 0, 0, 0, 0, 0, 0, 0, 0, 0, 0, 0, 0, 0, 0, 0, 0, 0, 0, 0, 0, 0], [0, 0, 0, 0, 0, 0, 0, 0, 0, 0, 0, 0, 0, 0, 0, 0, 0, 0, 0, 0, 0, 0, 0, 0, 0, 0, 0, 0, 0, 0], [0, 0, 0, 0, 0, 0, 0, 0, 0, 0, 0, 0, 0, 0, 0, 0, 0, 0, 0, 0, 0, 0, 0, 0, 0, 0, 0, 0, 0, 0], [0, 0, 0, 0, 0, 0, 0, 0, 0, 0, 0, 0, 0, 0, 0, 0, 0, 0, 0, 0, 0, 0, 0, 0, 0, 0, 0, 0, 0, 0], [0, 0, 0, 0, 0, 0, 0, 0, 0, 0, 0, 0, 0, 0, 0, 0, 0, 0, 0, 0, 0, 0, 0, 0, 0, 0, 0, 0, 0, 0], [0, 0, 0, 0, 0, 0, 0, 0, 0, 0, 0, 0, 0, 0, 0, 0, 0, 0, 0, 0, 0, 0, 0, 0, 0, 0, 0, 0, 0, 0], [0, 0, 0, 0, 0, 0, 0, 0, 0, 0, 0, 0, 0, 0, 0, 0, 0, 0, 0, 0, 0, 0, 0, 0, 0, 0, 0, 0, 0, 0], [0, 0, 0, 0, 0, 0, 0, 0, 0, 0, 0, 0, 0, 0, 0, 0, 0, 0, 0, 0, 0, 0, 0, 0, 0, 0, 0, 0, 0, 0], [0, 0, 0, 0, 0, 0, 0, 0, 0, 0, 0, 0, 0, 0, 0, 0, 0, 0, 0, 0, 0, 0, 0, 0, 0, 0, 0, 0, 0, 0]], 'attempt_2': [[0, 0, 0, 0, 0, 0, 0, 0, 0, 0, 0, 0, 0, 0, 0, 0, 0, 0, 0, 0, 0, 0, 0, 0, 0, 0, 0, 0, 0, 0], [0, 0, 0, 0, 0, 0, 0, 0, 0, 0, 0, 0, 0, 0, 0, 0, 0, 0, 0, 0, 0, 0, 0, 0, 0, 0, 0, 0, 0, 0], [0, 0, 0, 0, 0, 0, 0, 0, 0, 0, 0, 0, 0, 0, 0, 0, 0, 0, 0, 0, 0, 0, 0, 0, 0, 0, 0, 0, 0, 0], [0, 0, 0, 0, 0, 0, 0, 0, 0, 0, 0, 0, 0, 0, 0, 0, 0, 0, 0, 0, 0, 0, 0, 0, 0, 0, 0, 0, 0, 0], [0, 0, 0, 0, 0, 0, 0, 0, 0, 0, 0, 0, 0, 0, 0, 0, 0, 0, 0, 0, 0, 0, 0, 0, 0, 0, 0, 0, 0, 0], [0, 0, 0, 0, 0, 0, 0, 0, 0, 0, 0, 0, 0, 0, 0, 0, 0, 0, 0, 0, 0, 0, 0, 0, 0, 0, 0, 0, 0, 0], [0, 0, 0, 0, 0, 0, 0, 0, 0, 0, 0, 0, 0, 0, 0, 0, 0, 0, 0, 0, 0, 0, 0, 0, 0, 0, 0, 0, 0, 0], [0, 0, 0, 0, 0, 0, 0, 0, 0, 0, 0, 0, 0, 0, 0, 0, 0, 0, 0, 0, 0, 0, 0, 0, 0, 0, 0, 0, 0, 0], [0, 0, 0, 0, 0, 0, 0, 0, 0, 0, 0, 0, 0, 0, 0, 0, 0, 0, 0, 0, 0, 0, 0, 0, 0, 0, 0, 0, 0, 0], [0, 0, 0, 0, 0, 0, 0, 0, 0, 0, 0, 0, 0, 0, 0, 0, 0, 0, 0, 0, 0, 0, 0, 0, 0, 0, 0, 0, 0, 0], [0, 0, 0, 0, 0, 0, 0, 0, 0, 0, 0, 0, 0, 0, 0, 0, 0, 0, 0, 0, 0, 0, 0, 0, 0, 0, 0, 0, 0, 0], [0, 0, 0, 0, 0, 0, 0, 0, 0, 0, 0, 0, 0, 0, 0, 0, 0, 0, 0, 0, 0, 0, 0, 0, 0, 0, 0, 0, 0, 0], [0, 0, 0, 0, 0, 0, 0, 0, 0, 0, 0, 0, 0, 0, 0, 0, 0, 0, 0, 0, 0, 0, 0, 0, 0, 0, 0, 0, 0, 0], [0, 0, 0, 0, 0, 0, 0, 0, 0, 0, 0, 0, 0, 0, 0, 0, 0, 0, 0, 0, 0, 0, 0, 0, 0, 0, 0, 0, 0, 0], [0, 0, 0, 0, 0, 0, 0, 0, 0, 0, 0, 0, 0, 0, 0, 0, 0, 0, 0, 0, 0, 0, 0, 0, 0, 0, 0, 0, 0, 0], [0, 0, 0, 0, 0, 0, 0, 0, 0, 0, 0, 0, 0, 0, 0, 0, 0, 0, 0, 0, 0, 0, 0, 0, 0, 0, 0, 0, 0, 0], [0, 0, 0, 0, 0, 0, 0, 0, 0, 0, 0, 0, 0, 0, 0, 0, 0, 0, 0, 0, 0, 0, 0, 0, 0, 0, 0, 0, 0, 0], [0, 0, 0, 0, 0, 0, 0, 0, 0, 0, 0, 0, 0, 0, 0, 0, 0, 0, 0, 0, 0, 0, 0, 0, 0, 0, 0, 0, 0, 0], [0, 0, 0, 0, 0, 0, 0, 0, 0, 0, 0, 0, 0, 0, 0, 0, 0, 0, 0, 0, 0, 0, 0, 0, 0, 0, 0, 0, 0, 0], [0, 0, 0, 0, 0, 0, 0, 0, 0, 0, 0, 0, 0, 0, 0, 0, 0, 0, 0, 0, 0, 0, 0, 0, 0, 0, 0, 0, 0, 0], [0, 0, 0, 0, 0, 0, 0, 0, 0, 0, 0, 0, 0, 0, 0, 0, 0, 0, 0, 0, 0, 0, 0, 0, 0, 0, 0, 0, 0, 0], [0, 0, 0, 0, 0, 0, 0, 0, 0, 0, 0, 0, 0, 0, 0, 0, 0, 0, 0, 0, 0, 0, 0, 0, 0, 0, 0, 0, 0, 0], [0, 0, 0, 0, 0, 0, 0, 0, 0, 0, 0, 0, 0, 0, 0, 0, 0, 0, 0, 0, 0, 0, 0, 0, 0, 0, 0, 0, 0, 0], [0, 0, 0, 0, 0, 0, 0, 0, 0, 0, 0, 0, 0, 0, 0, 0, 0, 0, 0, 0, 0, 0, 0, 0, 0, 0, 0, 0, 0, 0], [0, 0, 0, 0, 0, 0, 0, 0, 0, 0, 0, 0, 0, 0, 0, 0, 0, 0, 0, 0, 0, 0, 0, 0, 0, 0, 0, 0, 0, 0], [0, 0, 0, 0, 0, 0, 0, 0, 0, 0, 0, 0, 0, 0, 0, 0, 0, 0, 0, 0, 0, 0, 0, 0, 0, 0, 0, 0, 0, 0], [0, 0, 0, 0, 0, 0, 0, 0, 0, 0, 0, 0, 0, 0, 0, 0, 0, 0, 0, 0, 0, 0, 0, 0, 0, 0, 0, 0, 0, 0], [0, 0, 0, 0, 0, 0, 0, 0, 0, 0, 0, 0, 0, 0, 0, 0, 0, 0, 0, 0, 0, 0, 0, 0, 0, 0, 0, 0, 0, 0], [0, 0, 0, 0, 0, 0, 0, 0, 0, 0, 0, 0, 0, 0, 0, 0, 0, 0, 0, 0, 0, 0, 0, 0, 0, 0, 0, 0, 0, 0], [0, 0, 0, 0, 0, 0, 0, 0, 0, 0, 0, 0, 0, 0, 0, 0, 0, 0, 0, 0, 0, 0, 0, 0, 0, 0, 0, 0, 0, 0]]}], '0520fde7': [{'attempt_1': [[0, 0, 0, 0, 0, 0, 0, 0, 0, 0, 0, 0, 0, 0, 0, 0, 0, 0, 0, 0, 0, 0, 0, 0, 0, 0, 0, 0, 0, 0], [0, 0, 0, 0, 0, 0, 0, 0, 0, 0, 0, 0, 0, 0, 0, 0, 0, 0, 0, 0, 0, 0, 0, 0, 0, 0, 0, 0, 0, 0], [0, 0, 0, 0, 0, 0, 0, 0, 0, 0, 0, 0, 0, 0, 0, 0, 0, 0, 0, 0, 0, 0, 0, 0, 0, 0, 0, 0, 0, 0], [0, 0, 0, 0, 0, 0, 0, 0, 0, 0, 0, 0, 0, 0, 0, 0, 0, 0, 0, 0, 0, 0, 0, 0, 0, 0, 0, 0, 0, 0], [0, 0, 0, 0, 0, 0, 0, 0, 0, 0, 0, 0, 0, 0, 0, 0, 0, 0, 0, 0, 0, 0, 0, 0, 0, 0, 0, 0, 0, 0], [0, 0, 0, 0, 0, 0, 0, 0, 0, 0, 0, 0, 0, 0, 0, 0, 0, 0, 0, 0, 0, 0, 0, 0, 0, 0, 0, 0, 0, 0], [0, 0, 0, 0, 0, 0, 0, 0, 0, 0, 0, 0, 0, 0, 0, 0, 0, 0, 0, 0, 0, 0, 0, 0, 0, 0, 0, 0, 0, 0], [0, 0, 0, 0, 0, 0, 0, 0, 0, 0, 0, 0, 0, 0, 0, 0, 0, 0, 0, 0, 0, 0, 0, 0, 0, 0, 0, 0, 0, 0], [0, 0, 0, 0, 0, 0, 0, 0, 0, 0, 0, 0, 0, 0, 0, 0, 0, 0, 0, 0, 0, 0, 0, 0, 0, 0, 0, 0, 0, 0], [0, 0, 0, 0, 0, 0, 0, 0, 0, 0, 0, 0, 0, 0, 0, 0, 0, 0, 0, 0, 0, 0, 0, 0, 0, 0, 0, 0, 0, 0], [0, 0, 0, 0, 0, 0, 0, 0, 0, 0, 0, 0, 0, 0, 0, 0, 0, 0, 0, 0, 0, 0, 0, 0, 0, 0, 0, 0, 0, 0], [0, 0, 0, 0, 0, 0, 0, 0, 0, 0, 0, 0, 0, 0, 0, 0, 0, 0, 0, 0, 0, 0, 0, 0, 0, 0, 0, 0, 0, 0], [0, 0, 0, 0, 0, 0, 0, 0, 0, 0, 0, 0, 0, 0, 0, 0, 0, 0, 0, 0, 0, 0, 0, 0, 0, 0, 0, 0, 0, 0], [0, 0, 0, 0, 0, 0, 0, 0, 0, 0, 0, 0, 0, 0, 0, 0, 0, 0, 0, 0, 0, 0, 0, 0, 0, 0, 0, 0, 0, 0], [0, 0, 0, 0, 0, 0, 0, 0, 0, 0, 0, 0, 0, 0, 0, 0, 0, 0, 0, 0, 0, 0, 0, 0, 0, 0, 0, 0, 0, 0], [0, 0, 0, 0, 0, 0, 0, 0, 0, 0, 0, 0, 0, 0, 0, 0, 0, 0, 0, 0, 0, 0, 0, 0, 0, 0, 0, 0, 0, 0], [0, 0, 0, 0, 0, 0, 0, 0, 0, 0, 0, 0, 0, 0, 0, 0, 0, 0, 0, 0, 0, 0, 0, 0, 0, 0, 0, 0, 0, 0], [0, 0, 0, 0, 0, 0, 0, 0, 0, 0, 0, 0, 0, 0, 0, 0, 0, 0, 0, 0, 0, 0, 0, 0, 0, 0, 0, 0, 0, 0], [0, 0, 0, 0, 0, 0, 0, 0, 0, 0, 0, 0, 0, 0, 0, 0, 0, 0, 0, 0, 0, 0, 0, 0, 0, 0, 0, 0, 0, 0], [0, 0, 0, 0, 0, 0, 0, 0, 0, 0, 0, 0, 0, 0, 0, 0, 0, 0, 0, 0, 0, 0, 0, 0, 0, 0, 0, 0, 0, 0], [0, 0, 0, 0, 0, 0, 0, 0, 0, 0, 0, 0, 0, 0, 0, 0, 0, 0, 0, 0, 0, 0, 0, 0, 0, 0, 0, 0, 0, 0], [0, 0, 0, 0, 0, 0, 0, 0, 0, 0, 0, 0, 0, 0, 0, 0, 0, 0, 0, 0, 0, 0, 0, 0, 0, 0, 0, 0, 0, 0], [0, 0, 0, 0, 0, 0, 0, 0, 0, 0, 0, 0, 0, 0, 0, 0, 0, 0, 0, 0, 0, 0, 0, 0, 0, 0, 0, 0, 0, 0], [0, 0, 0, 0, 0, 0, 0, 0, 0, 0, 0, 0, 0, 0, 0, 0, 0, 0, 0, 0, 0, 0, 0, 0, 0, 0, 0, 0, 0, 0], [0, 0, 0, 0, 0, 0, 0, 0, 0, 0, 0, 0, 0, 0, 0, 0, 0, 0, 0, 0, 0, 0, 0, 0, 0, 0, 0, 0, 0, 0], [0, 0, 0, 0, 0, 0, 0, 0, 0, 0, 0, 0, 0, 0, 0, 0, 0, 0, 0, 0, 0, 0, 0, 0, 0, 0, 0, 0, 0, 0], [0, 0, 0, 0, 0, 0, 0, 0, 0, 0, 0, 0, 0, 0, 0, 0, 0, 0, 0, 0, 0, 0, 0, 0, 0, 0, 0, 0, 0, 0], [0, 0, 0, 0, 0, 0, 0, 0, 0, 0, 0, 0, 0, 0, 0, 0, 0, 0, 0, 0, 0, 0, 0, 0, 0, 0, 0, 0, 0, 0], [0, 0, 0, 0, 0, 0, 0, 0, 0, 0, 0, 0, 0, 0, 0, 0, 0, 0, 0, 0, 0, 0, 0, 0, 0, 0, 0, 0, 0, 0], [0, 0, 0, 0, 0, 0, 0, 0, 0, 0, 0, 0, 0, 0, 0, 0, 0, 0, 0, 0, 0, 0, 0, 0, 0, 0, 0, 0, 0, 0]], 'attempt_2': [[0, 0, 0, 0, 0, 0, 0, 0, 0, 0, 0, 0, 0, 0, 0, 0, 0, 0, 0, 0, 0, 0, 0, 0, 0, 0, 0, 0, 0, 0], [0, 0, 0, 0, 0, 0, 0, 0, 0, 0, 0, 0, 0, 0, 0, 0, 0, 0, 0, 0, 0, 0, 0, 0, 0, 0, 0, 0, 0, 0], [0, 0, 0, 0, 0, 0, 0, 0, 0, 0, 0, 0, 0, 0, 0, 0, 0, 0, 0, 0, 0, 0, 0, 0, 0, 0, 0, 0, 0, 0], [0, 0, 0, 0, 0, 0, 0, 0, 0, 0, 0, 0, 0, 0, 0, 0, 0, 0, 0, 0, 0, 0, 0, 0, 0, 0, 0, 0, 0, 0], [0, 0, 0, 0, 0, 0, 0, 0, 0, 0, 0, 0, 0, 0, 0, 0, 0, 0, 0, 0, 0, 0, 0, 0, 0, 0, 0, 0, 0, 0], [0, 0, 0, 0, 0, 0, 0, 0, 0, 0, 0, 0, 0, 0, 0, 0, 0, 0, 0, 0, 0, 0, 0, 0, 0, 0, 0, 0, 0, 0], [0, 0, 0, 0, 0, 0, 0, 0, 0, 0, 0, 0, 0, 0, 0, 0, 0, 0, 0, 0, 0, 0, 0, 0, 0, 0, 0, 0, 0, 0], [0, 0, 0, 0, 0, 0, 0, 0, 0, 0, 0, 0, 0, 0, 0, 0, 0, 0, 0, 0, 0, 0, 0, 0, 0, 0, 0, 0, 0, 0], [0, 0, 0, 0, 0, 0, 0, 0, 0, 0, 0, 0, 0, 0, 0, 0, 0, 0, 0, 0, 0, 0, 0, 0, 0, 0, 0, 0, 0, 0], [0, 0, 0, 0, 0, 0, 0, 0, 0, 0, 0, 0, 0, 0, 0, 0, 0, 0, 0, 0, 0, 0, 0, 0, 0, 0, 0, 0, 0, 0], [0, 0, 0, 0, 0, 0, 0, 0, 0, 0, 0, 0, 0, 0, 0, 0, 0, 0, 0, 0, 0, 0, 0, 0, 0, 0, 0, 0, 0, 0], [0, 0, 0, 0, 0, 0, 0, 0, 0, 0, 0, 0, 0, 0, 0, 0, 0, 0, 0, 0, 0, 0, 0, 0, 0, 0, 0, 0, 0, 0], [0, 0, 0, 0, 0, 0, 0, 0, 0, 0, 0, 0, 0, 0, 0, 0, 0, 0, 0, 0, 0, 0, 0, 0, 0, 0, 0, 0, 0, 0], [0, 0, 0, 0, 0, 0, 0, 0, 0, 0, 0, 0, 0, 0, 0, 0, 0, 0, 0, 0, 0, 0, 0, 0, 0, 0, 0, 0, 0, 0], [0, 0, 0, 0, 0, 0, 0, 0, 0, 0, 0, 0, 0, 0, 0, 0, 0, 0, 0, 0, 0, 0, 0, 0, 0, 0, 0, 0, 0, 0], [0, 0, 0, 0, 0, 0, 0, 0, 0, 0, 0, 0, 0, 0, 0, 0, 0, 0, 0, 0, 0, 0, 0, 0, 0, 0, 0, 0, 0, 0], [0, 0, 0, 0, 0, 0, 0, 0, 0, 0, 0, 0, 0, 0, 0, 0, 0, 0, 0, 0, 0, 0, 0, 0, 0, 0, 0, 0, 0, 0], [0, 0, 0, 0, 0, 0, 0, 0, 0, 0, 0, 0, 0, 0, 0, 0, 0, 0, 0, 0, 0, 0, 0, 0, 0, 0, 0, 0, 0, 0], [0, 0, 0, 0, 0, 0, 0, 0, 0, 0, 0, 0, 0, 0, 0, 0, 0, 0, 0, 0, 0, 0, 0, 0, 0, 0, 0, 0, 0, 0], [0, 0, 0, 0, 0, 0, 0, 0, 0, 0, 0, 0, 0, 0, 0, 0, 0, 0, 0, 0, 0, 0, 0, 0, 0, 0, 0, 0, 0, 0], [0, 0, 0, 0, 0, 0, 0, 0, 0, 0, 0, 0, 0, 0, 0, 0, 0, 0, 0, 0, 0, 0, 0, 0, 0, 0, 0, 0, 0, 0], [0, 0, 0, 0, 0, 0, 0, 0, 0, 0, 0, 0, 0, 0, 0, 0, 0, 0, 0, 0, 0, 0, 0, 0, 0, 0, 0, 0, 0, 0], [0, 0, 0, 0, 0, 0, 0, 0, 0, 0, 0, 0, 0, 0, 0, 0, 0, 0, 0, 0, 0, 0, 0, 0, 0, 0, 0, 0, 0, 0], [0, 0, 0, 0, 0, 0, 0, 0, 0, 0, 0, 0, 0, 0, 0, 0, 0, 0, 0, 0, 0, 0, 0, 0, 0, 0, 0, 0, 0, 0], [0, 0, 0, 0, 0, 0, 0, 0, 0, 0, 0, 0, 0, 0, 0, 0, 0, 0, 0, 0, 0, 0, 0, 0, 0, 0, 0, 0, 0, 0], [0, 0, 0, 0, 0, 0, 0, 0, 0, 0, 0, 0, 0, 0, 0, 0, 0, 0, 0, 0, 0, 0, 0, 0, 0, 0, 0, 0, 0, 0], [0, 0, 0, 0, 0, 0, 0, 0, 0, 0, 0, 0, 0, 0, 0, 0, 0, 0, 0, 0, 0, 0, 0, 0, 0, 0, 0, 0, 0, 0], [0, 0, 0, 0, 0, 0, 0, 0, 0, 0, 0, 0, 0, 0, 0, 0, 0, 0, 0, 0, 0, 0, 0, 0, 0, 0, 0, 0, 0, 0], [0, 0, 0, 0, 0, 0, 0, 0, 0, 0, 0, 0, 0, 0, 0, 0, 0, 0, 0, 0, 0, 0, 0, 0, 0, 0, 0, 0, 0, 0], [0, 0, 0, 0, 0, 0, 0, 0, 0, 0, 0, 0, 0, 0, 0, 0, 0, 0, 0, 0, 0, 0, 0, 0, 0, 0, 0, 0, 0, 0]]}], '05269061': [{'attempt_1': [[0, 0, 0, 0, 0, 0, 0, 0, 0, 0, 0, 0, 0, 0, 0, 0, 0, 0, 0, 0, 0, 0, 0, 0, 0, 0, 0, 0, 0, 0], [0, 0, 0, 0, 0, 0, 0, 0, 0, 0, 0, 0, 0, 0, 0, 0, 0, 0, 0, 0, 0, 0, 0, 0, 0, 0, 0, 0, 0, 0], [0, 0, 0, 0, 0, 0, 0, 0, 0, 0, 0, 0, 0, 0, 0, 0, 0, 0, 0, 0, 0, 0, 0, 0, 0, 0, 0, 0, 0, 0], [0, 0, 0, 0, 0, 0, 0, 0, 0, 0, 0, 0, 0, 0, 0, 0, 0, 0, 0, 0, 0, 0, 0, 0, 0, 0, 0, 0, 0, 0], [0, 0, 0, 0, 0, 0, 0, 0, 0, 0, 0, 0, 0, 0, 0, 0, 0, 0, 0, 0, 0, 0, 0, 0, 0, 0, 0, 0, 0, 0], [0, 0, 0, 0, 0, 0, 0, 0, 0, 0, 0, 0, 0, 0, 0, 0, 0, 0, 0, 0, 0, 0, 0, 0, 0, 0, 0, 0, 0, 0], [0, 0, 0, 0, 0, 0, 0, 0, 0, 0, 0, 0, 0, 0, 0, 0, 0, 0, 0, 0, 0, 0, 0, 0, 0, 0, 0, 0, 0, 0], [0, 0, 0, 0, 0, 0, 0, 0, 0, 0, 0, 0, 0, 0, 0, 0, 0, 0, 0, 0, 0, 0, 0, 0, 0, 0, 0, 0, 0, 0], [0, 0, 0, 0, 0, 0, 0, 0, 0, 0, 0, 0, 0, 0, 0, 0, 0, 0, 0, 0, 0, 0, 0, 0, 0, 0, 0, 0, 0, 0], [0, 0, 0, 0, 0, 0, 0, 0, 0, 0, 0, 0, 0, 0, 0, 0, 0, 0, 0, 0, 0, 0, 0, 0, 0, 0, 0, 0, 0, 0], [0, 0, 0, 0, 0, 0, 0, 0, 0, 0, 0, 0, 0, 0, 0, 0, 0, 0, 0, 0, 0, 0, 0, 0, 0, 0, 0, 0, 0, 0], [0, 0, 0, 0, 0, 0, 0, 0, 0, 0, 0, 0, 0, 0, 0, 0, 0, 0, 0, 0, 0, 0, 0, 0, 0, 0, 0, 0, 0, 0], [0, 0, 0, 0, 0, 0, 0, 0, 0, 0, 0, 0, 0, 0, 0, 0, 0, 0, 0, 0, 0, 0, 0, 0, 0, 0, 0, 0, 0, 0], [0, 0, 0, 0, 0, 0, 0, 0, 0, 0, 0, 0, 0, 0, 0, 0, 0, 0, 0, 0, 0, 0, 0, 0, 0, 0, 0, 0, 0, 0], [0, 0, 0, 0, 0, 0, 0, 0, 0, 0, 0, 0, 0, 0, 0, 0, 0, 0, 0, 0, 0, 0, 0, 0, 0, 0, 0, 0, 0, 0], [0, 0, 0, 0, 0, 0, 0, 0, 0, 0, 0, 0, 0, 0, 0, 0, 0, 0, 0, 0, 0, 0, 0, 0, 0, 0, 0, 0, 0, 0], [0, 0, 0, 0, 0, 0, 0, 0, 0, 0, 0, 0, 0, 0, 0, 0, 0, 0, 0, 0, 0, 0, 0, 0, 0, 0, 0, 0, 0, 0], [0, 0, 0, 0, 0, 0, 0, 0, 0, 0, 0, 0, 0, 0, 0, 0, 0, 0, 0, 0, 0, 0, 0, 0, 0, 0, 0, 0, 0, 0], [0, 0, 0, 0, 0, 0, 0, 0, 0, 0, 0, 0, 0, 0, 0, 0, 0, 0, 0, 0, 0, 0, 0, 0, 0, 0, 0, 0, 0, 0], [0, 0, 0, 0, 0, 0, 0, 0, 0, 0, 0, 0, 0, 0, 0, 0, 0, 0, 0, 0, 0, 0, 0, 0, 0, 0, 0, 0, 0, 0], [0, 0, 0, 0, 0, 0, 0, 0, 0, 0, 0, 0, 0, 0, 0, 0, 0, 0, 0, 0, 0, 0, 0, 0, 0, 0, 0, 0, 0, 0], [0, 0, 0, 0, 0, 0, 0, 0, 0, 0, 0, 0, 0, 0, 0, 0, 0, 0, 0, 0, 0, 0, 0, 0, 0, 0, 0, 0, 0, 0], [0, 0, 0, 0, 0, 0, 0, 0, 0, 0, 0, 0, 0, 0, 0, 0, 0, 0, 0, 0, 0, 0, 0, 0, 0, 0, 0, 0, 0, 0], [0, 0, 0, 0, 0, 0, 0, 0, 0, 0, 0, 0, 0, 0, 0, 0, 0, 0, 0, 0, 0, 0, 0, 0, 0, 0, 0, 0, 0, 0], [0, 0, 0, 0, 0, 0, 0, 0, 0, 0, 0, 0, 0, 0, 0, 0, 0, 0, 0, 0, 0, 0, 0, 0, 0, 0, 0, 0, 0, 0], [0, 0, 0, 0, 0, 0, 0, 0, 0, 0, 0, 0, 0, 0, 0, 0, 0, 0, 0, 0, 0, 0, 0, 0, 0, 0, 0, 0, 0, 0], [0, 0, 0, 0, 0, 0, 0, 0, 0, 0, 0, 0, 0, 0, 0, 0, 0, 0, 0, 0, 0, 0, 0, 0, 0, 0, 0, 0, 0, 0], [0, 0, 0, 0, 0, 0, 0, 0, 0, 0, 0, 0, 0, 0, 0, 0, 0, 0, 0, 0, 0, 0, 0, 0, 0, 0, 0, 0, 0, 0], [0, 0, 0, 0, 0, 0, 0, 0, 0, 0, 0, 0, 0, 0, 0, 0, 0, 0, 0, 0, 0, 0, 0, 0, 0, 0, 0, 0, 0, 0], [0, 0, 0, 0, 0, 0, 0, 0, 0, 0, 0, 0, 0, 0, 0, 0, 0, 0, 0, 0, 0, 0, 0, 0, 0, 0, 0, 0, 0, 0]], 'attempt_2': [[0, 0, 0, 0, 0, 0, 0, 0, 0, 0, 0, 0, 0, 0, 0, 0, 0, 0, 0, 0, 0, 0, 0, 0, 0, 0, 0, 0, 0, 0], [0, 0, 0, 0, 0, 0, 0, 0, 0, 0, 0, 0, 0, 0, 0, 0, 0, 0, 0, 0, 0, 0, 0, 0, 0, 0, 0, 0, 0, 0], [0, 0, 0, 0, 0, 0, 0, 0, 0, 0, 0, 0, 0, 0, 0, 0, 0, 0, 0, 0, 0, 0, 0, 0, 0, 0, 0, 0, 0, 0], [0, 0, 0, 0, 0, 0, 0, 0, 0, 0, 0, 0, 0, 0, 0, 0, 0, 0, 0, 0, 0, 0, 0, 0, 0, 0, 0, 0, 0, 0], [0, 0, 0, 0, 0, 0, 0, 0, 0, 0, 0, 0, 0, 0, 0, 0, 0, 0, 0, 0, 0, 0, 0, 0, 0, 0, 0, 0, 0, 0], [0, 0, 0, 0, 0, 0, 0, 0, 0, 0, 0, 0, 0, 0, 0, 0, 0, 0, 0, 0, 0, 0, 0, 0, 0, 0, 0, 0, 0, 0], [0, 0, 0, 0, 0, 0, 0, 0, 0, 0, 0, 0, 0, 0, 0, 0, 0, 0, 0, 0, 0, 0, 0, 0, 0, 0, 0, 0, 0, 0], [0, 0, 0, 0, 0, 0, 0, 0, 0, 0, 0, 0, 0, 0, 0, 0, 0, 0, 0, 0, 0, 0, 0, 0, 0, 0, 0, 0, 0, 0], [0, 0, 0, 0, 0, 0, 0, 0, 0, 0, 0, 0, 0, 0, 0, 0, 0, 0, 0, 0, 0, 0, 0, 0, 0, 0, 0, 0, 0, 0], [0, 0, 0, 0, 0, 0, 0, 0, 0, 0, 0, 0, 0, 0, 0, 0, 0, 0, 0, 0, 0, 0, 0, 0, 0, 0, 0, 0, 0, 0], [0, 0, 0, 0, 0, 0, 0, 0, 0, 0, 0, 0, 0, 0, 0, 0, 0, 0, 0, 0, 0, 0, 0, 0, 0, 0, 0, 0, 0, 0], [0, 0, 0, 0, 0, 0, 0, 0, 0, 0, 0, 0, 0, 0, 0, 0, 0, 0, 0, 0, 0, 0, 0, 0, 0, 0, 0, 0, 0, 0], [0, 0, 0, 0, 0, 0, 0, 0, 0, 0, 0, 0, 0, 0, 0, 0, 0, 0, 0, 0, 0, 0, 0, 0, 0, 0, 0, 0, 0, 0], [0, 0, 0, 0, 0, 0, 0, 0, 0, 0, 0, 0, 0, 0, 0, 0, 0, 0, 0, 0, 0, 0, 0, 0, 0, 0, 0, 0, 0, 0], [0, 0, 0, 0, 0, 0, 0, 0, 0, 0, 0, 0, 0, 0, 0, 0, 0, 0, 0, 0, 0, 0, 0, 0, 0, 0, 0, 0, 0, 0], [0, 0, 0, 0, 0, 0, 0, 0, 0, 0, 0, 0, 0, 0, 0, 0, 0, 0, 0, 0, 0, 0, 0, 0, 0, 0, 0, 0, 0, 0], [0, 0, 0, 0, 0, 0, 0, 0, 0, 0, 0, 0, 0, 0, 0, 0, 0, 0, 0, 0, 0, 0, 0, 0, 0, 0, 0, 0, 0, 0], [0, 0, 0, 0, 0, 0, 0, 0, 0, 0, 0, 0, 0, 0, 0, 0, 0, 0, 0, 0, 0, 0, 0, 0, 0, 0, 0, 0, 0, 0], [0, 0, 0, 0, 0, 0, 0, 0, 0, 0, 0, 0, 0, 0, 0, 0, 0, 0, 0, 0, 0, 0, 0, 0, 0, 0, 0, 0, 0, 0], [0, 0, 0, 0, 0, 0, 0, 0, 0, 0, 0, 0, 0, 0, 0, 0, 0, 0, 0, 0, 0, 0, 0, 0, 0, 0, 0, 0, 0, 0], [0, 0, 0, 0, 0, 0, 0, 0, 0, 0, 0, 0, 0, 0, 0, 0, 0, 0, 0, 0, 0, 0, 0, 0, 0, 0, 0, 0, 0, 0], [0, 0, 0, 0, 0, 0, 0, 0, 0, 0, 0, 0, 0, 0, 0, 0, 0, 0, 0, 0, 0, 0, 0, 0, 0, 0, 0, 0, 0, 0], [0, 0, 0, 0, 0, 0, 0, 0, 0, 0, 0, 0, 0, 0, 0, 0, 0, 0, 0, 0, 0, 0, 0, 0, 0, 0, 0, 0, 0, 0], [0, 0, 0, 0, 0, 0, 0, 0, 0, 0, 0, 0, 0, 0, 0, 0, 0, 0, 0, 0, 0, 0, 0, 0, 0, 0, 0, 0, 0, 0], [0, 0, 0, 0, 0, 0, 0, 0, 0, 0, 0, 0, 0, 0, 0, 0, 0, 0, 0, 0, 0, 0, 0, 0, 0, 0, 0, 0, 0, 0], [0, 0, 0, 0, 0, 0, 0, 0, 0, 0, 0, 0, 0, 0, 0, 0, 0, 0, 0, 0, 0, 0, 0, 0, 0, 0, 0, 0, 0, 0], [0, 0, 0, 0, 0, 0, 0, 0, 0, 0, 0, 0, 0, 0, 0, 0, 0, 0, 0, 0, 0, 0, 0, 0, 0, 0, 0, 0, 0, 0], [0, 0, 0, 0, 0, 0, 0, 0, 0, 0, 0, 0, 0, 0, 0, 0, 0, 0, 0, 0, 0, 0, 0, 0, 0, 0, 0, 0, 0, 0], [0, 0, 0, 0, 0, 0, 0, 0, 0, 0, 0, 0, 0, 0, 0, 0, 0, 0, 0, 0, 0, 0, 0, 0, 0, 0, 0, 0, 0, 0], [0, 0, 0, 0, 0, 0, 0, 0, 0, 0, 0, 0, 0, 0, 0, 0, 0, 0, 0, 0, 0, 0, 0, 0, 0, 0, 0, 0, 0, 0]]}], '05f2a901': [{'attempt_1': [[0, 0, 0, 0, 0, 0, 0, 0, 0, 0, 0, 0, 0, 0, 0, 0, 0, 0, 0, 0, 0, 0, 0, 0, 0, 0, 0, 0, 0, 0], [0, 0, 0, 0, 0, 0, 0, 0, 0, 0, 0, 0, 0, 0, 0, 0, 0, 0, 0, 0, 0, 0, 0, 0, 0, 0, 0, 0, 0, 0], [0, 0, 0, 0, 0, 0, 0, 0, 0, 0, 0, 0, 0, 0, 0, 0, 0, 0, 0, 0, 0, 0, 0, 0, 0, 0, 0, 0, 0, 0], [0, 0, 0, 0, 0, 0, 0, 0, 0, 0, 0, 0, 0, 0, 0, 0, 0, 0, 0, 0, 0, 0, 0, 0, 0, 0, 0, 0, 0, 0], [0, 0, 0, 0, 0, 0, 0, 0, 0, 0, 0, 0, 0, 0, 0, 0, 0, 0, 0, 0, 0, 0, 0, 0, 0, 0, 0, 0, 0, 0], [0, 0, 0, 0, 0, 0, 0, 0, 0, 0, 0, 0, 0, 0, 0, 0, 0, 0, 0, 0, 0, 0, 0, 0, 0, 0, 0, 0, 0, 0], [0, 0, 0, 0, 0, 0, 0, 0, 0, 0, 0, 0, 0, 0, 0, 0, 0, 0, 0, 0, 0, 0, 0, 0, 0, 0, 0, 0, 0, 0], [0, 0, 0, 0, 0, 0, 0, 0, 0, 0, 0, 0, 0, 0, 0, 0, 0, 0, 0, 0, 0, 0, 0, 0, 0, 0, 0, 0, 0, 0], [0, 0, 0, 0, 0, 0, 0, 0, 0, 0, 0, 0, 0, 0, 0, 0, 0, 0, 0, 0, 0, 0, 0, 0, 0, 0, 0, 0, 0, 0], [0, 0, 0, 0, 0, 0, 0, 0, 0, 0, 0, 0, 0, 0, 0, 0, 0, 0, 0, 0, 0, 0, 0, 0, 0, 0, 0, 0, 0, 0], [0, 0, 0, 0, 0, 0, 0, 0, 0, 0, 0, 0, 0, 0, 0, 0, 0, 0, 0, 0, 0, 0, 0, 0, 0, 0, 0, 0, 0, 0], [0, 0, 0, 0, 0, 0, 0, 0, 0, 0, 0, 0, 0, 0, 0, 0, 0, 0, 0, 0, 0, 0, 0, 0, 0, 0, 0, 0, 0, 0], [0, 0, 0, 0, 0, 0, 0, 0, 0, 0, 0, 0, 0, 0, 0, 0, 0, 0, 0, 0, 0, 0, 0, 0, 0, 0, 0, 0, 0, 0], [0, 0, 0, 0, 0, 0, 0, 0, 0, 0, 0, 0, 0, 0, 0, 0, 0, 0, 0, 0, 0, 0, 0, 0, 0, 0, 0, 0, 0, 0], [0, 0, 0, 0, 0, 0, 0, 0, 0, 0, 0, 0, 0, 0, 0, 0, 0, 0, 0, 0, 0, 0, 0, 0, 0, 0, 0, 0, 0, 0], [0, 0, 0, 0, 0, 0, 0, 0, 0, 0, 0, 0, 0, 0, 0, 0, 0, 0, 0, 0, 0, 0, 0, 0, 0, 0, 0, 0, 0, 0], [0, 0, 0, 0, 0, 0, 0, 0, 0, 0, 0, 0, 0, 0, 0, 0, 0, 0, 0, 0, 0, 0, 0, 0, 0, 0, 0, 0, 0, 0], [0, 0, 0, 0, 0, 0, 0, 0, 0, 0, 0, 0, 0, 0, 0, 0, 0, 0, 0, 0, 0, 0, 0, 0, 0, 0, 0, 0, 0, 0], [0, 0, 0, 0, 0, 0, 0, 0, 0, 0, 0, 0, 0, 0, 0, 0, 0, 0, 0, 0, 0, 0, 0, 0, 0, 0, 0, 0, 0, 0], [0, 0, 0, 0, 0, 0, 0, 0, 0, 0, 0, 0, 0, 0, 0, 0, 0, 0, 0, 0, 0, 0, 0, 0, 0, 0, 0, 0, 0, 0], [0, 0, 0, 0, 0, 0, 0, 0, 0, 0, 0, 0, 0, 0, 0, 0, 0, 0, 0, 0, 0, 0, 0, 0, 0, 0, 0, 0, 0, 0], [0, 0, 0, 0, 0, 0, 0, 0, 0, 0, 0, 0, 0, 0, 0, 0, 0, 0, 0, 0, 0, 0, 0, 0, 0, 0, 0, 0, 0, 0], [0, 0, 0, 0, 0, 0, 0, 0, 0, 0, 0, 0, 0, 0, 0, 0, 0, 0, 0, 0, 0, 0, 0, 0, 0, 0, 0, 0, 0, 0], [0, 0, 0, 0, 0, 0, 0, 0, 0, 0, 0, 0, 0, 0, 0, 0, 0, 0, 0, 0, 0, 0, 0, 0, 0, 0, 0, 0, 0, 0], [0, 0, 0, 0, 0, 0, 0, 0, 0, 0, 0, 0, 0, 0, 0, 0, 0, 0, 0, 0, 0, 0, 0, 0, 0, 0, 0, 0, 0, 0], [0, 0, 0, 0, 0, 0, 0, 0, 0, 0, 0, 0, 0, 0, 0, 0, 0, 0, 0, 0, 0, 0, 0, 0, 0, 0, 0, 0, 0, 0], [0, 0, 0, 0, 0, 0, 0, 0, 0, 0, 0, 0, 0, 0, 0, 0, 0, 0, 0, 0, 0, 0, 0, 0, 0, 0, 0, 0, 0, 0], [0, 0, 0, 0, 0, 0, 0, 0, 0, 0, 0, 0, 0, 0, 0, 0, 0, 0, 0, 0, 0, 0, 0, 0, 0, 0, 0, 0, 0, 0], [0, 0, 0, 0, 0, 0, 0, 0, 0, 0, 0, 0, 0, 0, 0, 0, 0, 0, 0, 0, 0, 0, 0, 0, 0, 0, 0, 0, 0, 0], [0, 0, 0, 0, 0, 0, 0, 0, 0, 0, 0, 0, 0, 0, 0, 0, 0, 0, 0, 0, 0, 0, 0, 0, 0, 0, 0, 0, 0, 0]], 'attempt_2': [[0, 0, 0, 0, 0, 0, 0, 0, 0, 0, 0, 0, 0, 0, 0, 0, 0, 0, 0, 0, 0, 0, 0, 0, 0, 0, 0, 0, 0, 0], [0, 0, 0, 0, 0, 0, 0, 0, 0, 0, 0, 0, 0, 0, 0, 0, 0, 0, 0, 0, 0, 0, 0, 0, 0, 0, 0, 0, 0, 0], [0, 0, 0, 0, 0, 0, 0, 0, 0, 0, 0, 0, 0, 0, 0, 0, 0, 0, 0, 0, 0, 0, 0, 0, 0, 0, 0, 0, 0, 0], [0, 0, 0, 0, 0, 0, 0, 0, 0, 0, 0, 0, 0, 0, 0, 0, 0, 0, 0, 0, 0, 0, 0, 0, 0, 0, 0, 0, 0, 0], [0, 0, 0, 0, 0, 0, 0, 0, 0, 0, 0, 0, 0, 0, 0, 0, 0, 0, 0, 0, 0, 0, 0, 0, 0, 0, 0, 0, 0, 0], [0, 0, 0, 0, 0, 0, 0, 0, 0, 0, 0, 0, 0, 0, 0, 0, 0, 0, 0, 0, 0, 0, 0, 0, 0, 0, 0, 0, 0, 0], [0, 0, 0, 0, 0, 0, 0, 0, 0, 0, 0, 0, 0, 0, 0, 0, 0, 0, 0, 0, 0, 0, 0, 0, 0, 0, 0, 0, 0, 0], [0, 0, 0, 0, 0, 0, 0, 0, 0, 0, 0, 0, 0, 0, 0, 0, 0, 0, 0, 0, 0, 0, 0, 0, 0, 0, 0, 0, 0, 0], [0, 0, 0, 0, 0, 0, 0, 0, 0, 0, 0, 0, 0, 0, 0, 0, 0, 0, 0, 0, 0, 0, 0, 0, 0, 0, 0, 0, 0, 0], [0, 0, 0, 0, 0, 0, 0, 0, 0, 0, 0, 0, 0, 0, 0, 0, 0, 0, 0, 0, 0, 0, 0, 0, 0, 0, 0, 0, 0, 0], [0, 0, 0, 0, 0, 0, 0, 0, 0, 0, 0, 0, 0, 0, 0, 0, 0, 0, 0, 0, 0, 0, 0, 0, 0, 0, 0, 0, 0, 0], [0, 0, 0, 0, 0, 0, 0, 0, 0, 0, 0, 0, 0, 0, 0, 0, 0, 0, 0, 0, 0, 0, 0, 0, 0, 0, 0, 0, 0, 0], [0, 0, 0, 0, 0, 0, 0, 0, 0, 0, 0, 0, 0, 0, 0, 0, 0, 0, 0, 0, 0, 0, 0, 0, 0, 0, 0, 0, 0, 0], [0, 0, 0, 0, 0, 0, 0, 0, 0, 0, 0, 0, 0, 0, 0, 0, 0, 0, 0, 0, 0, 0, 0, 0, 0, 0, 0, 0, 0, 0], [0, 0, 0, 0, 0, 0, 0, 0, 0, 0, 0, 0, 0, 0, 0, 0, 0, 0, 0, 0, 0, 0, 0, 0, 0, 0, 0, 0, 0, 0], [0, 0, 0, 0, 0, 0, 0, 0, 0, 0, 0, 0, 0, 0, 0, 0, 0, 0, 0, 0, 0, 0, 0, 0, 0, 0, 0, 0, 0, 0], [0, 0, 0, 0, 0, 0, 0, 0, 0, 0, 0, 0, 0, 0, 0, 0, 0, 0, 0, 0, 0, 0, 0, 0, 0, 0, 0, 0, 0, 0], [0, 0, 0, 0, 0, 0, 0, 0, 0, 0, 0, 0, 0, 0, 0, 0, 0, 0, 0, 0, 0, 0, 0, 0, 0, 0, 0, 0, 0, 0], [0, 0, 0, 0, 0, 0, 0, 0, 0, 0, 0, 0, 0, 0, 0, 0, 0, 0, 0, 0, 0, 0, 0, 0, 0, 0, 0, 0, 0, 0], [0, 0, 0, 0, 0, 0, 0, 0, 0, 0, 0, 0, 0, 0, 0, 0, 0, 0, 0, 0, 0, 0, 0, 0, 0, 0, 0, 0, 0, 0], [0, 0, 0, 0, 0, 0, 0, 0, 0, 0, 0, 0, 0, 0, 0, 0, 0, 0, 0, 0, 0, 0, 0, 0, 0, 0, 0, 0, 0, 0], [0, 0, 0, 0, 0, 0, 0, 0, 0, 0, 0, 0, 0, 0, 0, 0, 0, 0, 0, 0, 0, 0, 0, 0, 0, 0, 0, 0, 0, 0], [0, 0, 0, 0, 0, 0, 0, 0, 0, 0, 0, 0, 0, 0, 0, 0, 0, 0, 0, 0, 0, 0, 0, 0, 0, 0, 0, 0, 0, 0], [0, 0, 0, 0, 0, 0, 0, 0, 0, 0, 0, 0, 0, 0, 0, 0, 0, 0, 0, 0, 0, 0, 0, 0, 0, 0, 0, 0, 0, 0], [0, 0, 0, 0, 0, 0, 0, 0, 0, 0, 0, 0, 0, 0, 0, 0, 0, 0, 0, 0, 0, 0, 0, 0, 0, 0, 0, 0, 0, 0], [0, 0, 0, 0, 0, 0, 0, 0, 0, 0, 0, 0, 0, 0, 0, 0, 0, 0, 0, 0, 0, 0, 0, 0, 0, 0, 0, 0, 0, 0], [0, 0, 0, 0, 0, 0, 0, 0, 0, 0, 0, 0, 0, 0, 0, 0, 0, 0, 0, 0, 0, 0, 0, 0, 0, 0, 0, 0, 0, 0], [0, 0, 0, 0, 0, 0, 0, 0, 0, 0, 0, 0, 0, 0, 0, 0, 0, 0, 0, 0, 0, 0, 0, 0, 0, 0, 0, 0, 0, 0], [0, 0, 0, 0, 0, 0, 0, 0, 0, 0, 0, 0, 0, 0, 0, 0, 0, 0, 0, 0, 0, 0, 0, 0, 0, 0, 0, 0, 0, 0], [0, 0, 0, 0, 0, 0, 0, 0, 0, 0, 0, 0, 0, 0, 0, 0, 0, 0, 0, 0, 0, 0, 0, 0, 0, 0, 0, 0, 0, 0]]}], '06df4c85': [{'attempt_1': [[0, 0, 0, 0, 0, 0, 0, 0, 0, 0, 0, 0, 0, 0, 0, 0, 0, 0, 0, 0, 0, 0, 0, 0, 0, 0, 0, 0, 0, 0], [0, 0, 0, 0, 0, 0, 0, 0, 0, 0, 0, 0, 0, 0, 0, 0, 0, 0, 0, 0, 0, 0, 0, 0, 0, 0, 0, 0, 0, 0], [0, 0, 0, 0, 0, 0, 0, 0, 0, 0, 0, 0, 0, 0, 0, 0, 0, 0, 0, 0, 0, 0, 0, 0, 0, 0, 0, 0, 0, 0], [0, 0, 0, 0, 0, 0, 0, 0, 0, 0, 0, 0, 0, 0, 0, 0, 0, 0, 0, 0, 0, 0, 0, 0, 0, 0, 0, 0, 0, 0], [0, 0, 0, 0, 0, 0, 0, 0, 0, 0, 0, 0, 0, 0, 0, 0, 0, 0, 0, 0, 0, 0, 0, 0, 0, 0, 0, 0, 0, 0], [0, 0, 0, 0, 0, 0, 0, 0, 0, 0, 0, 0, 0, 0, 0, 0, 0, 0, 0, 0, 0, 0, 0, 0, 0, 0, 0, 0, 0, 0], [0, 0, 0, 0, 0, 0, 0, 0, 0, 0, 0, 0, 0, 0, 0, 0, 0, 0, 0, 0, 0, 0, 0, 0, 0, 0, 0, 0, 0, 0], [0, 0, 0, 0, 0, 0, 0, 0, 0, 0, 0, 0, 0, 0, 0, 0, 0, 0, 0, 0, 0, 0, 0, 0, 0, 0, 0, 0, 0, 0], [0, 0, 0, 0, 0, 0, 0, 0, 0, 0, 0, 0, 0, 0, 0, 0, 0, 0, 0, 0, 0, 0, 0, 0, 0, 0, 0, 0, 0, 0], [0, 0, 0, 0, 0, 0, 0, 0, 0, 0, 0, 0, 0, 0, 0, 0, 0, 0, 0, 0, 0, 0, 0, 0, 0, 0, 0, 0, 0, 0], [0, 0, 0, 0, 0, 0, 0, 0, 0, 0, 0, 0, 0, 0, 0, 0, 0, 0, 0, 0, 0, 0, 0, 0, 0, 0, 0, 0, 0, 0], [0, 0, 0, 0, 0, 0, 0, 0, 0, 0, 0, 0, 0, 0, 0, 0, 0, 0, 0, 0, 0, 0, 0, 0, 0, 0, 0, 0, 0, 0], [0, 0, 0, 0, 0, 0, 0, 0, 0, 0, 0, 0, 0, 0, 0, 0, 0, 0, 0, 0, 0, 0, 0, 0, 0, 0, 0, 0, 0, 0], [0, 0, 0, 0, 0, 0, 0, 0, 0, 0, 0, 0, 0, 0, 0, 0, 0, 0, 0, 0, 0, 0, 0, 0, 0, 0, 0, 0, 0, 0], [0, 0, 0, 0, 0, 0, 0, 0, 0, 0, 0, 0, 0, 0, 0, 0, 0, 0, 0, 0, 0, 0, 0, 0, 0, 0, 0, 0, 0, 0], [0, 0, 0, 0, 0, 0, 0, 0, 0, 0, 0, 0, 0, 0, 0, 0, 0, 0, 0, 0, 0, 0, 0, 0, 0, 0, 0, 0, 0, 0], [0, 0, 0, 0, 0, 0, 0, 0, 0, 0, 0, 0, 0, 0, 0, 0, 0, 0, 0, 0, 0, 0, 0, 0, 0, 0, 0, 0, 0, 0], [0, 0, 0, 0, 0, 0, 0, 0, 0, 0, 0, 0, 0, 0, 0, 0, 0, 0, 0, 0, 0, 0, 0, 0, 0, 0, 0, 0, 0, 0], [0, 0, 0, 0, 0, 0, 0, 0, 0, 0, 0, 0, 0, 0, 0, 0, 0, 0, 0, 0, 0, 0, 0, 0, 0, 0, 0, 0, 0, 0], [0, 0, 0, 0, 0, 0, 0, 0, 0, 0, 0, 0, 0, 0, 0, 0, 0, 0, 0, 0, 0, 0, 0, 0, 0, 0, 0, 0, 0, 0], [0, 0, 0, 0, 0, 0, 0, 0, 0, 0, 0, 0, 0, 0, 0, 0, 0, 0, 0, 0, 0, 0, 0, 0, 0, 0, 0, 0, 0, 0], [0, 0, 0, 0, 0, 0, 0, 0, 0, 0, 0, 0, 0, 0, 0, 0, 0, 0, 0, 0, 0, 0, 0, 0, 0, 0, 0, 0, 0, 0], [0, 0, 0, 0, 0, 0, 0, 0, 0, 0, 0, 0, 0, 0, 0, 0, 0, 0, 0, 0, 0, 0, 0, 0, 0, 0, 0, 0, 0, 0], [0, 0, 0, 0, 0, 0, 0, 0, 0, 0, 0, 0, 0, 0, 0, 0, 0, 0, 0, 0, 0, 0, 0, 0, 0, 0, 0, 0, 0, 0], [0, 0, 0, 0, 0, 0, 0, 0, 0, 0, 0, 0, 0, 0, 0, 0, 0, 0, 0, 0, 0, 0, 0, 0, 0, 0, 0, 0, 0, 0], [0, 0, 0, 0, 0, 0, 0, 0, 0, 0, 0, 0, 0, 0, 0, 0, 0, 0, 0, 0, 0, 0, 0, 0, 0, 0, 0, 0, 0, 0], [0, 0, 0, 0, 0, 0, 0, 0, 0, 0, 0, 0, 0, 0, 0, 0, 0, 0, 0, 0, 0, 0, 0, 0, 0, 0, 0, 0, 0, 0], [0, 0, 0, 0, 0, 0, 0, 0, 0, 0, 0, 0, 0, 0, 0, 0, 0, 0, 0, 0, 0, 0, 0, 0, 0, 0, 0, 0, 0, 0], [0, 0, 0, 0, 0, 0, 0, 0, 0, 0, 0, 0, 0, 0, 0, 0, 0, 0, 0, 0, 0, 0, 0, 0, 0, 0, 0, 0, 0, 0], [0, 0, 0, 0, 0, 0, 0, 0, 0, 0, 0, 0, 0, 0, 0, 0, 0, 0, 0, 0, 0, 0, 0, 0, 0, 0, 0, 0, 0, 0]], 'attempt_2': [[0, 0, 0, 0, 0, 0, 0, 0, 0, 0, 0, 0, 0, 0, 0, 0, 0, 0, 0, 0, 0, 0, 0, 0, 0, 0, 0, 0, 0, 0], [0, 0, 0, 0, 0, 0, 0, 0, 0, 0, 0, 0, 0, 0, 0, 0, 0, 0, 0, 0, 0, 0, 0, 0, 0, 0, 0, 0, 0, 0], [0, 0, 0, 0, 0, 0, 0, 0, 0, 0, 0, 0, 0, 0, 0, 0, 0, 0, 0, 0, 0, 0, 0, 0, 0, 0, 0, 0, 0, 0], [0, 0, 0, 0, 0, 0, 0, 0, 0, 0, 0, 0, 0, 0, 0, 0, 0, 0, 0, 0, 0, 0, 0, 0, 0, 0, 0, 0, 0, 0], [0, 0, 0, 0, 0, 0, 0, 0, 0, 0, 0, 0, 0, 0, 0, 0, 0, 0, 0, 0, 0, 0, 0, 0, 0, 0, 0, 0, 0, 0], [0, 0, 0, 0, 0, 0, 0, 0, 0, 0, 0, 0, 0, 0, 0, 0, 0, 0, 0, 0, 0, 0, 0, 0, 0, 0, 0, 0, 0, 0], [0, 0, 0, 0, 0, 0, 0, 0, 0, 0, 0, 0, 0, 0, 0, 0, 0, 0, 0, 0, 0, 0, 0, 0, 0, 0, 0, 0, 0, 0], [0, 0, 0, 0, 0, 0, 0, 0, 0, 0, 0, 0, 0, 0, 0, 0, 0, 0, 0, 0, 0, 0, 0, 0, 0, 0, 0, 0, 0, 0], [0, 0, 0, 0, 0, 0, 0, 0, 0, 0, 0, 0, 0, 0, 0, 0, 0, 0, 0, 0, 0, 0, 0, 0, 0, 0, 0, 0, 0, 0], [0, 0, 0, 0, 0, 0, 0, 0, 0, 0, 0, 0, 0, 0, 0, 0, 0, 0, 0, 0, 0, 0, 0, 0, 0, 0, 0, 0, 0, 0], [0, 0, 0, 0, 0, 0, 0, 0, 0, 0, 0, 0, 0, 0, 0, 0, 0, 0, 0, 0, 0, 0, 0, 0, 0, 0, 0, 0, 0, 0], [0, 0, 0, 0, 0, 0, 0, 0, 0, 0, 0, 0, 0, 0, 0, 0, 0, 0, 0, 0, 0, 0, 0, 0, 0, 0, 0, 0, 0, 0], [0, 0, 0, 0, 0, 0, 0, 0, 0, 0, 0, 0, 0, 0, 0, 0, 0, 0, 0, 0, 0, 0, 0, 0, 0, 0, 0, 0, 0, 0], [0, 0, 0, 0, 0, 0, 0, 0, 0, 0, 0, 0, 0, 0, 0, 0, 0, 0, 0, 0, 0, 0, 0, 0, 0, 0, 0, 0, 0, 0], [0, 0, 0, 0, 0, 0, 0, 0, 0, 0, 0, 0, 0, 0, 0, 0, 0, 0, 0, 0, 0, 0, 0, 0, 0, 0, 0, 0, 0, 0], [0, 0, 0, 0, 0, 0, 0, 0, 0, 0, 0, 0, 0, 0, 0, 0, 0, 0, 0, 0, 0, 0, 0, 0, 0, 0, 0, 0, 0, 0], [0, 0, 0, 0, 0, 0, 0, 0, 0, 0, 0, 0, 0, 0, 0, 0, 0, 0, 0, 0, 0, 0, 0, 0, 0, 0, 0, 0, 0, 0], [0, 0, 0, 0, 0, 0, 0, 0, 0, 0, 0, 0, 0, 0, 0, 0, 0, 0, 0, 0, 0, 0, 0, 0, 0, 0, 0, 0, 0, 0], [0, 0, 0, 0, 0, 0, 0, 0, 0, 0, 0, 0, 0, 0, 0, 0, 0, 0, 0, 0, 0, 0, 0, 0, 0, 0, 0, 0, 0, 0], [0, 0, 0, 0, 0, 0, 0, 0, 0, 0, 0, 0, 0, 0, 0, 0, 0, 0, 0, 0, 0, 0, 0, 0, 0, 0, 0, 0, 0, 0], [0, 0, 0, 0, 0, 0, 0, 0, 0, 0, 0, 0, 0, 0, 0, 0, 0, 0, 0, 0, 0, 0, 0, 0, 0, 0, 0, 0, 0, 0], [0, 0, 0, 0, 0, 0, 0, 0, 0, 0, 0, 0, 0, 0, 0, 0, 0, 0, 0, 0, 0, 0, 0, 0, 0, 0, 0, 0, 0, 0], [0, 0, 0, 0, 0, 0, 0, 0, 0, 0, 0, 0, 0, 0, 0, 0, 0, 0, 0, 0, 0, 0, 0, 0, 0, 0, 0, 0, 0, 0], [0, 0, 0, 0, 0, 0, 0, 0, 0, 0, 0, 0, 0, 0, 0, 0, 0, 0, 0, 0, 0, 0, 0, 0, 0, 0, 0, 0, 0, 0], [0, 0, 0, 0, 0, 0, 0, 0, 0, 0, 0, 0, 0, 0, 0, 0, 0, 0, 0, 0, 0, 0, 0, 0, 0, 0, 0, 0, 0, 0], [0, 0, 0, 0, 0, 0, 0, 0, 0, 0, 0, 0, 0, 0, 0, 0, 0, 0, 0, 0, 0, 0, 0, 0, 0, 0, 0, 0, 0, 0], [0, 0, 0, 0, 0, 0, 0, 0, 0, 0, 0, 0, 0, 0, 0, 0, 0, 0, 0, 0, 0, 0, 0, 0, 0, 0, 0, 0, 0, 0], [0, 0, 0, 0, 0, 0, 0, 0, 0, 0, 0, 0, 0, 0, 0, 0, 0, 0, 0, 0, 0, 0, 0, 0, 0, 0, 0, 0, 0, 0], [0, 0, 0, 0, 0, 0, 0, 0, 0, 0, 0, 0, 0, 0, 0, 0, 0, 0, 0, 0, 0, 0, 0, 0, 0, 0, 0, 0, 0, 0], [0, 0, 0, 0, 0, 0, 0, 0, 0, 0, 0, 0, 0, 0, 0, 0, 0, 0, 0, 0, 0, 0, 0, 0, 0, 0, 0, 0, 0, 0]]}], '08ed6ac7': [{'attempt_1': [[0, 0, 0, 0, 0, 0, 0, 0, 0, 0, 0, 0, 0, 0, 0, 0, 0, 0, 0, 0, 0, 0, 0, 0, 0, 0, 0, 0, 0, 0], [0, 0, 0, 0, 0, 0, 0, 0, 0, 0, 0, 0, 0, 0, 0, 0, 0, 0, 0, 0, 0, 0, 0, 0, 0, 0, 0, 0, 0, 0], [0, 0, 0, 0, 0, 0, 0, 0, 0, 0, 0, 0, 0, 0, 0, 0, 0, 0, 0, 0, 0, 0, 0, 0, 0, 0, 0, 0, 0, 0], [0, 0, 0, 0, 0, 0, 0, 0, 0, 0, 0, 0, 0, 0, 0, 0, 0, 0, 0, 0, 0, 0, 0, 0, 0, 0, 0, 0, 0, 0], [0, 0, 0, 0, 0, 0, 0, 0, 0, 0, 0, 0, 0, 0, 0, 0, 0, 0, 0, 0, 0, 0, 0, 0, 0, 0, 0, 0, 0, 0], [0, 0, 0, 0, 0, 0, 0, 0, 0, 0, 0, 0, 0, 0, 0, 0, 0, 0, 0, 0, 0, 0, 0, 0, 0, 0, 0, 0, 0, 0], [0, 0, 0, 0, 0, 0, 0, 0, 0, 0, 0, 0, 0, 0, 0, 0, 0, 0, 0, 0, 0, 0, 0, 0, 0, 0, 0, 0, 0, 0], [0, 0, 0, 0, 0, 0, 0, 0, 0, 0, 0, 0, 0, 0, 0, 0, 0, 0, 0, 0, 0, 0, 0, 0, 0, 0, 0, 0, 0, 0], [0, 0, 0, 0, 0, 0, 0, 0, 0, 0, 0, 0, 0, 0, 0, 0, 0, 0, 0, 0, 0, 0, 0, 0, 0, 0, 0, 0, 0, 0], [0, 0, 0, 0, 0, 0, 0, 0, 0, 0, 0, 0, 0, 0, 0, 0, 0, 0, 0, 0, 0, 0, 0, 0, 0, 0, 0, 0, 0, 0], [0, 0, 0, 0, 0, 0, 0, 0, 0, 0, 0, 0, 0, 0, 0, 0, 0, 0, 0, 0, 0, 0, 0, 0, 0, 0, 0, 0, 0, 0], [0, 0, 0, 0, 0, 0, 0, 0, 0, 0, 0, 0, 0, 0, 0, 0, 0, 0, 0, 0, 0, 0, 0, 0, 0, 0, 0, 0, 0, 0], [0, 0, 0, 0, 0, 0, 0, 0, 0, 0, 0, 0, 0, 0, 0, 0, 0, 0, 0, 0, 0, 0, 0, 0, 0, 0, 0, 0, 0, 0], [0, 0, 0, 0, 0, 0, 0, 0, 0, 0, 0, 0, 0, 0, 0, 0, 0, 0, 0, 0, 0, 0, 0, 0, 0, 0, 0, 0, 0, 0], [0, 0, 0, 0, 0, 0, 0, 0, 0, 0, 0, 0, 0, 0, 0, 0, 0, 0, 0, 0, 0, 0, 0, 0, 0, 0, 0, 0, 0, 0], [0, 0, 0, 0, 0, 0, 0, 0, 0, 0, 0, 0, 0, 0, 0, 0, 0, 0, 0, 0, 0, 0, 0, 0, 0, 0, 0, 0, 0, 0], [0, 0, 0, 0, 0, 0, 0, 0, 0, 0, 0, 0, 0, 0, 0, 0, 0, 0, 0, 0, 0, 0, 0, 0, 0, 0, 0, 0, 0, 0], [0, 0, 0, 0, 0, 0, 0, 0, 0, 0, 0, 0, 0, 0, 0, 0, 0, 0, 0, 0, 0, 0, 0, 0, 0, 0, 0, 0, 0, 0], [0, 0, 0, 0, 0, 0, 0, 0, 0, 0, 0, 0, 0, 0, 0, 0, 0, 0, 0, 0, 0, 0, 0, 0, 0, 0, 0, 0, 0, 0], [0, 0, 0, 0, 0, 0, 0, 0, 0, 0, 0, 0, 0, 0, 0, 0, 0, 0, 0, 0, 0, 0, 0, 0, 0, 0, 0, 0, 0, 0], [0, 0, 0, 0, 0, 0, 0, 0, 0, 0, 0, 0, 0, 0, 0, 0, 0, 0, 0, 0, 0, 0, 0, 0, 0, 0, 0, 0, 0, 0], [0, 0, 0, 0, 0, 0, 0, 0, 0, 0, 0, 0, 0, 0, 0, 0, 0, 0, 0, 0, 0, 0, 0, 0, 0, 0, 0, 0, 0, 0], [0, 0, 0, 0, 0, 0, 0, 0, 0, 0, 0, 0, 0, 0, 0, 0, 0, 0, 0, 0, 0, 0, 0, 0, 0, 0, 0, 0, 0, 0], [0, 0, 0, 0, 0, 0, 0, 0, 0, 0, 0, 0, 0, 0, 0, 0, 0, 0, 0, 0, 0, 0, 0, 0, 0, 0, 0, 0, 0, 0], [0, 0, 0, 0, 0, 0, 0, 0, 0, 0, 0, 0, 0, 0, 0, 0, 0, 0, 0, 0, 0, 0, 0, 0, 0, 0, 0, 0, 0, 0], [0, 0, 0, 0, 0, 0, 0, 0, 0, 0, 0, 0, 0, 0, 0, 0, 0, 0, 0, 0, 0, 0, 0, 0, 0, 0, 0, 0, 0, 0], [0, 0, 0, 0, 0, 0, 0, 0, 0, 0, 0, 0, 0, 0, 0, 0, 0, 0, 0, 0, 0, 0, 0, 0, 0, 0, 0, 0, 0, 0], [0, 0, 0, 0, 0, 0, 0, 0, 0, 0, 0, 0, 0, 0, 0, 0, 0, 0, 0, 0, 0, 0, 0, 0, 0, 0, 0, 0, 0, 0], [0, 0, 0, 0, 0, 0, 0, 0, 0, 0, 0, 0, 0, 0, 0, 0, 0, 0, 0, 0, 0, 0, 0, 0, 0, 0, 0, 0, 0, 0], [0, 0, 0, 0, 0, 0, 0, 0, 0, 0, 0, 0, 0, 0, 0, 0, 0, 0, 0, 0, 0, 0, 0, 0, 0, 0, 0, 0, 0, 0]], 'attempt_2': [[0, 0, 0, 0, 0, 0, 0, 0, 0, 0, 0, 0, 0, 0, 0, 0, 0, 0, 0, 0, 0, 0, 0, 0, 0, 0, 0, 0, 0, 0], [0, 0, 0, 0, 0, 0, 0, 0, 0, 0, 0, 0, 0, 0, 0, 0, 0, 0, 0, 0, 0, 0, 0, 0, 0, 0, 0, 0, 0, 0], [0, 0, 0, 0, 0, 0, 0, 0, 0, 0, 0, 0, 0, 0, 0, 0, 0, 0, 0, 0, 0, 0, 0, 0, 0, 0, 0, 0, 0, 0], [0, 0, 0, 0, 0, 0, 0, 0, 0, 0, 0, 0, 0, 0, 0, 0, 0, 0, 0, 0, 0, 0, 0, 0, 0, 0, 0, 0, 0, 0], [0, 0, 0, 0, 0, 0, 0, 0, 0, 0, 0, 0, 0, 0, 0, 0, 0, 0, 0, 0, 0, 0, 0, 0, 0, 0, 0, 0, 0, 0], [0, 0, 0, 0, 0, 0, 0, 0, 0, 0, 0, 0, 0, 0, 0, 0, 0, 0, 0, 0, 0, 0, 0, 0, 0, 0, 0, 0, 0, 0], [0, 0, 0, 0, 0, 0, 0, 0, 0, 0, 0, 0, 0, 0, 0, 0, 0, 0, 0, 0, 0, 0, 0, 0, 0, 0, 0, 0, 0, 0], [0, 0, 0, 0, 0, 0, 0, 0, 0, 0, 0, 0, 0, 0, 0, 0, 0, 0, 0, 0, 0, 0, 0, 0, 0, 0, 0, 0, 0, 0], [0, 0, 0, 0, 0, 0, 0, 0, 0, 0, 0, 0, 0, 0, 0, 0, 0, 0, 0, 0, 0, 0, 0, 0, 0, 0, 0, 0, 0, 0], [0, 0, 0, 0, 0, 0, 0, 0, 0, 0, 0, 0, 0, 0, 0, 0, 0, 0, 0, 0, 0, 0, 0, 0, 0, 0, 0, 0, 0, 0], [0, 0, 0, 0, 0, 0, 0, 0, 0, 0, 0, 0, 0, 0, 0, 0, 0, 0, 0, 0, 0, 0, 0, 0, 0, 0, 0, 0, 0, 0], [0, 0, 0, 0, 0, 0, 0, 0, 0, 0, 0, 0, 0, 0, 0, 0, 0, 0, 0, 0, 0, 0, 0, 0, 0, 0, 0, 0, 0, 0], [0, 0, 0, 0, 0, 0, 0, 0, 0, 0, 0, 0, 0, 0, 0, 0, 0, 0, 0, 0, 0, 0, 0, 0, 0, 0, 0, 0, 0, 0], [0, 0, 0, 0, 0, 0, 0, 0, 0, 0, 0, 0, 0, 0, 0, 0, 0, 0, 0, 0, 0, 0, 0, 0, 0, 0, 0, 0, 0, 0], [0, 0, 0, 0, 0, 0, 0, 0, 0, 0, 0, 0, 0, 0, 0, 0, 0, 0, 0, 0, 0, 0, 0, 0, 0, 0, 0, 0, 0, 0], [0, 0, 0, 0, 0, 0, 0, 0, 0, 0, 0, 0, 0, 0, 0, 0, 0, 0, 0, 0, 0, 0, 0, 0, 0, 0, 0, 0, 0, 0], [0, 0, 0, 0, 0, 0, 0, 0, 0, 0, 0, 0, 0, 0, 0, 0, 0, 0, 0, 0, 0, 0, 0, 0, 0, 0, 0, 0, 0, 0], [0, 0, 0, 0, 0, 0, 0, 0, 0, 0, 0, 0, 0, 0, 0, 0, 0, 0, 0, 0, 0, 0, 0, 0, 0, 0, 0, 0, 0, 0], [0, 0, 0, 0, 0, 0, 0, 0, 0, 0, 0, 0, 0, 0, 0, 0, 0, 0, 0, 0, 0, 0, 0, 0, 0, 0, 0, 0, 0, 0], [0, 0, 0, 0, 0, 0, 0, 0, 0, 0, 0, 0, 0, 0, 0, 0, 0, 0, 0, 0, 0, 0, 0, 0, 0, 0, 0, 0, 0, 0], [0, 0, 0, 0, 0, 0, 0, 0, 0, 0, 0, 0, 0, 0, 0, 0, 0, 0, 0, 0, 0, 0, 0, 0, 0, 0, 0, 0, 0, 0], [0, 0, 0, 0, 0, 0, 0, 0, 0, 0, 0, 0, 0, 0, 0, 0, 0, 0, 0, 0, 0, 0, 0, 0, 0, 0, 0, 0, 0, 0], [0, 0, 0, 0, 0, 0, 0, 0, 0, 0, 0, 0, 0, 0, 0, 0, 0, 0, 0, 0, 0, 0, 0, 0, 0, 0, 0, 0, 0, 0], [0, 0, 0, 0, 0, 0, 0, 0, 0, 0, 0, 0, 0, 0, 0, 0, 0, 0, 0, 0, 0, 0, 0, 0, 0, 0, 0, 0, 0, 0], [0, 0, 0, 0, 0, 0, 0, 0, 0, 0, 0, 0, 0, 0, 0, 0, 0, 0, 0, 0, 0, 0, 0, 0, 0, 0, 0, 0, 0, 0], [0, 0, 0, 0, 0, 0, 0, 0, 0, 0, 0, 0, 0, 0, 0, 0, 0, 0, 0, 0, 0, 0, 0, 0, 0, 0, 0, 0, 0, 0], [0, 0, 0, 0, 0, 0, 0, 0, 0, 0, 0, 0, 0, 0, 0, 0, 0, 0, 0, 0, 0, 0, 0, 0, 0, 0, 0, 0, 0, 0], [0, 0, 0, 0, 0, 0, 0, 0, 0, 0, 0, 0, 0, 0, 0, 0, 0, 0, 0, 0, 0, 0, 0, 0, 0, 0, 0, 0, 0, 0], [0, 0, 0, 0, 0, 0, 0, 0, 0, 0, 0, 0, 0, 0, 0, 0, 0, 0, 0, 0, 0, 0, 0, 0, 0, 0, 0, 0, 0, 0], [0, 0, 0, 0, 0, 0, 0, 0, 0, 0, 0, 0, 0, 0, 0, 0, 0, 0, 0, 0, 0, 0, 0, 0, 0, 0, 0, 0, 0, 0]]}]}\n"
     ]
    }
   ],
   "source": [
    "#print the formatted output\n",
    "print(\"Formatted Output:\")\n",
    "print(formatted_output)"
   ]
  },
  {
   "cell_type": "code",
   "execution_count": 47,
   "id": "554c07f2",
   "metadata": {
    "execution": {
     "iopub.execute_input": "2024-06-26T19:42:17.864942Z",
     "iopub.status.busy": "2024-06-26T19:42:17.864021Z",
     "iopub.status.idle": "2024-06-26T19:42:17.869422Z",
     "shell.execute_reply": "2024-06-26T19:42:17.868181Z"
    },
    "papermill": {
     "duration": 0.024159,
     "end_time": "2024-06-26T19:42:17.871844",
     "exception": false,
     "start_time": "2024-06-26T19:42:17.847685",
     "status": "completed"
    },
    "tags": []
   },
   "outputs": [],
   "source": [
    "submission_file = '/kaggle/working/submission.json'"
   ]
  },
  {
   "cell_type": "code",
   "execution_count": 48,
   "id": "9d089d13",
   "metadata": {
    "execution": {
     "iopub.execute_input": "2024-06-26T19:42:17.902611Z",
     "iopub.status.busy": "2024-06-26T19:42:17.902238Z",
     "iopub.status.idle": "2024-06-26T19:42:17.922914Z",
     "shell.execute_reply": "2024-06-26T19:42:17.921626Z"
    },
    "papermill": {
     "duration": 0.039054,
     "end_time": "2024-06-26T19:42:17.925447",
     "exception": false,
     "start_time": "2024-06-26T19:42:17.886393",
     "status": "completed"
    },
    "tags": []
   },
   "outputs": [],
   "source": [
    "#serialize formatted_output to json format\n",
    "json_predictions = json.dumps(formatted_output, indent=2)"
   ]
  },
  {
   "cell_type": "code",
   "execution_count": 49,
   "id": "4022e67c",
   "metadata": {
    "execution": {
     "iopub.execute_input": "2024-06-26T19:42:17.956699Z",
     "iopub.status.busy": "2024-06-26T19:42:17.956303Z",
     "iopub.status.idle": "2024-06-26T19:42:17.963499Z",
     "shell.execute_reply": "2024-06-26T19:42:17.962179Z"
    },
    "papermill": {
     "duration": 0.025774,
     "end_time": "2024-06-26T19:42:17.965836",
     "exception": false,
     "start_time": "2024-06-26T19:42:17.940062",
     "status": "completed"
    },
    "tags": []
   },
   "outputs": [
    {
     "name": "stdout",
     "output_type": "stream",
     "text": [
      "Submission file '/kaggle/working/submission.json' created successfully.\n"
     ]
    }
   ],
   "source": [
    "#save json to submission.json\n",
    "with open(submission_file, 'w') as file:\n",
    "    file.write(json_predictions)\n",
    "\n",
    "print(f\"Submission file '{submission_file}' created successfully.\")"
   ]
  }
 ],
 "metadata": {
  "kaggle": {
   "accelerator": "none",
   "dataSources": [
    {
     "databundleVersionId": 8951125,
     "sourceId": 67357,
     "sourceType": "competition"
    }
   ],
   "dockerImageVersionId": 30732,
   "isGpuEnabled": false,
   "isInternetEnabled": false,
   "language": "python",
   "sourceType": "notebook"
  },
  "kernelspec": {
   "display_name": "Python 3",
   "language": "python",
   "name": "python3"
  },
  "language_info": {
   "codemirror_mode": {
    "name": "ipython",
    "version": 3
   },
   "file_extension": ".py",
   "mimetype": "text/x-python",
   "name": "python",
   "nbconvert_exporter": "python",
   "pygments_lexer": "ipython3",
   "version": "3.10.13"
  },
  "papermill": {
   "default_parameters": {},
   "duration": 27.479374,
   "end_time": "2024-06-26T19:42:19.204307",
   "environment_variables": {},
   "exception": null,
   "input_path": "__notebook__.ipynb",
   "output_path": "__notebook__.ipynb",
   "parameters": {},
   "start_time": "2024-06-26T19:41:51.724933",
   "version": "2.5.0"
  }
 },
 "nbformat": 4,
 "nbformat_minor": 5
}
