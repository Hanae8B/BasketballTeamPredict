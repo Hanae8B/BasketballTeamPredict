{
 "cells": [
  {
   "cell_type": "code",
   "execution_count": 1,
   "id": "4ade30d5",
   "metadata": {
    "_cell_guid": "b1076dfc-b9ad-4769-8c92-a6c4dae69d19",
    "_uuid": "8f2839f25d086af736a60e9eeb907d3b93b6e0e5",
    "execution": {
     "iopub.execute_input": "2024-06-29T10:46:25.977198Z",
     "iopub.status.busy": "2024-06-29T10:46:25.976810Z",
     "iopub.status.idle": "2024-06-29T10:46:26.954212Z",
     "shell.execute_reply": "2024-06-29T10:46:26.953082Z"
    },
    "papermill": {
     "duration": 0.998626,
     "end_time": "2024-06-29T10:46:26.957200",
     "exception": false,
     "start_time": "2024-06-29T10:46:25.958574",
     "status": "completed"
    },
    "tags": []
   },
   "outputs": [
    {
     "name": "stdout",
     "output_type": "stream",
     "text": [
      "/kaggle/input/arc-prize-2024/arc-agi_training_solutions.json\n",
      "/kaggle/input/arc-prize-2024/arc-agi_evaluation_solutions.json\n",
      "/kaggle/input/arc-prize-2024/arc-agi_evaluation_challenges.json\n",
      "/kaggle/input/arc-prize-2024/sample_submission.json\n",
      "/kaggle/input/arc-prize-2024/arc-agi_training_challenges.json\n",
      "/kaggle/input/arc-prize-2024/arc-agi_test_challenges.json\n"
     ]
    }
   ],
   "source": [
    "# This Python 3 environment comes with many helpful analytics libraries installed\n",
    "# It is defined by the kaggle/python Docker image: https://github.com/kaggle/docker-python\n",
    "# For example, here's several helpful packages to load\n",
    "\n",
    "import numpy as np # linear algebra\n",
    "import pandas as pd # data processing, CSV file I/O (e.g. pd.read_csv)\n",
    "\n",
    "# Input data files are available in the read-only \"../input/\" directory\n",
    "# For example, running this (by clicking run or pressing Shift+Enter) will list all files under the input directory\n",
    "\n",
    "import os\n",
    "for dirname, _, filenames in os.walk('/kaggle/input'):\n",
    "    for filename in filenames:\n",
    "        print(os.path.join(dirname, filename))\n",
    "\n",
    "# You can write up to 20GB to the current directory (/kaggle/working/) that gets preserved as output when you create a version using \"Save & Run All\" \n",
    "# You can also write temporary files to /kaggle/temp/, but they won't be saved outside of the current session"
   ]
  },
  {
   "cell_type": "code",
   "execution_count": 2,
   "id": "e47f7896",
   "metadata": {
    "execution": {
     "iopub.execute_input": "2024-06-29T10:46:26.993204Z",
     "iopub.status.busy": "2024-06-29T10:46:26.992613Z",
     "iopub.status.idle": "2024-06-29T10:46:29.044155Z",
     "shell.execute_reply": "2024-06-29T10:46:29.043027Z"
    },
    "papermill": {
     "duration": 2.073342,
     "end_time": "2024-06-29T10:46:29.047009",
     "exception": false,
     "start_time": "2024-06-29T10:46:26.973667",
     "status": "completed"
    },
    "tags": []
   },
   "outputs": [
    {
     "name": "stdout",
     "output_type": "stream",
     "text": [
      "Structure of /kaggle/input/arc-prize-2024/arc-agi_training_solutions.json:\n",
      "{\n",
      "  \"007bbfb7\": [\n",
      "    [\n",
      "      [\n",
      "        7,\n",
      "        0,\n",
      "        7,\n",
      "        0,\n",
      "        0,\n",
      "        0,\n",
      "  ...\n",
      "\n",
      "Structure of /kaggle/input/arc-prize-2024/arc-agi_evaluation_challenges.json:\n",
      "{\n",
      "  \"00576224\": {\n",
      "    \"test\": [\n",
      "      {\n",
      "        \"input\": [\n",
      "          [\n",
      "            3,\n",
      "            2\n",
      "...\n",
      "\n",
      "Structure of /kaggle/input/arc-prize-2024/sample_submission.json:\n",
      "{\n",
      "  \"007bbfb7\": [\n",
      "    {\n",
      "      \"attempt_1\": [\n",
      "        [\n",
      "          0,\n",
      "          0\n",
      "        ],\n",
      "        [...\n",
      "\n",
      "Structure of /kaggle/input/arc-prize-2024/arc-agi_training_challenges.json:\n",
      "{\n",
      "  \"007bbfb7\": {\n",
      "    \"test\": [\n",
      "      {\n",
      "        \"input\": [\n",
      "          [\n",
      "            7,\n",
      "            0,...\n",
      "\n",
      "Structure of /kaggle/input/arc-prize-2024/arc-agi_test_challenges.json:\n",
      "{\n",
      "  \"007bbfb7\": {\n",
      "    \"test\": [\n",
      "      {\n",
      "        \"input\": [\n",
      "          [\n",
      "            7,\n",
      "            0,...\n",
      "\n"
     ]
    }
   ],
   "source": [
    "#inspect json files\n",
    "import json\n",
    "\n",
    "#list of JSON file paths\n",
    "json_files = ['/kaggle/input/arc-prize-2024/arc-agi_training_solutions.json',\n",
    "    '/kaggle/input/arc-prize-2024/arc-agi_evaluation_challenges.json',\n",
    "    '/kaggle/input/arc-prize-2024/sample_submission.json',\n",
    "    '/kaggle/input/arc-prize-2024/arc-agi_training_challenges.json',\n",
    "     '/kaggle/input/arc-prize-2024/arc-agi_test_challenges.json'\n",
    "             ]\n",
    "\n",
    "#read and print json structure\n",
    "def print_json_structure(file_path):\n",
    "    try:\n",
    "        with open(file_path, 'r') as file:\n",
    "            data = json.load(file)\n",
    "            print(f\"Structure of {file_path}:\")\n",
    "            print(json.dumps(data, indent=2)[:100] + \"...\\n\")  #only the fist 50 characters will be displayed\n",
    "    except FileNotFoundError:\n",
    "        print(f\"File not found: {file_path}\")\n",
    "\n",
    "#read and print structure of each json file\n",
    "for path in json_files:\n",
    "    print_json_structure(path)"
   ]
  },
  {
   "cell_type": "code",
   "execution_count": 3,
   "id": "11b3cfc1",
   "metadata": {
    "execution": {
     "iopub.execute_input": "2024-06-29T10:46:29.083896Z",
     "iopub.status.busy": "2024-06-29T10:46:29.083402Z",
     "iopub.status.idle": "2024-06-29T10:46:33.144830Z",
     "shell.execute_reply": "2024-06-29T10:46:33.143648Z"
    },
    "papermill": {
     "duration": 4.083663,
     "end_time": "2024-06-29T10:46:33.148118",
     "exception": false,
     "start_time": "2024-06-29T10:46:29.064455",
     "status": "completed"
    },
    "tags": []
   },
   "outputs": [],
   "source": [
    "#load and preprocess ARC dataset into input-output pairs\n",
    "import torch\n",
    "from torch.utils.data import DataLoader, Dataset\n",
    "\n",
    "#file paths\n",
    "train_solutions_path = '/kaggle/input/arc-prize-2024/arc-agi_training_solutions.json'\n",
    "train_challenges_path = '/kaggle/input/arc-prize-2024/arc-agi_training_challenges.json'\n",
    "\n",
    "#load json data\n",
    "def load_json(file_path):\n",
    "    with open(file_path, 'r') as f:\n",
    "        data = json.load(f)\n",
    "    return data\n",
    "\n",
    "#preprocess data into input-output pairs\n",
    "def preprocess_data(challenges, solutions):\n",
    "    data = []\n",
    "    for task_id, task_data in challenges.items():\n",
    "        input_grids = []\n",
    "        output_grids = []\n",
    "        for test_case in task_data['test']:\n",
    "            input_grid = np.array(test_case['input'], dtype=np.float32)\n",
    "            output_grid = np.array(solutions[task_id][0], dtype=np.float32)  #assuming first solution\n",
    "            input_grids.append(input_grid)\n",
    "            output_grids.append(output_grid)\n",
    "        data.append((input_grids, output_grids))\n",
    "    return data\n",
    "\n",
    "#load training challenges and solutions\n",
    "train_challenges = load_json(train_challenges_path)\n",
    "train_solutions = load_json(train_solutions_path)\n",
    "\n",
    "#preprocess training data\n",
    "train_data = preprocess_data(train_challenges, train_solutions)"
   ]
  },
  {
   "cell_type": "code",
   "execution_count": 4,
   "id": "5107efc6",
   "metadata": {
    "execution": {
     "iopub.execute_input": "2024-06-29T10:46:33.186298Z",
     "iopub.status.busy": "2024-06-29T10:46:33.185714Z",
     "iopub.status.idle": "2024-06-29T10:46:33.198596Z",
     "shell.execute_reply": "2024-06-29T10:46:33.196725Z"
    },
    "papermill": {
     "duration": 0.035971,
     "end_time": "2024-06-29T10:46:33.201860",
     "exception": false,
     "start_time": "2024-06-29T10:46:33.165889",
     "status": "completed"
    },
    "tags": []
   },
   "outputs": [],
   "source": [
    "#identify the maximum height and width of the grids in the ARC dataset\n",
    "\n",
    "def preprocess_data(challenges, solutions):\n",
    "    max_height = 0\n",
    "    max_width = 0\n",
    "    data = []\n",
    "    \n",
    "    for task_id, task_data in challenges.items():\n",
    "        input_grids = []\n",
    "        output_grids = []\n",
    "        \n",
    "        for test_case in task_data['test']:\n",
    "            input_grid = np.array(test_case['input'], dtype=np.float32)\n",
    "            output_grid = np.array(solutions[task_id][0], dtype=np.float32)  #assuming first solution\n",
    "            \n",
    "            input_height, input_width = input_grid.shape\n",
    "            output_height, output_width = output_grid.shape\n",
    "            \n",
    "            max_height = max(max_height, input_height, output_height)\n",
    "            max_width = max(max_width, input_width, output_width)\n",
    "            \n",
    "            input_grids.append(input_grid)\n",
    "            output_grids.append(output_grid)\n",
    "        \n",
    "        data.append((input_grids, output_grids))\n",
    "    \n",
    "    print(f\"Maximum height: {max_height}, Maximum width: {max_width}\")\n",
    "    return data"
   ]
  },
  {
   "cell_type": "code",
   "execution_count": 5,
   "id": "c10700cd",
   "metadata": {
    "execution": {
     "iopub.execute_input": "2024-06-29T10:46:33.240869Z",
     "iopub.status.busy": "2024-06-29T10:46:33.240450Z",
     "iopub.status.idle": "2024-06-29T10:46:33.466609Z",
     "shell.execute_reply": "2024-06-29T10:46:33.465104Z"
    },
    "papermill": {
     "duration": 0.248282,
     "end_time": "2024-06-29T10:46:33.469994",
     "exception": false,
     "start_time": "2024-06-29T10:46:33.221712",
     "status": "completed"
    },
    "tags": []
   },
   "outputs": [],
   "source": [
    "#load training challenges and solutions\n",
    "train_challenges = load_json(train_challenges_path)\n",
    "train_solutions = load_json(train_solutions_path)"
   ]
  },
  {
   "cell_type": "code",
   "execution_count": 6,
   "id": "31ddb70e",
   "metadata": {
    "execution": {
     "iopub.execute_input": "2024-06-29T10:46:33.506445Z",
     "iopub.status.busy": "2024-06-29T10:46:33.506037Z",
     "iopub.status.idle": "2024-06-29T10:46:33.534666Z",
     "shell.execute_reply": "2024-06-29T10:46:33.533464Z"
    },
    "papermill": {
     "duration": 0.049555,
     "end_time": "2024-06-29T10:46:33.537440",
     "exception": false,
     "start_time": "2024-06-29T10:46:33.487885",
     "status": "completed"
    },
    "tags": []
   },
   "outputs": [
    {
     "name": "stdout",
     "output_type": "stream",
     "text": [
      "Maximum height: 30, Maximum width: 30\n"
     ]
    }
   ],
   "source": [
    "#preprocess training data\n",
    "train_data = preprocess_data(train_challenges, train_solutions)"
   ]
  },
  {
   "cell_type": "code",
   "execution_count": 7,
   "id": "c6883dfa",
   "metadata": {
    "execution": {
     "iopub.execute_input": "2024-06-29T10:46:33.572907Z",
     "iopub.status.busy": "2024-06-29T10:46:33.572470Z",
     "iopub.status.idle": "2024-06-29T10:46:33.594136Z",
     "shell.execute_reply": "2024-06-29T10:46:33.591784Z"
    },
    "papermill": {
     "duration": 0.042919,
     "end_time": "2024-06-29T10:46:33.597147",
     "exception": false,
     "start_time": "2024-06-29T10:46:33.554228",
     "status": "completed"
    },
    "tags": []
   },
   "outputs": [
    {
     "name": "stdout",
     "output_type": "stream",
     "text": [
      "Sample Input-Output Pairs:\n",
      "Task ID: 007bbfb7\n",
      "Input Grid:\n",
      "[[7 0 7]\n",
      " [7 0 7]\n",
      " [7 7 0]]\n",
      "Output Grid:\n",
      "[[7 0 7 0 0 0 7 0 7]\n",
      " [7 0 7 0 0 0 7 0 7]\n",
      " [7 7 0 0 0 0 7 7 0]\n",
      " [7 0 7 0 0 0 7 0 7]\n",
      " [7 0 7 0 0 0 7 0 7]\n",
      " [7 7 0 0 0 0 7 7 0]\n",
      " [7 0 7 7 0 7 0 0 0]\n",
      " [7 0 7 7 0 7 0 0 0]\n",
      " [7 7 0 7 7 0 0 0 0]]\n",
      "\n",
      "Task ID: 00d62c1b\n",
      "Input Grid:\n",
      "[[0 0 0 0 0 0 0 0 0 0 0 0 0 0 0 0 0 0 0 0]\n",
      " [0 0 3 0 0 0 0 0 0 0 0 0 0 0 0 0 0 0 0 0]\n",
      " [0 3 0 3 3 0 0 0 0 0 0 0 0 0 0 0 0 0 0 0]\n",
      " [0 0 3 0 3 3 3 3 3 0 3 3 0 0 0 0 0 0 0 0]\n",
      " [0 0 0 0 3 0 0 0 0 3 0 0 3 0 0 0 0 0 0 0]\n",
      " [0 0 0 0 3 3 3 3 3 0 3 3 3 0 0 0 0 0 0 0]\n",
      " [0 0 0 0 0 0 0 0 0 0 0 0 0 3 3 3 3 3 0 0]\n",
      " [0 0 0 0 0 0 0 0 0 0 0 0 0 3 0 0 0 3 0 0]\n",
      " [0 0 0 0 0 0 0 0 0 0 0 0 0 3 0 0 0 3 0 0]\n",
      " [0 0 0 0 0 0 0 0 0 3 3 3 3 3 0 0 0 3 0 0]\n",
      " [0 0 0 0 0 0 0 0 0 3 0 0 0 3 0 0 0 3 0 0]\n",
      " [0 0 0 0 0 0 0 0 3 3 3 3 3 3 0 0 0 3 0 0]\n",
      " [0 0 0 0 0 0 3 3 0 3 0 0 0 3 3 3 3 3 0 0]\n",
      " [0 0 3 0 0 0 0 0 3 3 0 0 0 0 0 0 0 0 0 0]\n",
      " [0 3 0 3 0 0 0 0 0 0 0 0 0 0 0 0 0 0 0 0]\n",
      " [0 0 3 0 3 0 3 3 3 3 3 3 0 0 0 0 0 0 0 0]\n",
      " [0 0 0 0 0 0 0 3 0 0 0 3 0 0 0 0 0 0 0 0]\n",
      " [0 0 0 0 0 0 0 3 0 0 0 3 0 0 0 0 0 0 0 0]\n",
      " [0 0 0 0 0 0 0 3 3 3 3 3 0 0 0 0 0 0 0 0]\n",
      " [0 0 0 0 0 0 0 0 0 0 0 0 0 0 0 0 0 0 0 0]]\n",
      "Output Grid:\n",
      "[[0 0 0 0 0 0 0 0 0 0 0 0 0 0 0 0 0 0 0 0]\n",
      " [0 0 3 0 0 0 0 0 0 0 0 0 0 0 0 0 0 0 0 0]\n",
      " [0 3 4 3 3 0 0 0 0 0 0 0 0 0 0 0 0 0 0 0]\n",
      " [0 0 3 0 3 3 3 3 3 0 3 3 0 0 0 0 0 0 0 0]\n",
      " [0 0 0 0 3 4 4 4 4 3 4 4 3 0 0 0 0 0 0 0]\n",
      " [0 0 0 0 3 3 3 3 3 0 3 3 3 0 0 0 0 0 0 0]\n",
      " [0 0 0 0 0 0 0 0 0 0 0 0 0 3 3 3 3 3 0 0]\n",
      " [0 0 0 0 0 0 0 0 0 0 0 0 0 3 4 4 4 3 0 0]\n",
      " [0 0 0 0 0 0 0 0 0 0 0 0 0 3 4 4 4 3 0 0]\n",
      " [0 0 0 0 0 0 0 0 0 3 3 3 3 3 4 4 4 3 0 0]\n",
      " [0 0 0 0 0 0 0 0 0 3 4 4 4 3 4 4 4 3 0 0]\n",
      " [0 0 0 0 0 0 0 0 3 3 3 3 3 3 4 4 4 3 0 0]\n",
      " [0 0 0 0 0 0 3 3 4 3 0 0 0 3 3 3 3 3 0 0]\n",
      " [0 0 3 0 0 0 0 0 3 3 0 0 0 0 0 0 0 0 0 0]\n",
      " [0 3 4 3 0 0 0 0 0 0 0 0 0 0 0 0 0 0 0 0]\n",
      " [0 0 3 0 3 0 3 3 3 3 3 3 0 0 0 0 0 0 0 0]\n",
      " [0 0 0 0 0 0 0 3 4 4 4 3 0 0 0 0 0 0 0 0]\n",
      " [0 0 0 0 0 0 0 3 4 4 4 3 0 0 0 0 0 0 0 0]\n",
      " [0 0 0 0 0 0 0 3 3 3 3 3 0 0 0 0 0 0 0 0]\n",
      " [0 0 0 0 0 0 0 0 0 0 0 0 0 0 0 0 0 0 0 0]]\n",
      "\n",
      "Task ID: 017c7c7b\n",
      "Input Grid:\n",
      "[[1 1 1]\n",
      " [0 1 0]\n",
      " [0 1 0]\n",
      " [1 1 1]\n",
      " [0 1 0]\n",
      " [0 1 0]]\n",
      "Output Grid:\n",
      "[[2 2 2]\n",
      " [0 2 0]\n",
      " [0 2 0]\n",
      " [2 2 2]\n",
      " [0 2 0]\n",
      " [0 2 0]\n",
      " [2 2 2]\n",
      " [0 2 0]\n",
      " [0 2 0]]\n",
      "\n",
      "Task ID: 025d127b\n",
      "Input Grid:\n",
      "[[0 0 0 0 0 0 0 0 0 0]\n",
      " [0 4 4 4 4 4 4 0 0 0]\n",
      " [0 4 0 0 0 0 0 4 0 0]\n",
      " [0 0 4 0 0 0 0 0 4 0]\n",
      " [0 0 0 4 0 0 0 0 0 4]\n",
      " [0 0 0 0 4 4 4 4 4 4]\n",
      " [0 0 0 0 0 0 0 0 0 0]\n",
      " [0 0 0 0 0 0 0 0 0 0]\n",
      " [0 0 0 0 0 0 0 0 0 0]\n",
      " [0 0 0 0 0 0 0 0 0 0]]\n",
      "Output Grid:\n",
      "[[0 0 0 0 0 0 0 0 0 0]\n",
      " [0 0 4 4 4 4 4 4 0 0]\n",
      " [0 0 4 0 0 0 0 0 4 0]\n",
      " [0 0 0 4 0 0 0 0 0 4]\n",
      " [0 0 0 0 4 0 0 0 0 4]\n",
      " [0 0 0 0 4 4 4 4 4 4]\n",
      " [0 0 0 0 0 0 0 0 0 0]\n",
      " [0 0 0 0 0 0 0 0 0 0]\n",
      " [0 0 0 0 0 0 0 0 0 0]\n",
      " [0 0 0 0 0 0 0 0 0 0]]\n",
      "\n",
      "Task ID: 045e512c\n",
      "Input Grid:\n",
      "[[0 0 0 0 0 0 0 0 0 0 0 0 0 0 0 0 0 0 0 0 0]\n",
      " [0 0 0 0 0 0 0 0 0 0 0 0 0 0 0 0 0 0 0 0 0]\n",
      " [0 0 0 0 0 0 0 0 0 0 0 0 0 0 0 0 0 0 0 0 0]\n",
      " [0 0 0 0 0 0 0 0 0 0 0 0 0 0 0 0 0 0 0 0 0]\n",
      " [0 0 0 0 0 0 0 0 0 0 4 0 0 0 0 0 0 0 0 0 0]\n",
      " [0 0 0 0 0 0 0 0 0 0 4 0 0 0 0 0 0 0 0 0 0]\n",
      " [0 0 0 0 0 0 0 0 0 0 0 0 0 0 0 0 0 0 0 0 0]\n",
      " [0 0 0 0 0 0 8 8 8 0 2 0 0 0 0 0 0 0 0 0 0]\n",
      " [0 0 0 0 0 0 8 0 8 0 2 0 0 0 0 0 0 0 0 0 0]\n",
      " [0 0 0 0 0 0 8 0 8 0 2 0 0 0 0 0 0 0 0 0 0]\n",
      " [0 0 0 0 0 0 0 0 0 0 0 0 0 0 0 0 0 0 0 0 0]\n",
      " [0 0 0 0 0 0 3 3 3 0 0 0 0 0 0 0 0 0 0 0 0]\n",
      " [0 0 0 0 0 0 0 0 0 0 0 0 0 0 0 0 0 0 0 0 0]\n",
      " [0 0 0 0 0 0 0 0 0 0 0 0 0 0 0 0 0 0 0 0 0]\n",
      " [0 0 0 0 0 0 0 0 0 0 0 0 0 0 0 0 0 0 0 0 0]\n",
      " [0 0 0 0 0 0 0 0 0 0 0 0 0 0 0 0 0 0 0 0 0]\n",
      " [0 0 0 0 0 0 0 0 0 0 0 0 0 0 0 0 0 0 0 0 0]\n",
      " [0 0 0 0 0 0 0 0 0 0 0 0 0 0 0 0 0 0 0 0 0]\n",
      " [0 0 0 0 0 0 0 0 0 0 0 0 0 0 0 0 0 0 0 0 0]\n",
      " [0 0 0 0 0 0 0 0 0 0 0 0 0 0 0 0 0 0 0 0 0]\n",
      " [0 0 0 0 0 0 0 0 0 0 0 0 0 0 0 0 0 0 0 0 0]]\n",
      "Output Grid:\n",
      "[[0 0 0 0 0 0 0 0 0 0 0 0 0 0 4 0 4 0 0 0 0]\n",
      " [0 0 0 0 0 0 0 0 0 0 0 0 0 0 4 0 4 0 0 0 0]\n",
      " [0 0 0 0 0 0 0 0 0 0 0 0 0 0 0 0 0 0 0 0 0]\n",
      " [0 0 0 0 0 0 0 0 0 0 4 4 4 0 0 0 0 0 0 0 0]\n",
      " [0 0 0 0 0 0 0 0 0 0 4 0 4 0 0 0 0 0 0 0 0]\n",
      " [0 0 0 0 0 0 0 0 0 0 4 0 4 0 0 0 0 0 0 0 0]\n",
      " [0 0 0 0 0 0 0 0 0 0 0 0 0 0 0 0 0 0 0 0 0]\n",
      " [0 0 0 0 0 0 8 8 8 0 2 2 2 0 2 2 2 0 2 2 2]\n",
      " [0 0 0 0 0 0 8 0 8 0 2 0 2 0 2 0 2 0 2 0 2]\n",
      " [0 0 0 0 0 0 8 0 8 0 2 0 2 0 2 0 2 0 2 0 2]\n",
      " [0 0 0 0 0 0 0 0 0 0 0 0 0 0 0 0 0 0 0 0 0]\n",
      " [0 0 0 0 0 0 3 3 3 0 0 0 0 0 0 0 0 0 0 0 0]\n",
      " [0 0 0 0 0 0 3 0 3 0 0 0 0 0 0 0 0 0 0 0 0]\n",
      " [0 0 0 0 0 0 3 0 3 0 0 0 0 0 0 0 0 0 0 0 0]\n",
      " [0 0 0 0 0 0 0 0 0 0 0 0 0 0 0 0 0 0 0 0 0]\n",
      " [0 0 0 0 0 0 3 3 3 0 0 0 0 0 0 0 0 0 0 0 0]\n",
      " [0 0 0 0 0 0 3 0 3 0 0 0 0 0 0 0 0 0 0 0 0]\n",
      " [0 0 0 0 0 0 3 0 3 0 0 0 0 0 0 0 0 0 0 0 0]\n",
      " [0 0 0 0 0 0 0 0 0 0 0 0 0 0 0 0 0 0 0 0 0]\n",
      " [0 0 0 0 0 0 3 3 3 0 0 0 0 0 0 0 0 0 0 0 0]\n",
      " [0 0 0 0 0 0 3 0 3 0 0 0 0 0 0 0 0 0 0 0 0]]\n",
      "\n"
     ]
    }
   ],
   "source": [
    "#print sample input-output pairs\n",
    "def print_sample_pairs(challenges, solutions, num_samples=5):\n",
    "    sample_tasks = list(challenges.keys())[:num_samples]\n",
    "    \n",
    "    for task_id in sample_tasks:\n",
    "        task_data = challenges[task_id]\n",
    "        input_grid = np.array(task_data['test'][0]['input'])  #taking the first test case\n",
    "        output_grid = np.array(solutions[task_id][0])  #assuming first solution\n",
    "        \n",
    "        print(f\"Task ID: {task_id}\")\n",
    "        print(\"Input Grid:\")\n",
    "        print(input_grid)\n",
    "        print(\"Output Grid:\")\n",
    "        print(output_grid)\n",
    "        print()\n",
    "\n",
    "#print sample input-output pairs\n",
    "print(\"Sample Input-Output Pairs:\")\n",
    "print_sample_pairs(train_challenges, train_solutions)"
   ]
  },
  {
   "cell_type": "code",
   "execution_count": 8,
   "id": "64ac3618",
   "metadata": {
    "execution": {
     "iopub.execute_input": "2024-06-29T10:46:33.633164Z",
     "iopub.status.busy": "2024-06-29T10:46:33.632746Z",
     "iopub.status.idle": "2024-06-29T10:46:34.180151Z",
     "shell.execute_reply": "2024-06-29T10:46:34.178790Z"
    },
    "papermill": {
     "duration": 0.568487,
     "end_time": "2024-06-29T10:46:34.182900",
     "exception": false,
     "start_time": "2024-06-29T10:46:33.614413",
     "status": "completed"
    },
    "tags": []
   },
   "outputs": [
    {
     "data": {
      "image/png": "[encoded data removed]",
      "text/plain": [
       "<Figure size 1000x500 with 2 Axes>"
      ]
     },
     "metadata": {},
     "output_type": "display_data"
    }
   ],
   "source": [
    "import matplotlib.pyplot as plt\n",
    "\n",
    "#visualize sample grids\n",
    "def visualize_grids(input_grid, output_grid):\n",
    "    fig, axes = plt.subplots(1, 2, figsize=(10, 5))\n",
    "    \n",
    "    axes[0].imshow(input_grid, cmap='viridis')\n",
    "    axes[0].set_title('Input Grid')\n",
    "    \n",
    "    axes[1].imshow(output_grid, cmap='viridis')\n",
    "    axes[1].set_title('Output Grid')\n",
    "    \n",
    "    plt.show()\n",
    "\n",
    "sample_task_id = list(train_challenges.keys())[0]\n",
    "sample_input = np.array(train_challenges[sample_task_id]['test'][0]['input'])\n",
    "sample_output = np.array(train_solutions[sample_task_id][0])\n",
    "\n",
    "visualize_grids(sample_input, sample_output)"
   ]
  },
  {
   "cell_type": "code",
   "execution_count": 9,
   "id": "0696558c",
   "metadata": {
    "execution": {
     "iopub.execute_input": "2024-06-29T10:46:34.223157Z",
     "iopub.status.busy": "2024-06-29T10:46:34.222668Z",
     "iopub.status.idle": "2024-06-29T10:46:34.239907Z",
     "shell.execute_reply": "2024-06-29T10:46:34.238149Z"
    },
    "papermill": {
     "duration": 0.041266,
     "end_time": "2024-06-29T10:46:34.243197",
     "exception": false,
     "start_time": "2024-06-29T10:46:34.201931",
     "status": "completed"
    },
    "tags": []
   },
   "outputs": [],
   "source": [
    "#resize or pad to handle different input and output grids\n",
    "\n",
    "def preprocess_data(challenges, solutions):\n",
    "    data = []\n",
    "    \n",
    "    for task_id, task_data in challenges.items():\n",
    "        input_grids = []\n",
    "        output_grids = []\n",
    "        \n",
    "        max_height = 0\n",
    "        max_width = 0\n",
    "        \n",
    "        #determine maximum dimensions across all test cases for this task\n",
    "        for test_case in task_data['test']:\n",
    "            input_grid = np.array(test_case['input'], dtype=np.float32)\n",
    "            output_grid = np.array(solutions[task_id][0], dtype=np.float32)  #assuming first solution\n",
    "            \n",
    "            max_height = max(max_height, input_grid.shape[0], output_grid.shape[0])\n",
    "            max_width = max(max_width, input_grid.shape[1], output_grid.shape[1])\n",
    "        \n",
    "        #resize or pad all input and output grids to match the maximum dimensions\n",
    "        for test_case in task_data['test']:\n",
    "            input_grid = np.array(test_case['input'], dtype=np.float32)\n",
    "            output_grid = np.array(solutions[task_id][0], dtype=np.float32)  #assuming first solution\n",
    "            \n",
    "            resized_input = np.zeros((max_height, max_width), dtype=np.float32)\n",
    "            resized_output = np.zeros((max_height, max_width), dtype=np.float32)\n",
    "            \n",
    "            resized_input[:input_grid.shape[0], :input_grid.shape[1]] = input_grid\n",
    "            resized_output[:output_grid.shape[0], :output_grid.shape[1]] = output_grid\n",
    "            \n",
    "            input_grids.append(resized_input)\n",
    "            output_grids.append(resized_output)\n",
    "        \n",
    "        #convert input_grids and output_grids to tensors\n",
    "        input_grids = torch.stack([torch.Tensor(grid).unsqueeze(0) for grid in input_grids])\n",
    "        output_grids = torch.stack([torch.Tensor(grid).unsqueeze(0) for grid in output_grids])\n",
    "        \n",
    "        data.append((input_grids, output_grids))\n",
    "    \n",
    "    return data"
   ]
  },
  {
   "cell_type": "code",
   "execution_count": 10,
   "id": "883308e1",
   "metadata": {
    "execution": {
     "iopub.execute_input": "2024-06-29T10:46:34.281967Z",
     "iopub.status.busy": "2024-06-29T10:46:34.281535Z",
     "iopub.status.idle": "2024-06-29T10:46:34.317456Z",
     "shell.execute_reply": "2024-06-29T10:46:34.316237Z"
    },
    "papermill": {
     "duration": 0.059247,
     "end_time": "2024-06-29T10:46:34.320567",
     "exception": false,
     "start_time": "2024-06-29T10:46:34.261320",
     "status": "completed"
    },
    "tags": []
   },
   "outputs": [
    {
     "name": "stdout",
     "output_type": "stream",
     "text": [
      "Input grid size statistics:\n",
      "Mean size: [11.33173077 11.77163462]\n",
      "Median size: [10. 10.]\n",
      "Min size: [1 2]\n",
      "Max size: [30 30]\n",
      "\n",
      "Output grid size statistics:\n",
      "Mean size: [ 9.80048077 10.25721154]\n",
      "Median size: [10. 10.]\n",
      "Min size: [1 1]\n",
      "Max size: [30 30]\n"
     ]
    }
   ],
   "source": [
    "#analyze the distribution of grid sizes and identify common patterns of transformation\n",
    "\n",
    "def analyze_task_variability(challenges, solutions):\n",
    "    input_sizes = []\n",
    "    output_sizes = []\n",
    "    \n",
    "    for task_id, task_data in challenges.items():\n",
    "        for test_case in task_data['test']:\n",
    "            input_grid = np.array(test_case['input'])\n",
    "            output_grid = np.array(solutions[task_id][0])  #assuming first solution\n",
    "            \n",
    "            input_sizes.append(input_grid.shape)\n",
    "            output_sizes.append(output_grid.shape)\n",
    "    \n",
    "    input_sizes = np.array(input_sizes)\n",
    "    output_sizes = np.array(output_sizes)\n",
    "    \n",
    "    print(f\"Input grid size statistics:\")\n",
    "    print(f\"Mean size: {np.mean(input_sizes, axis=0)}\")\n",
    "    print(f\"Median size: {np.median(input_sizes, axis=0)}\")\n",
    "    print(f\"Min size: {np.min(input_sizes, axis=0)}\")\n",
    "    print(f\"Max size: {np.max(input_sizes, axis=0)}\")\n",
    "    \n",
    "    print(f\"\\nOutput grid size statistics:\")\n",
    "    print(f\"Mean size: {np.mean(output_sizes, axis=0)}\")\n",
    "    print(f\"Median size: {np.median(output_sizes, axis=0)}\")\n",
    "    print(f\"Min size: {np.min(output_sizes, axis=0)}\")\n",
    "    print(f\"Max size: {np.max(output_sizes, axis=0)}\")\n",
    "\n",
    "#usage example:\n",
    "analyze_task_variability(train_challenges, train_solutions)"
   ]
  },
  {
   "cell_type": "code",
   "execution_count": 11,
   "id": "d5c11562",
   "metadata": {
    "execution": {
     "iopub.execute_input": "2024-06-29T10:46:34.358598Z",
     "iopub.status.busy": "2024-06-29T10:46:34.358207Z",
     "iopub.status.idle": "2024-06-29T10:46:34.374498Z",
     "shell.execute_reply": "2024-06-29T10:46:34.373267Z"
    },
    "papermill": {
     "duration": 0.039,
     "end_time": "2024-06-29T10:46:34.377483",
     "exception": false,
     "start_time": "2024-06-29T10:46:34.338483",
     "status": "completed"
    },
    "tags": []
   },
   "outputs": [
    {
     "name": "stdout",
     "output_type": "stream",
     "text": [
      "[([array([[7., 0., 7.],\n",
      "       [7., 0., 7.],\n",
      "       [7., 7., 0.]], dtype=float32)], [array([[7., 0., 7., 0., 0., 0., 7., 0., 7.],\n",
      "       [7., 0., 7., 0., 0., 0., 7., 0., 7.],\n",
      "       [7., 7., 0., 0., 0., 0., 7., 7., 0.],\n",
      "       [7., 0., 7., 0., 0., 0., 7., 0., 7.],\n",
      "       [7., 0., 7., 0., 0., 0., 7., 0., 7.],\n",
      "       [7., 7., 0., 0., 0., 0., 7., 7., 0.],\n",
      "       [7., 0., 7., 7., 0., 7., 0., 0., 0.],\n",
      "       [7., 0., 7., 7., 0., 7., 0., 0., 0.],\n",
      "       [7., 7., 0., 7., 7., 0., 0., 0., 0.]], dtype=float32)]), ([array([[0., 0., 0., 0., 0., 0., 0., 0., 0., 0., 0., 0., 0., 0., 0., 0.,\n",
      "        0., 0., 0., 0.],\n",
      "       [0., 0., 3., 0., 0., 0., 0., 0., 0., 0., 0., 0., 0., 0., 0., 0.,\n",
      "        0., 0., 0., 0.],\n",
      "       [0., 3., 0., 3., 3., 0., 0., 0., 0., 0., 0., 0., 0., 0., 0., 0.,\n",
      "        0., 0., 0., 0.],\n",
      "       [0., 0., 3., 0., 3., 3., 3., 3., 3., 0., 3., 3., 0., 0., 0., 0.,\n",
      "        0., 0., 0., 0.],\n",
      "       [0., 0., 0., 0., 3., 0., 0., 0., 0., 3., 0., 0., 3., 0., 0., 0.,\n",
      "        0., 0., 0., 0.],\n",
      "       [0., 0., 0., 0., 3., 3., 3., 3., 3., 0., 3., 3., 3., 0., 0., 0.,\n",
      "        0., 0., 0., 0.],\n",
      "       [0., 0., 0., 0., 0., 0., 0., 0., 0., 0., 0., 0., 0., 3., 3., 3.,\n",
      "        3., 3., 0., 0.],\n",
      "       [0., 0., 0., 0., 0., 0., 0., 0., 0., 0., 0., 0., 0., 3., 0., 0.,\n",
      "        0., 3., 0., 0.],\n",
      "       [0., 0., 0., 0., 0., 0., 0., 0., 0., 0., 0., 0., 0., 3., 0., 0.,\n",
      "        0., 3., 0., 0.],\n",
      "       [0., 0., 0., 0., 0., 0., 0., 0., 0., 3., 3., 3., 3., 3., 0., 0.,\n",
      "        0., 3., 0., 0.],\n",
      "       [0., 0., 0., 0., 0., 0., 0., 0., 0., 3., 0., 0., 0., 3., 0., 0.,\n",
      "        0., 3., 0., 0.],\n",
      "       [0., 0., 0., 0., 0., 0., 0., 0., 3., 3., 3., 3., 3., 3., 0., 0.,\n",
      "        0., 3., 0., 0.],\n",
      "       [0., 0., 0., 0., 0., 0., 3., 3., 0., 3., 0., 0., 0., 3., 3., 3.,\n",
      "        3., 3., 0., 0.],\n",
      "       [0., 0., 3., 0., 0., 0., 0., 0., 3., 3., 0., 0., 0., 0., 0., 0.,\n",
      "        0., 0., 0., 0.],\n",
      "       [0., 3., 0., 3., 0., 0., 0., 0., 0., 0., 0., 0., 0., 0., 0., 0.,\n",
      "        0., 0., 0., 0.],\n",
      "       [0., 0., 3., 0., 3., 0., 3., 3., 3., 3., 3., 3., 0., 0., 0., 0.,\n",
      "        0., 0., 0., 0.],\n",
      "       [0., 0., 0., 0., 0., 0., 0., 3., 0., 0., 0., 3., 0., 0., 0., 0.,\n",
      "        0., 0., 0., 0.],\n",
      "       [0., 0., 0., 0., 0., 0., 0., 3., 0., 0., 0., 3., 0., 0., 0., 0.,\n",
      "        0., 0., 0., 0.],\n",
      "       [0., 0., 0., 0., 0., 0., 0., 3., 3., 3., 3., 3., 0., 0., 0., 0.,\n",
      "        0., 0., 0., 0.],\n",
      "       [0., 0., 0., 0., 0., 0., 0., 0., 0., 0., 0., 0., 0., 0., 0., 0.,\n",
      "        0., 0., 0., 0.]], dtype=float32)], [array([[0., 0., 0., 0., 0., 0., 0., 0., 0., 0., 0., 0., 0., 0., 0., 0.,\n",
      "        0., 0., 0., 0.],\n",
      "       [0., 0., 3., 0., 0., 0., 0., 0., 0., 0., 0., 0., 0., 0., 0., 0.,\n",
      "        0., 0., 0., 0.],\n",
      "       [0., 3., 4., 3., 3., 0., 0., 0., 0., 0., 0., 0., 0., 0., 0., 0.,\n",
      "        0., 0., 0., 0.],\n",
      "       [0., 0., 3., 0., 3., 3., 3., 3., 3., 0., 3., 3., 0., 0., 0., 0.,\n",
      "        0., 0., 0., 0.],\n",
      "       [0., 0., 0., 0., 3., 4., 4., 4., 4., 3., 4., 4., 3., 0., 0., 0.,\n",
      "        0., 0., 0., 0.],\n",
      "       [0., 0., 0., 0., 3., 3., 3., 3., 3., 0., 3., 3., 3., 0., 0., 0.,\n",
      "        0., 0., 0., 0.],\n",
      "       [0., 0., 0., 0., 0., 0., 0., 0., 0., 0., 0., 0., 0., 3., 3., 3.,\n",
      "        3., 3., 0., 0.],\n",
      "       [0., 0., 0., 0., 0., 0., 0., 0., 0., 0., 0., 0., 0., 3., 4., 4.,\n",
      "        4., 3., 0., 0.],\n",
      "       [0., 0., 0., 0., 0., 0., 0., 0., 0., 0., 0., 0., 0., 3., 4., 4.,\n",
      "        4., 3., 0., 0.],\n",
      "       [0., 0., 0., 0., 0., 0., 0., 0., 0., 3., 3., 3., 3., 3., 4., 4.,\n",
      "        4., 3., 0., 0.],\n",
      "       [0., 0., 0., 0., 0., 0., 0., 0., 0., 3., 4., 4., 4., 3., 4., 4.,\n",
      "        4., 3., 0., 0.],\n",
      "       [0., 0., 0., 0., 0., 0., 0., 0., 3., 3., 3., 3., 3., 3., 4., 4.,\n",
      "        4., 3., 0., 0.],\n",
      "       [0., 0., 0., 0., 0., 0., 3., 3., 4., 3., 0., 0., 0., 3., 3., 3.,\n",
      "        3., 3., 0., 0.],\n",
      "       [0., 0., 3., 0., 0., 0., 0., 0., 3., 3., 0., 0., 0., 0., 0., 0.,\n",
      "        0., 0., 0., 0.],\n",
      "       [0., 3., 4., 3., 0., 0., 0., 0., 0., 0., 0., 0., 0., 0., 0., 0.,\n",
      "        0., 0., 0., 0.],\n",
      "       [0., 0., 3., 0., 3., 0., 3., 3., 3., 3., 3., 3., 0., 0., 0., 0.,\n",
      "        0., 0., 0., 0.],\n",
      "       [0., 0., 0., 0., 0., 0., 0., 3., 4., 4., 4., 3., 0., 0., 0., 0.,\n",
      "        0., 0., 0., 0.],\n",
      "       [0., 0., 0., 0., 0., 0., 0., 3., 4., 4., 4., 3., 0., 0., 0., 0.,\n",
      "        0., 0., 0., 0.],\n",
      "       [0., 0., 0., 0., 0., 0., 0., 3., 3., 3., 3., 3., 0., 0., 0., 0.,\n",
      "        0., 0., 0., 0.],\n",
      "       [0., 0., 0., 0., 0., 0., 0., 0., 0., 0., 0., 0., 0., 0., 0., 0.,\n",
      "        0., 0., 0., 0.]], dtype=float32)]), ([array([[1., 1., 1.],\n",
      "       [0., 1., 0.],\n",
      "       [0., 1., 0.],\n",
      "       [1., 1., 1.],\n",
      "       [0., 1., 0.],\n",
      "       [0., 1., 0.]], dtype=float32)], [array([[2., 2., 2.],\n",
      "       [0., 2., 0.],\n",
      "       [0., 2., 0.],\n",
      "       [2., 2., 2.],\n",
      "       [0., 2., 0.],\n",
      "       [0., 2., 0.],\n",
      "       [2., 2., 2.],\n",
      "       [0., 2., 0.],\n",
      "       [0., 2., 0.]], dtype=float32)])]\n"
     ]
    }
   ],
   "source": [
    "#inspect the structure of preprocessed data\n",
    "print(train_data[:3])"
   ]
  },
  {
   "cell_type": "code",
   "execution_count": 12,
   "id": "21714290",
   "metadata": {
    "execution": {
     "iopub.execute_input": "2024-06-29T10:46:34.417188Z",
     "iopub.status.busy": "2024-06-29T10:46:34.416749Z",
     "iopub.status.idle": "2024-06-29T10:46:34.423882Z",
     "shell.execute_reply": "2024-06-29T10:46:34.422703Z"
    },
    "papermill": {
     "duration": 0.030405,
     "end_time": "2024-06-29T10:46:34.426812",
     "exception": false,
     "start_time": "2024-06-29T10:46:34.396407",
     "status": "completed"
    },
    "tags": []
   },
   "outputs": [],
   "source": [
    "#extract input and output grids\n",
    "input_grids = [item[0][0] for item in train_data]\n",
    "output_grids = [item[1][0] for item in train_data]"
   ]
  },
  {
   "cell_type": "code",
   "execution_count": 13,
   "id": "426189d8",
   "metadata": {
    "execution": {
     "iopub.execute_input": "2024-06-29T10:46:34.465727Z",
     "iopub.status.busy": "2024-06-29T10:46:34.464949Z",
     "iopub.status.idle": "2024-06-29T10:46:34.472072Z",
     "shell.execute_reply": "2024-06-29T10:46:34.470664Z"
    },
    "papermill": {
     "duration": 0.030824,
     "end_time": "2024-06-29T10:46:34.475484",
     "exception": false,
     "start_time": "2024-06-29T10:46:34.444660",
     "status": "completed"
    },
    "tags": []
   },
   "outputs": [
    {
     "name": "stdout",
     "output_type": "stream",
     "text": [
      "Shapes of input grids: [(3, 3), (20, 20), (6, 3), (10, 10), (21, 21), (3, 7), (7, 7), (11, 10), (26, 26), (9, 9), (11, 11), (12, 12), (11, 27), (15, 17), (9, 9), (3, 3), (21, 21), (24, 19), (6, 5), (10, 10), (22, 22), (11, 11), (8, 11), (12, 11), (19, 26), (5, 7), (10, 10), (10, 10), (17, 16), (10, 10), (12, 12), (5, 5), (17, 17), (9, 9), (10, 10), (30, 30), (10, 10), (9, 9), (10, 10), (10, 10), (10, 10), (10, 10), (10, 10), (10, 10), (10, 10), (3, 11), (9, 9), (8, 6), (18, 18), (12, 13), (16, 11), (3, 3), (3, 3), (30, 30), (17, 15), (3, 3), (8, 8), (18, 18), (11, 11), (5, 11), (18, 18), (10, 10), (14, 14), (19, 21), (13, 13), (13, 13), (5, 15), (10, 10), (10, 10), (17, 17), (16, 16), (13, 5), (5, 5), (30, 30), (9, 13), (14, 15), (17, 18), (10, 10), (14, 14), (29, 29), (7, 7), (6, 12), (3, 4), (10, 10), (11, 20), (12, 12), (3, 3), (18, 19), (13, 13), (4, 24), (14, 13), (20, 20), (14, 14), (15, 15), (9, 9), (19, 19), (17, 14), (17, 19), (10, 10), (10, 10), (17, 21), (12, 12), (3, 3), (3, 3), (13, 13), (3, 3), (5, 5), (10, 10), (13, 13), (29, 29), (10, 10), (18, 14), (10, 6), (3, 2), (14, 14), (3, 4), (15, 15), (19, 22), (12, 12), (14, 13), (13, 13), (7, 17), (5, 5), (8, 10), (15, 15), (7, 11), (7, 11), (15, 15), (3, 3), (9, 9), (4, 18), (9, 8), (19, 30), (22, 26), (9, 9), (10, 10), (28, 28), (16, 15), (9, 9), (3, 3), (17, 17), (3, 3), (10, 10), (9, 4), (13, 16), (9, 3), (5, 5), (21, 12), (11, 11), (3, 3), (12, 12), (3, 3), (10, 10), (15, 15), (7, 7), (10, 10), (10, 15), (22, 22), (24, 26), (10, 10), (16, 19), (20, 20), (11, 11), (3, 3), (20, 20), (9, 11), (3, 3), (10, 10), (10, 10), (21, 24), (7, 6), (3, 3), (19, 19), (10, 10), (21, 21), (3, 25), (17, 17), (4, 9), (3, 3), (8, 8), (6, 9), (20, 20), (10, 10), (23, 28), (29, 29), (3, 3), (22, 25), (8, 3), (9, 9), (10, 10), (23, 23), (12, 17), (10, 10), (3, 3), (17, 19), (12, 12), (14, 10), (27, 27), (12, 12), (10, 10), (13, 13), (17, 15), (14, 14), (20, 20), (19, 17), (10, 11), (5, 5), (21, 21), (19, 18), (3, 3), (3, 2), (10, 10), (19, 19), (3, 11), (14, 13), (20, 20), (9, 9), (21, 21), (15, 10), (16, 16), (3, 3), (16, 16), (3, 3), (15, 15), (6, 6), (10, 10), (8, 4), (10, 10), (3, 3), (15, 15), (5, 9), (9, 8), (19, 15), (12, 17), (4, 14), (9, 4), (7, 8), (16, 16), (4, 4), (19, 19), (6, 6), (16, 16), (16, 16), (23, 23), (10, 8), (12, 14), (10, 10), (10, 5), (5, 4), (10, 10), (9, 9), (12, 12), (13, 13), (9, 9), (30, 30), (9, 9), (9, 9), (10, 10), (6, 6), (10, 10), (5, 5), (3, 3), (15, 3), (16, 15), (18, 18), (3, 5), (7, 7), (10, 10), (3, 3), (15, 15), (9, 9), (5, 4), (10, 10), (9, 9), (8, 4), (4, 4), (10, 10), (17, 16), (16, 15), (20, 20), (13, 13), (9, 9), (10, 10), (19, 9), (24, 24), (15, 15), (16, 16), (9, 9), (3, 3), (14, 13), (14, 15), (3, 17), (11, 6), (10, 10), (1, 12), (5, 7), (12, 5), (6, 6), (6, 6), (9, 9), (11, 8), (12, 12), (27, 25), (3, 3), (16, 16), (19, 29), (5, 5), (18, 19), (3, 5), (24, 24), (3, 3), (12, 12), (18, 18), (8, 8), (3, 3), (10, 10), (9, 9), (9, 4), (18, 18), (11, 9), (4, 14), (3, 3), (13, 13), (17, 19), (15, 12), (4, 8), (3, 3), (17, 17), (7, 7), (10, 10), (10, 10), (3, 17), (10, 10), (5, 5), (12, 13), (10, 10), (4, 4), (10, 10), (3, 3), (14, 17), (10, 10), (10, 10), (5, 15), (7, 9), (10, 10), (12, 12), (3, 6), (9, 9), (30, 30), (19, 21), (16, 16), (10, 10), (11, 11), (10, 10), (18, 19), (10, 10), (10, 5), (20, 20), (15, 15), (10, 9), (10, 10), (10, 10), (10, 10), (14, 16), (10, 10), (24, 12), (16, 18), (10, 10), (10, 10), (18, 16), (12, 12), (11, 11), (2, 6), (10, 10), (11, 11), (5, 17), (26, 27), (12, 12), (17, 19), (3, 3), (10, 10), (12, 17), (19, 18), (9, 9), (10, 4), (4, 7), (17, 18), (4, 4), (5, 5), (15, 15), (15, 13), (10, 10), (12, 12), (7, 7), (6, 3), (17, 17), (10, 10), (1, 5), (6, 6), (24, 24)]\n"
     ]
    }
   ],
   "source": [
    "#check shapes of input grids\n",
    "shapes = [grid.shape for grid in input_grids]\n",
    "print(\"Shapes of input grids:\", shapes)"
   ]
  },
  {
   "cell_type": "code",
   "execution_count": 14,
   "id": "5a869272",
   "metadata": {
    "execution": {
     "iopub.execute_input": "2024-06-29T10:46:34.513573Z",
     "iopub.status.busy": "2024-06-29T10:46:34.513168Z",
     "iopub.status.idle": "2024-06-29T10:46:34.519251Z",
     "shell.execute_reply": "2024-06-29T10:46:34.518007Z"
    },
    "papermill": {
     "duration": 0.028599,
     "end_time": "2024-06-29T10:46:34.521944",
     "exception": false,
     "start_time": "2024-06-29T10:46:34.493345",
     "status": "completed"
    },
    "tags": []
   },
   "outputs": [],
   "source": [
    "#ensure that all grids have the same shape\n",
    "max_shape = max(shapes, key=lambda x: x[0]*x[1])\n",
    "consistent_shape = tuple(max_shape)"
   ]
  },
  {
   "cell_type": "code",
   "execution_count": 15,
   "id": "d83b0f99",
   "metadata": {
    "execution": {
     "iopub.execute_input": "2024-06-29T10:46:34.560127Z",
     "iopub.status.busy": "2024-06-29T10:46:34.559718Z",
     "iopub.status.idle": "2024-06-29T10:46:34.598349Z",
     "shell.execute_reply": "2024-06-29T10:46:34.597178Z"
    },
    "papermill": {
     "duration": 0.060901,
     "end_time": "2024-06-29T10:46:34.601260",
     "exception": false,
     "start_time": "2024-06-29T10:46:34.540359",
     "status": "completed"
    },
    "tags": []
   },
   "outputs": [],
   "source": [
    "#pad or resize if necessary\n",
    "processed_grids = []\n",
    "for grid in input_grids:\n",
    "    if grid.shape != consistent_shape:\n",
    "        #determine padding or resizing logic based on dimensions\n",
    "        if grid.shape[0] < consistent_shape[0]:\n",
    "            # Pad rows if current shape is smaller\n",
    "            pad_rows = consistent_shape[0] - grid.shape[0]\n",
    "            pad_cols = consistent_shape[1] - grid.shape[1]\n",
    "            padded_grid = np.pad(grid, ((0, pad_rows), (0, pad_cols)), mode='constant', constant_values=0)\n",
    "        else:\n",
    "            #resize using interpolation if current shape is larger\n",
    "            padded_grid = np.resize(grid, consistent_shape)\n",
    "        \n",
    "        processed_grids.append(padded_grid)\n",
    "    else:\n",
    "        processed_grids.append(grid)"
   ]
  },
  {
   "cell_type": "code",
   "execution_count": 16,
   "id": "5090d797",
   "metadata": {
    "execution": {
     "iopub.execute_input": "2024-06-29T10:46:34.638807Z",
     "iopub.status.busy": "2024-06-29T10:46:34.638335Z",
     "iopub.status.idle": "2024-06-29T10:46:34.645683Z",
     "shell.execute_reply": "2024-06-29T10:46:34.644433Z"
    },
    "papermill": {
     "duration": 0.029368,
     "end_time": "2024-06-29T10:46:34.648511",
     "exception": false,
     "start_time": "2024-06-29T10:46:34.619143",
     "status": "completed"
    },
    "tags": []
   },
   "outputs": [],
   "source": [
    "#convert to NumPy array\n",
    "X = np.array(processed_grids)"
   ]
  },
  {
   "cell_type": "code",
   "execution_count": 17,
   "id": "c0f0f685",
   "metadata": {
    "execution": {
     "iopub.execute_input": "2024-06-29T10:46:34.686354Z",
     "iopub.status.busy": "2024-06-29T10:46:34.685940Z",
     "iopub.status.idle": "2024-06-29T10:46:34.694921Z",
     "shell.execute_reply": "2024-06-29T10:46:34.693573Z"
    },
    "papermill": {
     "duration": 0.031071,
     "end_time": "2024-06-29T10:46:34.697544",
     "exception": false,
     "start_time": "2024-06-29T10:46:34.666473",
     "status": "completed"
    },
    "tags": []
   },
   "outputs": [
    {
     "name": "stdout",
     "output_type": "stream",
     "text": [
      "Shape of X: (400, 30, 30)\n",
      "X:\n",
      "[[[7. 0. 7. ... 0. 0. 0.]\n",
      "  [7. 0. 7. ... 0. 0. 0.]\n",
      "  [7. 7. 0. ... 0. 0. 0.]\n",
      "  ...\n",
      "  [0. 0. 0. ... 0. 0. 0.]\n",
      "  [0. 0. 0. ... 0. 0. 0.]\n",
      "  [0. 0. 0. ... 0. 0. 0.]]\n",
      "\n",
      " [[0. 0. 0. ... 0. 0. 0.]\n",
      "  [0. 0. 3. ... 0. 0. 0.]\n",
      "  [0. 3. 0. ... 0. 0. 0.]\n",
      "  ...\n",
      "  [0. 0. 0. ... 0. 0. 0.]\n",
      "  [0. 0. 0. ... 0. 0. 0.]\n",
      "  [0. 0. 0. ... 0. 0. 0.]]\n",
      "\n",
      " [[1. 1. 1. ... 0. 0. 0.]\n",
      "  [0. 1. 0. ... 0. 0. 0.]\n",
      "  [0. 1. 0. ... 0. 0. 0.]\n",
      "  ...\n",
      "  [0. 0. 0. ... 0. 0. 0.]\n",
      "  [0. 0. 0. ... 0. 0. 0.]\n",
      "  [0. 0. 0. ... 0. 0. 0.]]\n",
      "\n",
      " ...\n",
      "\n",
      " [[0. 6. 7. ... 0. 0. 0.]\n",
      "  [0. 0. 0. ... 0. 0. 0.]\n",
      "  [0. 0. 0. ... 0. 0. 0.]\n",
      "  ...\n",
      "  [0. 0. 0. ... 0. 0. 0.]\n",
      "  [0. 0. 0. ... 0. 0. 0.]\n",
      "  [0. 0. 0. ... 0. 0. 0.]]\n",
      "\n",
      " [[0. 0. 0. ... 0. 0. 0.]\n",
      "  [2. 2. 0. ... 0. 0. 0.]\n",
      "  [2. 2. 0. ... 0. 0. 0.]\n",
      "  ...\n",
      "  [0. 0. 0. ... 0. 0. 0.]\n",
      "  [0. 0. 0. ... 0. 0. 0.]\n",
      "  [0. 0. 0. ... 0. 0. 0.]]\n",
      "\n",
      " [[4. 4. 4. ... 0. 0. 0.]\n",
      "  [4. 4. 4. ... 0. 0. 0.]\n",
      "  [4. 4. 0. ... 0. 0. 0.]\n",
      "  ...\n",
      "  [0. 0. 0. ... 0. 0. 0.]\n",
      "  [0. 0. 0. ... 0. 0. 0.]\n",
      "  [0. 0. 0. ... 0. 0. 0.]]]\n"
     ]
    }
   ],
   "source": [
    "#check X shape for all grids\n",
    "print(\"Shape of X:\", X.shape)\n",
    "print(\"X:\")\n",
    "print(X)"
   ]
  },
  {
   "cell_type": "code",
   "execution_count": 18,
   "id": "90adb5cf",
   "metadata": {
    "execution": {
     "iopub.execute_input": "2024-06-29T10:46:34.735824Z",
     "iopub.status.busy": "2024-06-29T10:46:34.735340Z",
     "iopub.status.idle": "2024-06-29T10:46:34.742535Z",
     "shell.execute_reply": "2024-06-29T10:46:34.741389Z"
    },
    "papermill": {
     "duration": 0.029942,
     "end_time": "2024-06-29T10:46:34.745510",
     "exception": false,
     "start_time": "2024-06-29T10:46:34.715568",
     "status": "completed"
    },
    "tags": []
   },
   "outputs": [
    {
     "name": "stdout",
     "output_type": "stream",
     "text": [
      "Shapes of output grids (Y): [(9, 9), (20, 20), (9, 3), (10, 10), (21, 21), (3, 3), (7, 7), (11, 10), (26, 26), (9, 9), (11, 11), (12, 12), (11, 27), (6, 6), (9, 9), (3, 3), (21, 21), (24, 19), (12, 10), (10, 10), (5, 3), (3, 3), (8, 11), (12, 11), (19, 26), (5, 3), (10, 10), (10, 10), (8, 9), (10, 10), (4, 6), (5, 5), (17, 17), (9, 9), (10, 10), (4, 4), (10, 10), (1, 5), (3, 3), (10, 10), (10, 10), (10, 10), (10, 10), (10, 10), (10, 10), (3, 8), (9, 9), (1, 1), (3, 3), (12, 13), (16, 11), (3, 3), (3, 3), (30, 30), (17, 15), (1, 1), (3, 6), (18, 18), (11, 11), (5, 11), (18, 18), (10, 10), (14, 14), (19, 21), (6, 6), (13, 13), (5, 5), (10, 10), (10, 10), (17, 17), (16, 16), (6, 5), (5, 5), (30, 30), (9, 13), (14, 15), (17, 18), (10, 10), (3, 3), (29, 29), (7, 7), (6, 12), (6, 8), (10, 10), (11, 20), (12, 12), (3, 3), (8, 10), (13, 13), (4, 24), (10, 4), (20, 20), (14, 14), (15, 15), (9, 9), (11, 11), (17, 14), (17, 19), (10, 10), (2, 2), (17, 21), (12, 12), (1, 1), (9, 9), (13, 13), (6, 6), (25, 25), (20, 20), (12, 12), (29, 29), (3, 3), (18, 14), (10, 6), (5, 4), (1, 4), (6, 4), (15, 15), (19, 22), (12, 12), (14, 13), (3, 3), (7, 17), (10, 10), (10, 10), (15, 15), (7, 11), (7, 11), (15, 15), (3, 3), (3, 3), (4, 18), (9, 8), (19, 30), (3, 3), (3, 3), (10, 10), (28, 28), (12, 10), (9, 9), (3, 3), (17, 17), (6, 6), (10, 10), (4, 4), (13, 16), (3, 3), (5, 5), (21, 12), (3, 3), (3, 3), (12, 12), (6, 6), (3, 3), (15, 15), (7, 7), (10, 10), (10, 15), (22, 22), (14, 14), (10, 10), (16, 19), (20, 20), (11, 11), (3, 6), (20, 20), (9, 11), (3, 3), (10, 10), (10, 10), (4, 4), (7, 6), (6, 3), (19, 19), (3, 4), (21, 21), (3, 25), (7, 8), (1, 5), (3, 3), (4, 4), (6, 9), (20, 20), (6, 6), (3, 3), (3, 3), (3, 3), (22, 25), (4, 3), (6, 6), (10, 10), (23, 23), (12, 17), (10, 10), (6, 6), (9, 9), (12, 12), (14, 10), (27, 27), (12, 12), (10, 10), (6, 8), (17, 15), (14, 14), (20, 20), (10, 8), (10, 11), (2, 2), (21, 21), (14, 18), (6, 3), (9, 4), (10, 10), (7, 7), (3, 11), (14, 13), (9, 10), (9, 9), (3, 3), (15, 10), (16, 16), (21, 21), (16, 16), (9, 9), (15, 15), (6, 6), (10, 10), (4, 4), (10, 10), (3, 3), (15, 15), (5, 18), (9, 8), (8, 12), (12, 17), (3, 3), (4, 4), (7, 8), (7, 7), (6, 5), (19, 19), (6, 6), (3, 3), (16, 16), (4, 4), (10, 8), (12, 14), (4, 3), (10, 5), (5, 8), (10, 10), (9, 9), (12, 12), (4, 4), (9, 9), (30, 30), (9, 9), (4, 4), (10, 10), (2, 2), (10, 10), (5, 5), (3, 3), (3, 3), (9, 9), (18, 18), (3, 5), (7, 7), (10, 10), (12, 12), (15, 15), (3, 3), (5, 4), (10, 10), (3, 3), (16, 16), (4, 4), (10, 10), (17, 16), (16, 15), (20, 20), (13, 13), (9, 9), (10, 10), (19, 9), (24, 24), (15, 15), (16, 16), (9, 9), (12, 12), (6, 6), (1, 1), (3, 17), (11, 6), (10, 10), (6, 12), (3, 3), (12, 5), (6, 6), (6, 6), (4, 3), (11, 8), (12, 12), (27, 25), (9, 9), (16, 16), (19, 29), (10, 10), (7, 7), (3, 5), (6, 6), (3, 6), (12, 12), (18, 18), (8, 8), (9, 9), (3, 3), (9, 9), (4, 4), (4, 3), (11, 9), (4, 4), (3, 3), (13, 13), (17, 19), (5, 5), (2, 2), (6, 6), (17, 17), (7, 7), (10, 10), (10, 10), (3, 17), (10, 10), (3, 3), (12, 13), (10, 10), (4, 4), (10, 10), (1, 5), (14, 17), (10, 10), (10, 10), (5, 15), (7, 9), (10, 10), (1, 1), (3, 3), (9, 9), (30, 30), (19, 21), (5, 5), (10, 10), (11, 11), (10, 10), (1, 1), (10, 10), (10, 5), (20, 20), (15, 15), (10, 4), (10, 10), (10, 10), (10, 10), (14, 16), (6, 3), (12, 12), (16, 18), (10, 10), (10, 10), (18, 16), (12, 12), (5, 11), (2, 6), (10, 10), (11, 11), (17, 17), (9, 9), (12, 12), (17, 19), (3, 3), (10, 10), (12, 17), (19, 18), (6, 10), (10, 4), (4, 3), (17, 18), (8, 8), (5, 5), (15, 15), (3, 1), (10, 10), (3, 1), (3, 3), (3, 3), (8, 8), (10, 10), (20, 20), (3, 3), (5, 5)]\n"
     ]
    }
   ],
   "source": [
    "#check Y shapes\n",
    "shapes_y = [grid.shape for grid in output_grids]\n",
    "print(\"Shapes of output grids (Y):\", shapes_y)"
   ]
  },
  {
   "cell_type": "code",
   "execution_count": 19,
   "id": "3deb386e",
   "metadata": {
    "execution": {
     "iopub.execute_input": "2024-06-29T10:46:34.784318Z",
     "iopub.status.busy": "2024-06-29T10:46:34.783894Z",
     "iopub.status.idle": "2024-06-29T10:46:34.789768Z",
     "shell.execute_reply": "2024-06-29T10:46:34.788617Z"
    },
    "papermill": {
     "duration": 0.028287,
     "end_time": "2024-06-29T10:46:34.792412",
     "exception": false,
     "start_time": "2024-06-29T10:46:34.764125",
     "status": "completed"
    },
    "tags": []
   },
   "outputs": [],
   "source": [
    "#determine the maximum Y shape\n",
    "max_shape_y = max(shapes_y, key=lambda x: x[0]*x[1])\n",
    "consistent_shape_y = tuple(max_shape_y)"
   ]
  },
  {
   "cell_type": "code",
   "execution_count": 20,
   "id": "38aae764",
   "metadata": {
    "execution": {
     "iopub.execute_input": "2024-06-29T10:46:34.831846Z",
     "iopub.status.busy": "2024-06-29T10:46:34.831400Z",
     "iopub.status.idle": "2024-06-29T10:46:34.870592Z",
     "shell.execute_reply": "2024-06-29T10:46:34.869302Z"
    },
    "papermill": {
     "duration": 0.062266,
     "end_time": "2024-06-29T10:46:34.873660",
     "exception": false,
     "start_time": "2024-06-29T10:46:34.811394",
     "status": "completed"
    },
    "tags": []
   },
   "outputs": [],
   "source": [
    "#pad or resize\n",
    "processed_grids_y = []\n",
    "for grid_y in output_grids:\n",
    "    if grid_y.shape != consistent_shape_y:\n",
    "        #pad or resize\n",
    "        if grid_y.shape[0] < consistent_shape_y[0] or grid_y.shape[1] < consistent_shape_y[1]:\n",
    "            #pad with zeros to match consistent_shape_y\n",
    "            pad_width = ((0, consistent_shape_y[0] - grid_y.shape[0]), \n",
    "                         (0, consistent_shape_y[1] - grid_y.shape[1]))\n",
    "            padded_grid_y = np.pad(grid_y, pad_width, mode='constant', constant_values=0)\n",
    "        else:\n",
    "            #resize to match consistent_shape_y\n",
    "            padded_grid_y = np.resize(grid_y, consistent_shape_y)\n",
    "\n",
    "        processed_grids_y.append(padded_grid_y)\n",
    "    else:\n",
    "        processed_grids_y.append(grid_y)"
   ]
  },
  {
   "cell_type": "code",
   "execution_count": 21,
   "id": "b34a0c6e",
   "metadata": {
    "execution": {
     "iopub.execute_input": "2024-06-29T10:46:34.914593Z",
     "iopub.status.busy": "2024-06-29T10:46:34.914146Z",
     "iopub.status.idle": "2024-06-29T10:46:34.922552Z",
     "shell.execute_reply": "2024-06-29T10:46:34.920978Z"
    },
    "papermill": {
     "duration": 0.033415,
     "end_time": "2024-06-29T10:46:34.926633",
     "exception": false,
     "start_time": "2024-06-29T10:46:34.893218",
     "status": "completed"
    },
    "tags": []
   },
   "outputs": [],
   "source": [
    "#convert to NumPy array\n",
    "Y = np.array(processed_grids_y)"
   ]
  },
  {
   "cell_type": "code",
   "execution_count": 22,
   "id": "f3097c5f",
   "metadata": {
    "execution": {
     "iopub.execute_input": "2024-06-29T10:46:34.971492Z",
     "iopub.status.busy": "2024-06-29T10:46:34.971032Z",
     "iopub.status.idle": "2024-06-29T10:46:34.979318Z",
     "shell.execute_reply": "2024-06-29T10:46:34.977410Z"
    },
    "papermill": {
     "duration": 0.034437,
     "end_time": "2024-06-29T10:46:34.983884",
     "exception": false,
     "start_time": "2024-06-29T10:46:34.949447",
     "status": "completed"
    },
    "tags": []
   },
   "outputs": [
    {
     "name": "stdout",
     "output_type": "stream",
     "text": [
      "Shapes of output grids (Y) after processing: [(30, 30), (30, 30), (30, 30), (30, 30), (30, 30), (30, 30), (30, 30), (30, 30), (30, 30), (30, 30), (30, 30), (30, 30), (30, 30), (30, 30), (30, 30), (30, 30), (30, 30), (30, 30), (30, 30), (30, 30), (30, 30), (30, 30), (30, 30), (30, 30), (30, 30), (30, 30), (30, 30), (30, 30), (30, 30), (30, 30), (30, 30), (30, 30), (30, 30), (30, 30), (30, 30), (30, 30), (30, 30), (30, 30), (30, 30), (30, 30), (30, 30), (30, 30), (30, 30), (30, 30), (30, 30), (30, 30), (30, 30), (30, 30), (30, 30), (30, 30), (30, 30), (30, 30), (30, 30), (30, 30), (30, 30), (30, 30), (30, 30), (30, 30), (30, 30), (30, 30), (30, 30), (30, 30), (30, 30), (30, 30), (30, 30), (30, 30), (30, 30), (30, 30), (30, 30), (30, 30), (30, 30), (30, 30), (30, 30), (30, 30), (30, 30), (30, 30), (30, 30), (30, 30), (30, 30), (30, 30), (30, 30), (30, 30), (30, 30), (30, 30), (30, 30), (30, 30), (30, 30), (30, 30), (30, 30), (30, 30), (30, 30), (30, 30), (30, 30), (30, 30), (30, 30), (30, 30), (30, 30), (30, 30), (30, 30), (30, 30), (30, 30), (30, 30), (30, 30), (30, 30), (30, 30), (30, 30), (30, 30), (30, 30), (30, 30), (30, 30), (30, 30), (30, 30), (30, 30), (30, 30), (30, 30), (30, 30), (30, 30), (30, 30), (30, 30), (30, 30), (30, 30), (30, 30), (30, 30), (30, 30), (30, 30), (30, 30), (30, 30), (30, 30), (30, 30), (30, 30), (30, 30), (30, 30), (30, 30), (30, 30), (30, 30), (30, 30), (30, 30), (30, 30), (30, 30), (30, 30), (30, 30), (30, 30), (30, 30), (30, 30), (30, 30), (30, 30), (30, 30), (30, 30), (30, 30), (30, 30), (30, 30), (30, 30), (30, 30), (30, 30), (30, 30), (30, 30), (30, 30), (30, 30), (30, 30), (30, 30), (30, 30), (30, 30), (30, 30), (30, 30), (30, 30), (30, 30), (30, 30), (30, 30), (30, 30), (30, 30), (30, 30), (30, 30), (30, 30), (30, 30), (30, 30), (30, 30), (30, 30), (30, 30), (30, 30), (30, 30), (30, 30), (30, 30), (30, 30), (30, 30), (30, 30), (30, 30), (30, 30), (30, 30), (30, 30), (30, 30), (30, 30), (30, 30), (30, 30), (30, 30), (30, 30), (30, 30), (30, 30), (30, 30), (30, 30), (30, 30), (30, 30), (30, 30), (30, 30), (30, 30), (30, 30), (30, 30), (30, 30), (30, 30), (30, 30), (30, 30), (30, 30), (30, 30), (30, 30), (30, 30), (30, 30), (30, 30), (30, 30), (30, 30), (30, 30), (30, 30), (30, 30), (30, 30), (30, 30), (30, 30), (30, 30), (30, 30), (30, 30), (30, 30), (30, 30), (30, 30), (30, 30), (30, 30), (30, 30), (30, 30), (30, 30), (30, 30), (30, 30), (30, 30), (30, 30), (30, 30), (30, 30), (30, 30), (30, 30), (30, 30), (30, 30), (30, 30), (30, 30), (30, 30), (30, 30), (30, 30), (30, 30), (30, 30), (30, 30), (30, 30), (30, 30), (30, 30), (30, 30), (30, 30), (30, 30), (30, 30), (30, 30), (30, 30), (30, 30), (30, 30), (30, 30), (30, 30), (30, 30), (30, 30), (30, 30), (30, 30), (30, 30), (30, 30), (30, 30), (30, 30), (30, 30), (30, 30), (30, 30), (30, 30), (30, 30), (30, 30), (30, 30), (30, 30), (30, 30), (30, 30), (30, 30), (30, 30), (30, 30), (30, 30), (30, 30), (30, 30), (30, 30), (30, 30), (30, 30), (30, 30), (30, 30), (30, 30), (30, 30), (30, 30), (30, 30), (30, 30), (30, 30), (30, 30), (30, 30), (30, 30), (30, 30), (30, 30), (30, 30), (30, 30), (30, 30), (30, 30), (30, 30), (30, 30), (30, 30), (30, 30), (30, 30), (30, 30), (30, 30), (30, 30), (30, 30), (30, 30), (30, 30), (30, 30), (30, 30), (30, 30), (30, 30), (30, 30), (30, 30), (30, 30), (30, 30), (30, 30), (30, 30), (30, 30), (30, 30), (30, 30), (30, 30), (30, 30), (30, 30), (30, 30), (30, 30), (30, 30), (30, 30), (30, 30), (30, 30), (30, 30), (30, 30), (30, 30), (30, 30), (30, 30), (30, 30), (30, 30), (30, 30), (30, 30), (30, 30), (30, 30), (30, 30), (30, 30), (30, 30), (30, 30), (30, 30), (30, 30), (30, 30), (30, 30), (30, 30), (30, 30), (30, 30), (30, 30), (30, 30), (30, 30), (30, 30), (30, 30), (30, 30), (30, 30), (30, 30), (30, 30), (30, 30), (30, 30), (30, 30), (30, 30), (30, 30), (30, 30), (30, 30), (30, 30), (30, 30), (30, 30), (30, 30), (30, 30), (30, 30), (30, 30), (30, 30), (30, 30), (30, 30), (30, 30), (30, 30), (30, 30), (30, 30), (30, 30), (30, 30), (30, 30), (30, 30), (30, 30)]\n"
     ]
    }
   ],
   "source": [
    "#check shapes after processing\n",
    "shapes_y_processed = [grid.shape for grid in Y]\n",
    "print(\"Shapes of output grids (Y) after processing:\", shapes_y_processed)"
   ]
  },
  {
   "cell_type": "code",
   "execution_count": 23,
   "id": "ba77c774",
   "metadata": {
    "execution": {
     "iopub.execute_input": "2024-06-29T10:46:35.096475Z",
     "iopub.status.busy": "2024-06-29T10:46:35.095985Z",
     "iopub.status.idle": "2024-06-29T10:46:36.525467Z",
     "shell.execute_reply": "2024-06-29T10:46:36.524229Z"
    },
    "papermill": {
     "duration": 1.523614,
     "end_time": "2024-06-29T10:46:36.529045",
     "exception": false,
     "start_time": "2024-06-29T10:46:35.005431",
     "status": "completed"
    },
    "tags": []
   },
   "outputs": [],
   "source": [
    "#split data into train and test sets\n",
    "from sklearn.model_selection import train_test_split\n",
    "\n",
    "X_train, X_test, Y_train, Y_test = train_test_split(X, Y, test_size=0.2, random_state=42)"
   ]
  },
  {
   "cell_type": "code",
   "execution_count": 24,
   "id": "0652c906",
   "metadata": {
    "execution": {
     "iopub.execute_input": "2024-06-29T10:46:36.571506Z",
     "iopub.status.busy": "2024-06-29T10:46:36.570510Z",
     "iopub.status.idle": "2024-06-29T10:46:36.822564Z",
     "shell.execute_reply": "2024-06-29T10:46:36.821245Z"
    },
    "papermill": {
     "duration": 0.277105,
     "end_time": "2024-06-29T10:46:36.826076",
     "exception": false,
     "start_time": "2024-06-29T10:46:36.548971",
     "status": "completed"
    },
    "tags": []
   },
   "outputs": [
    {
     "name": "stdout",
     "output_type": "stream",
     "text": [
      "Sample Task IDs:\n",
      "['007bbfb7', '00d62c1b', '017c7c7b', '025d127b', '045e512c', '0520fde7', '05269061', '05f2a901', '06df4c85', '08ed6ac7']\n"
     ]
    }
   ],
   "source": [
    "#retrieve 10 IDs from training\n",
    "\n",
    "train_challenges_path = '/kaggle/input/arc-prize-2024/arc-agi_training_challenges.json'\n",
    "\n",
    "#load training challenges\n",
    "with open(train_challenges_path, 'r') as f:\n",
    "    train_challenges = json.load(f)\n",
    "\n",
    "#get 10 task IDs\n",
    "sample_task_ids = list(train_challenges.keys())[:10]\n",
    "\n",
    "#print the sample task IDs\n",
    "print(\"Sample Task IDs:\")\n",
    "print(sample_task_ids)"
   ]
  },
  {
   "cell_type": "code",
   "execution_count": 25,
   "id": "7c149acf",
   "metadata": {
    "execution": {
     "iopub.execute_input": "2024-06-29T10:46:36.874597Z",
     "iopub.status.busy": "2024-06-29T10:46:36.873519Z",
     "iopub.status.idle": "2024-06-29T10:46:36.879955Z",
     "shell.execute_reply": "2024-06-29T10:46:36.878794Z"
    },
    "papermill": {
     "duration": 0.03395,
     "end_time": "2024-06-29T10:46:36.882912",
     "exception": false,
     "start_time": "2024-06-29T10:46:36.848962",
     "status": "completed"
    },
    "tags": []
   },
   "outputs": [
    {
     "name": "stdout",
     "output_type": "stream",
     "text": [
      "Shape of X_train: (320, 30, 30)\n"
     ]
    }
   ],
   "source": [
    "print(f\"Shape of X_train: {X_train.shape}\")"
   ]
  },
  {
   "cell_type": "code",
   "execution_count": 26,
   "id": "e7e621ad",
   "metadata": {
    "execution": {
     "iopub.execute_input": "2024-06-29T10:46:36.922400Z",
     "iopub.status.busy": "2024-06-29T10:46:36.922017Z",
     "iopub.status.idle": "2024-06-29T10:46:36.927954Z",
     "shell.execute_reply": "2024-06-29T10:46:36.926596Z"
    },
    "papermill": {
     "duration": 0.029619,
     "end_time": "2024-06-29T10:46:36.931087",
     "exception": false,
     "start_time": "2024-06-29T10:46:36.901468",
     "status": "completed"
    },
    "tags": []
   },
   "outputs": [
    {
     "name": "stdout",
     "output_type": "stream",
     "text": [
      "Shape of Y_train: (320, 30, 30)\n"
     ]
    }
   ],
   "source": [
    "print(f\"Shape of Y_train: {Y_train.shape}\")"
   ]
  },
  {
   "cell_type": "code",
   "execution_count": 27,
   "id": "f7c0be55",
   "metadata": {
    "execution": {
     "iopub.execute_input": "2024-06-29T10:46:36.974307Z",
     "iopub.status.busy": "2024-06-29T10:46:36.973921Z",
     "iopub.status.idle": "2024-06-29T10:46:37.026448Z",
     "shell.execute_reply": "2024-06-29T10:46:37.025251Z"
    },
    "papermill": {
     "duration": 0.07733,
     "end_time": "2024-06-29T10:46:37.029351",
     "exception": false,
     "start_time": "2024-06-29T10:46:36.952021",
     "status": "completed"
    },
    "tags": []
   },
   "outputs": [
    {
     "name": "stdout",
     "output_type": "stream",
     "text": [
      "Shape of X_train: torch.Size([320, 1, 30, 30])\n",
      "Shape of Y_train: torch.Size([320, 30, 30])\n",
      "Shape of X_test: torch.Size([80, 1, 30, 30])\n",
      "Shape of Y_test: torch.Size([80, 30, 30])\n"
     ]
    }
   ],
   "source": [
    "#ensure Y_train contains values between 0 and 1\n",
    "Y_train = (Y_train > 0).astype(np.float32)  #convert to 0 and 1\n",
    "Y_test = (Y_test > 0).astype(np.float32)    #convert to 0 and 1\n",
    "\n",
    "#reshape inputs to add channel dimension\n",
    "X_train = X_train.reshape(-1, 1, 30, 30).astype(np.float32)  #add channel dimension and convert to float32\n",
    "X_test = X_test.reshape(-1, 1, 30, 30).astype(np.float32)    #add channel dimension and convert to float32\n",
    "\n",
    "#convert to PyTorch tensors\n",
    "X_train = torch.tensor(X_train)\n",
    "Y_train = torch.tensor(Y_train)\n",
    "X_test = torch.tensor(X_test)\n",
    "Y_test = torch.tensor(Y_test)\n",
    "\n",
    "#check shapes\n",
    "print(f\"Shape of X_train: {X_train.shape}\")\n",
    "print(f\"Shape of Y_train: {Y_train.shape}\")\n",
    "print(f\"Shape of X_test: {X_test.shape}\")\n",
    "print(f\"Shape of Y_test: {Y_test.shape}\")"
   ]
  },
  {
   "cell_type": "code",
   "execution_count": 28,
   "id": "d38d5c8a",
   "metadata": {
    "execution": {
     "iopub.execute_input": "2024-06-29T10:46:37.070884Z",
     "iopub.status.busy": "2024-06-29T10:46:37.070410Z",
     "iopub.status.idle": "2024-06-29T10:46:37.081388Z",
     "shell.execute_reply": "2024-06-29T10:46:37.079859Z"
    },
    "papermill": {
     "duration": 0.03537,
     "end_time": "2024-06-29T10:46:37.084522",
     "exception": false,
     "start_time": "2024-06-29T10:46:37.049152",
     "status": "completed"
    },
    "tags": []
   },
   "outputs": [],
   "source": [
    "from torch.utils.data import TensorDataset\n",
    "#create PyTorch DataLoader\n",
    "train_dataset = TensorDataset(X_train, Y_train)\n",
    "train_loader = DataLoader(train_dataset, batch_size=32, shuffle=True)"
   ]
  },
  {
   "cell_type": "code",
   "execution_count": 29,
   "id": "09ba9bbe",
   "metadata": {
    "execution": {
     "iopub.execute_input": "2024-06-29T10:46:37.126189Z",
     "iopub.status.busy": "2024-06-29T10:46:37.124958Z",
     "iopub.status.idle": "2024-06-29T10:46:37.141369Z",
     "shell.execute_reply": "2024-06-29T10:46:37.139951Z"
    },
    "papermill": {
     "duration": 0.0403,
     "end_time": "2024-06-29T10:46:37.144400",
     "exception": false,
     "start_time": "2024-06-29T10:46:37.104100",
     "status": "completed"
    },
    "tags": []
   },
   "outputs": [],
   "source": [
    "import torch\n",
    "import torch.nn as nn\n",
    "import torch.nn.functional as F\n",
    "\n",
    "class YambiModel(nn.Module):\n",
    "    \"\"\"\n",
    "    YambiModel is a convolutional neural network designed specifically\n",
    "    for solving grid prediction tasks within the context of the ARC.\n",
    "    The model architecture comprises two convolutional layers followed by three fully connected layers.\n",
    "    Convolutional layers are adept at capturing spatial relationships within grid-like data, making them suitable\n",
    "    for tasks involving pattern recognition and prediction. The model utilizes ReLU activation functions\n",
    "    for its hidden layers to introduce non-linearity, enhancing its ability to learn complex patterns.\n",
    "    The output layer employs a sigmoid activation function to constrain predictions between 0 and 1,\n",
    "    ensuring compatibility with ARC's output format.\n",
    "\n",
    "    Attributes:\n",
    "    - conv1 (nn.Conv2d): First convolutional layer.\n",
    "    - conv2 (nn.Conv2d): Second convolutional layer.\n",
    "    - fc1 (nn.Linear): First fully connected layer.\n",
    "    - fc2 (nn.Linear): Second fully connected layer.\n",
    "    - fc3 (nn.Linear): Third fully connected layer.\n",
    "    \"\"\"\n",
    "\n",
    "    def __init__(self):\n",
    "        super(YambiModel, self).__init__()\n",
    "        self.conv1 = nn.Conv2d(1, 64, 3, padding=1)\n",
    "        self.conv2 = nn.Conv2d(64, 128, 3, padding=1)\n",
    "        self.fc1 = nn.Linear(128 * 30 * 30, 256) \n",
    "        self.fc2 = nn.Linear(256, 128)\n",
    "        self.fc3 = nn.Linear(128, 30 * 30)\n",
    "\n",
    "    def forward(self, x):\n",
    "        \"\"\"\n",
    "        Forward pass through the network.\n",
    "\n",
    "        Args:\n",
    "        - x (Tensor): Input tensor of shape (batch_size, 1, height, width).\n",
    "\n",
    "        Returns:\n",
    "        - Tensor: Output tensor of shape (batch_size, 30, 30).\n",
    "        \"\"\"\n",
    "        x = F.relu(self.conv1(x))\n",
    "        x = F.relu(self.conv2(x))\n",
    "        x = x.view(-1, 128 * 30 * 30)  #flatten the tensor\n",
    "        x = F.relu(self.fc1(x))\n",
    "        x = F.relu(self.fc2(x))\n",
    "        x = torch.sigmoid(self.fc3(x))  #apply sigmoid activation for output\n",
    "        x = x.view(-1, 30, 30)  #reshape to (batch_size, 30, 30)\n",
    "        return x\n",
    "\n",
    "    def save_model(self, model_path='/kaggle/working/yambi_model.pth'):\n",
    "        \"\"\"\n",
    "        Save the trained model to a file.\n",
    "\n",
    "        Args:\n",
    "        - model_path (str): File path to save the model.\n",
    "        \"\"\"\n",
    "        torch.save(self.state_dict(), model_path)\n",
    "\n",
    "    def load_model(self, model_path='/kaggle/working/yambi_model.pth'):\n",
    "        \"\"\"\n",
    "        Load a pre-trained model from a file.\n",
    "\n",
    "        Args:\n",
    "        - model_path (str): File path to load the model from.\n",
    "        \"\"\"\n",
    "        self.load_state_dict(torch.load(model_path))\n",
    "        self.eval()\n",
    "\n",
    "    def __repr__(self):\n",
    "        return f'YambiModel()'"
   ]
  },
  {
   "cell_type": "code",
   "execution_count": 30,
   "id": "26eb79b6",
   "metadata": {
    "execution": {
     "iopub.execute_input": "2024-06-29T10:46:37.184884Z",
     "iopub.status.busy": "2024-06-29T10:46:37.184372Z",
     "iopub.status.idle": "2024-06-29T10:46:37.208536Z",
     "shell.execute_reply": "2024-06-29T10:46:37.207450Z"
    },
    "papermill": {
     "duration": 0.047453,
     "end_time": "2024-06-29T10:46:37.211315",
     "exception": false,
     "start_time": "2024-06-29T10:46:37.163862",
     "status": "completed"
    },
    "tags": []
   },
   "outputs": [],
   "source": [
    "import torch.optim as optim\n",
    "\n",
    "class ARCTrainer:\n",
    "    \"\"\"\n",
    "    ARCTrainer: Class to train and evaluate YambiModel.\n",
    "\n",
    "    Attributes:\n",
    "    - model (YambiModel): Instance of YambiModel for training.\n",
    "    - train_loader (torch.utils.data.DataLoader): DataLoader for training data.\n",
    "    - criterion (torch.nn.modules.loss): Loss function for training.\n",
    "    - optimizer (torch.optim): Optimizer for training.\n",
    "    - device (str): Device to run training on ('cpu' or 'cuda').\n",
    "    \"\"\"\n",
    "\n",
    "    def __init__(self, model, train_loader, device='cpu', learning_rate=0.001):\n",
    "        \"\"\"\n",
    "        Initialize ARCTrainer with model, data loader, and device for training.\n",
    "\n",
    "        Args:\n",
    "        - model (YambiModel): Instance of YambiModel for training.\n",
    "        - train_loader (torch.utils.data.DataLoader): DataLoader for training data.\n",
    "        - device (str): Device to run training on ('cpu' or 'cuda') (default: 'cpu').\n",
    "        - learning_rate (float): Learning rate for optimizer (default: 0.001).\n",
    "        \"\"\"\n",
    "        self.model = model\n",
    "        self.train_loader = train_loader\n",
    "        self.device = device\n",
    "\n",
    "        #move model to device\n",
    "        self.model.to(self.device)\n",
    "\n",
    "        #define loss function and optimizer\n",
    "        self.criterion = nn.BCELoss()  #Binary Cross Entropy Loss for binary classification\n",
    "        self.optimizer = optim.Adam(self.model.parameters(), lr=learning_rate)\n",
    "\n",
    "    def train(self, num_epochs=10):\n",
    "        \"\"\"\n",
    "        Train the YambiModel on the ARC training data.\n",
    "\n",
    "        Args:\n",
    "        - num_epochs (int): Number of epochs to train (default: 10).\n",
    "        \"\"\"\n",
    "        self.model.train()  #set model to training mode\n",
    "\n",
    "        for epoch in range(num_epochs):\n",
    "            running_loss = 0.0\n",
    "            for inputs, targets in self.train_loader:\n",
    "                #move data to device\n",
    "                inputs, targets = inputs.to(self.device), targets.to(self.device)\n",
    "\n",
    "                #zero the gradients\n",
    "                self.optimizer.zero_grad()\n",
    "\n",
    "                #forward pass\n",
    "                outputs = self.model(inputs)\n",
    "                loss = self.criterion(outputs, targets)\n",
    "\n",
    "                #backward pass and optimize\n",
    "                loss.backward()\n",
    "                self.optimizer.step()\n",
    "\n",
    "                #track loss\n",
    "                running_loss += loss.item()\n",
    "\n",
    "            #print epoch loss\n",
    "            print(f\"Epoch [{epoch+1}/{num_epochs}], Loss: {running_loss/len(self.train_loader):.4f}\")\n",
    "\n",
    "            #compute and print evaluation metrics on the training set\n",
    "            self.evaluate_train_set()\n",
    "\n",
    "    def evaluate_train_set(self):\n",
    "        \"\"\"\n",
    "        Evaluate the model on the training set and print evaluation metrics.\n",
    "        \"\"\"\n",
    "        predictions, targets = self.predict(self.train_loader)\n",
    "        self.print_metrics(predictions, targets, title=\"Training Set Metrics\")\n",
    "\n",
    "    def predict(self, data_loader):\n",
    "        \"\"\"\n",
    "        Predict outputs for a given data loader.\n",
    "\n",
    "        Args:\n",
    "        - data_loader (torch.utils.data.DataLoader): DataLoader for prediction.\n",
    "\n",
    "        Returns:\n",
    "        - predictions (torch.Tensor): Model predictions.\n",
    "        - targets (torch.Tensor): Ground truth labels.\n",
    "        \"\"\"\n",
    "        self.model.eval()  #set model to evaluation mode\n",
    "        predictions = []\n",
    "        targets = []\n",
    "        \n",
    "        with torch.no_grad():\n",
    "            for inputs, labels in data_loader:\n",
    "                inputs = inputs.to(self.device)\n",
    "                outputs = self.model(inputs)\n",
    "                predictions.append(outputs.cpu())\n",
    "                targets.append(labels)\n",
    "\n",
    "        predictions = torch.cat(predictions, dim=0)\n",
    "        targets = torch.cat(targets, dim=0)\n",
    "        \n",
    "        return predictions, targets\n",
    "\n",
    "    def print_metrics(self, predictions, targets, title=\"Metrics\"):\n",
    "        \"\"\"\n",
    "        Compute and print evaluation metrics: accuracy, precision, recall, and F1-score.\n",
    "\n",
    "        Args:\n",
    "        - predictions (torch.Tensor): Model predictions.\n",
    "        - targets (torch.Tensor): Ground truth labels.\n",
    "        - title (str): Title for the metrics printout (default: \"Metrics\").\n",
    "        \"\"\"\n",
    "        predictions = (predictions > 0.5).float()  #convert to binary predictions\n",
    "        predictions = predictions.cpu().numpy()  #move to CPU and convert to numpy array\n",
    "        targets = targets.cpu().numpy()  #move to CPU and convert to numpy array\n",
    "        \n",
    "        accuracy = accuracy_score(targets.flatten(), predictions.flatten())\n",
    "        precision = precision_score(targets.flatten(), predictions.flatten(), average='binary')\n",
    "        recall = recall_score(targets.flatten(), predictions.flatten(), average='binary')\n",
    "        f1 = f1_score(targets.flatten(), predictions.flatten(), average='binary')\n",
    "        \n",
    "        print(f\"{title}:\")\n",
    "        print(f\"  Accuracy: {accuracy:.4f}\")\n",
    "        print(f\"  Precision: {precision:.4f}\")\n",
    "        print(f\"  Recall: {recall:.4f}\")\n",
    "        print(f\"  F1-score: {f1:.4f}\")\n",
    "\n",
    "    def save_model(self, model_path='yambi_model.pth'):\n",
    "        \"\"\"\n",
    "        Save the trained model to a file.\n",
    "\n",
    "        Args:\n",
    "        - model_path (str): File path to save the model (default: 'yambi_model.pth').\n",
    "        \"\"\"\n",
    "        torch.save(self.model.state_dict(), model_path)\n",
    "\n",
    "    def load_model(self, model_path='yambi_model.pth'):\n",
    "        \"\"\"\n",
    "        Load a pre-trained model from a file.\n",
    "\n",
    "        Args:\n",
    "        - model_path (str): File path to load the model from (default: 'yambi_model.pth').\n",
    "        \"\"\"\n",
    "        self.model.load_state_dict(torch.load(model_path, map_location=self.device))\n",
    "        self.model.eval()  #set model to evaluation mode after loading"
   ]
  },
  {
   "cell_type": "code",
   "execution_count": 31,
   "id": "c71b1586",
   "metadata": {
    "execution": {
     "iopub.execute_input": "2024-06-29T10:46:37.251414Z",
     "iopub.status.busy": "2024-06-29T10:46:37.250991Z",
     "iopub.status.idle": "2024-06-29T10:46:37.260510Z",
     "shell.execute_reply": "2024-06-29T10:46:37.259270Z"
    },
    "papermill": {
     "duration": 0.032595,
     "end_time": "2024-06-29T10:46:37.263240",
     "exception": false,
     "start_time": "2024-06-29T10:46:37.230645",
     "status": "completed"
    },
    "tags": []
   },
   "outputs": [],
   "source": [
    "class ARCModelDeployer:\n",
    "    \"\"\"\n",
    "    ARCModelDeployer: Class to deploy YambiModel for making predictions.\n",
    "\n",
    "    Attributes:\n",
    "    - model (YambiModel): YambiModel instance for making predictions.\n",
    "    - device (str): Device ('cpu' or 'cuda') on which the model is deployed.\n",
    "    \"\"\"\n",
    "\n",
    "    def __init__(self, model, device='cpu'):\n",
    "        \"\"\"\n",
    "        Initialize ARCModelDeployer with a YambiModel instance.\n",
    "\n",
    "        Args:\n",
    "        - model (YambiModel): Instance of YambiModel for making predictions.\n",
    "        - device (str): Device to deploy the model on, 'cpu' or 'cuda' (default: 'cpu').\n",
    "        \"\"\"\n",
    "        self.model = model\n",
    "        self.device = device\n",
    "        self.model.to(device)\n",
    "        self.model.eval()\n",
    "\n",
    "    def predict(self, input_data):\n",
    "        \"\"\"\n",
    "        Make predictions using the deployed YambiModel.\n",
    "\n",
    "        Args:\n",
    "        - input_data (np.ndarray or torch.Tensor): Input data for predictions.\n",
    "\n",
    "        Returns:\n",
    "        - np.ndarray: Predicted outputs for the input data.\n",
    "        \"\"\"\n",
    "        if isinstance(input_data, np.ndarray):\n",
    "            input_data = torch.from_numpy(input_data).float()\n",
    "        input_data = input_data.to(self.device)\n",
    "        with torch.no_grad():\n",
    "            outputs = self.model(input_data)\n",
    "        return outputs.cpu().numpy()"
   ]
  },
  {
   "cell_type": "code",
   "execution_count": 32,
   "id": "e14af177",
   "metadata": {
    "execution": {
     "iopub.execute_input": "2024-06-29T10:46:37.303438Z",
     "iopub.status.busy": "2024-06-29T10:46:37.302349Z",
     "iopub.status.idle": "2024-06-29T10:46:37.312714Z",
     "shell.execute_reply": "2024-06-29T10:46:37.311554Z"
    },
    "papermill": {
     "duration": 0.033197,
     "end_time": "2024-06-29T10:46:37.315315",
     "exception": false,
     "start_time": "2024-06-29T10:46:37.282118",
     "status": "completed"
    },
    "tags": []
   },
   "outputs": [],
   "source": [
    "class ARCDataLoader:\n",
    "    \"\"\"\n",
    "    ARCDataLoader: Class to load and preprocess ARC data for training YambiModel.\n",
    "\n",
    "    Attributes:\n",
    "    - X_train (np.ndarray): Training input data (grids).\n",
    "    - Y_train (np.ndarray): Training output data (grids).\n",
    "    - X_test (np.ndarray): Test input data (grids).\n",
    "    - Y_test (np.ndarray): Test output data (grids).\n",
    "    - batch_size (int): Size of mini-batches for training.\n",
    "    \"\"\"\n",
    "\n",
    "    def __init__(self, X_train, Y_train, X_test, Y_test, batch_size=32):\n",
    "        \"\"\"\n",
    "        Initialize ARCDataLoader with training and test data.\n",
    "\n",
    "        Args:\n",
    "        - X_train (np.ndarray): Training input data (grids).\n",
    "        - Y_train (np.ndarray): Training output data (grids).\n",
    "        - X_test (np.ndarray): Test input data (grids).\n",
    "        - Y_test (np.ndarray): Test output data (grids).\n",
    "        - batch_size (int): Size of mini-batches for training (default: 32).\n",
    "        \"\"\"\n",
    "        self.X_train = X_train\n",
    "        self.Y_train = Y_train\n",
    "        self.X_test = X_test\n",
    "        self.Y_test = Y_test\n",
    "        self.batch_size = batch_size\n",
    "\n",
    "    def get_train_loader(self):\n",
    "        \"\"\"\n",
    "        Create and return a DataLoader for training data.\n",
    "\n",
    "        Returns:\n",
    "        - torch.utils.data.DataLoader: DataLoader for training data.\n",
    "        \"\"\"\n",
    "        train_dataset = torch.utils.data.TensorDataset(torch.from_numpy(self.X_train).float(),\n",
    "                                                       torch.from_numpy(self.Y_train).float())\n",
    "        train_loader = torch.utils.data.DataLoader(train_dataset, batch_size=self.batch_size, shuffle=True)\n",
    "        return train_loader\n",
    "\n",
    "    def get_test_data(self):\n",
    "        \"\"\"\n",
    "        Get test data in numpy arrays.\n",
    "\n",
    "        Returns:\n",
    "        - np.ndarray: Test input data (X_test).\n",
    "        - np.ndarray: Test output data (Y_test).\n",
    "        \"\"\"\n",
    "        return self.X_test, self.Y_test"
   ]
  },
  {
   "cell_type": "code",
   "execution_count": 33,
   "id": "21ab1017",
   "metadata": {
    "execution": {
     "iopub.execute_input": "2024-06-29T10:46:37.354660Z",
     "iopub.status.busy": "2024-06-29T10:46:37.354178Z",
     "iopub.status.idle": "2024-06-29T10:46:37.366992Z",
     "shell.execute_reply": "2024-06-29T10:46:37.365720Z"
    },
    "papermill": {
     "duration": 0.035452,
     "end_time": "2024-06-29T10:46:37.369546",
     "exception": false,
     "start_time": "2024-06-29T10:46:37.334094",
     "status": "completed"
    },
    "tags": []
   },
   "outputs": [],
   "source": [
    "#convert them back to numpy arrays\n",
    "\n",
    "X_train_numpy = X_train.numpy()\n",
    "Y_train_numpy = Y_train.numpy()"
   ]
  },
  {
   "cell_type": "code",
   "execution_count": 34,
   "id": "dcffce90",
   "metadata": {
    "execution": {
     "iopub.execute_input": "2024-06-29T10:46:37.408895Z",
     "iopub.status.busy": "2024-06-29T10:46:37.408349Z",
     "iopub.status.idle": "2024-06-29T10:46:37.416159Z",
     "shell.execute_reply": "2024-06-29T10:46:37.414745Z"
    },
    "papermill": {
     "duration": 0.030532,
     "end_time": "2024-06-29T10:46:37.418764",
     "exception": false,
     "start_time": "2024-06-29T10:46:37.388232",
     "status": "completed"
    },
    "tags": []
   },
   "outputs": [],
   "source": [
    "#convert data into PyTorch TensorDataset\n",
    "train_dataset = TensorDataset(torch.from_numpy(X_train_numpy).float(), torch.from_numpy(Y_train_numpy).float())"
   ]
  },
  {
   "cell_type": "code",
   "execution_count": 35,
   "id": "3dfa6093",
   "metadata": {
    "execution": {
     "iopub.execute_input": "2024-06-29T10:46:37.457993Z",
     "iopub.status.busy": "2024-06-29T10:46:37.457542Z",
     "iopub.status.idle": "2024-06-29T10:46:37.463522Z",
     "shell.execute_reply": "2024-06-29T10:46:37.462134Z"
    },
    "papermill": {
     "duration": 0.029452,
     "end_time": "2024-06-29T10:46:37.466856",
     "exception": false,
     "start_time": "2024-06-29T10:46:37.437404",
     "status": "completed"
    },
    "tags": []
   },
   "outputs": [],
   "source": [
    "#create DataLoaders for training and test\n",
    "batch_size = 32\n",
    "train_loader = DataLoader(train_dataset, batch_size=batch_size, shuffle=True)"
   ]
  },
  {
   "cell_type": "code",
   "execution_count": 36,
   "id": "0b17c7a0",
   "metadata": {
    "execution": {
     "iopub.execute_input": "2024-06-29T10:46:37.509115Z",
     "iopub.status.busy": "2024-06-29T10:46:37.508670Z",
     "iopub.status.idle": "2024-06-29T10:46:39.551900Z",
     "shell.execute_reply": "2024-06-29T10:46:39.550673Z"
    },
    "papermill": {
     "duration": 2.067392,
     "end_time": "2024-06-29T10:46:39.554854",
     "exception": false,
     "start_time": "2024-06-29T10:46:37.487462",
     "status": "completed"
    },
    "tags": []
   },
   "outputs": [],
   "source": [
    "#instantiate the YambiModel\n",
    "model = YambiModel()\n",
    "\n",
    "#move the model to the appropriate device (GPU if available, otherwise CPU)\n",
    "device = torch.device(\"cuda\" if torch.cuda.is_available() else \"cpu\")\n",
    "model.to(device)\n",
    "\n",
    "#define the loss function\n",
    "criterion = nn.BCELoss()\n",
    "\n",
    "#define the optimizer, passing model parameters and learning rate\n",
    "optimizer = optim.Adam(model.parameters(), lr=0.001)"
   ]
  },
  {
   "cell_type": "code",
   "execution_count": 37,
   "id": "d74f3535",
   "metadata": {
    "execution": {
     "iopub.execute_input": "2024-06-29T10:46:39.595715Z",
     "iopub.status.busy": "2024-06-29T10:46:39.594391Z",
     "iopub.status.idle": "2024-06-29T10:46:39.600952Z",
     "shell.execute_reply": "2024-06-29T10:46:39.599862Z"
    },
    "papermill": {
     "duration": 0.029364,
     "end_time": "2024-06-29T10:46:39.603385",
     "exception": false,
     "start_time": "2024-06-29T10:46:39.574021",
     "status": "completed"
    },
    "tags": []
   },
   "outputs": [],
   "source": [
    "#instantiate ARCTrainer with train_loader\n",
    "trainer = ARCTrainer(model=model, train_loader=train_loader)"
   ]
  },
  {
   "cell_type": "code",
   "execution_count": 38,
   "id": "b37e9dfa",
   "metadata": {
    "execution": {
     "iopub.execute_input": "2024-06-29T10:46:39.643250Z",
     "iopub.status.busy": "2024-06-29T10:46:39.642859Z",
     "iopub.status.idle": "2024-06-29T10:47:26.878633Z",
     "shell.execute_reply": "2024-06-29T10:47:26.877232Z"
    },
    "papermill": {
     "duration": 47.25966,
     "end_time": "2024-06-29T10:47:26.881764",
     "exception": false,
     "start_time": "2024-06-29T10:46:39.622104",
     "status": "completed"
    },
    "tags": []
   },
   "outputs": [
    {
     "name": "stdout",
     "output_type": "stream",
     "text": [
      "Epoch [1/10], Loss: 0.5740\n",
      "Epoch [2/10], Loss: 0.2395\n",
      "Epoch [3/10], Loss: 0.1822\n",
      "Epoch [4/10], Loss: 0.1713\n",
      "Epoch [5/10], Loss: 0.1646\n",
      "Epoch [6/10], Loss: 0.1481\n",
      "Epoch [7/10], Loss: 0.1386\n",
      "Epoch [8/10], Loss: 0.1257\n",
      "Epoch [9/10], Loss: 0.1171\n",
      "Epoch [10/10], Loss: 0.1126\n"
     ]
    }
   ],
   "source": [
    "def train_model(model, train_loader, criterion, optimizer, device, num_epochs=10):\n",
    "    model.train()\n",
    "    model.to(device)  #move model to the correct device (CPU or GPU)\n",
    "    \n",
    "    for epoch in range(num_epochs):\n",
    "        running_loss = 0.0\n",
    "        for inputs, targets in train_loader:\n",
    "            inputs, targets = inputs.to(device), targets.to(device)\n",
    "            optimizer.zero_grad()\n",
    "            outputs = model(inputs)\n",
    "            loss = criterion(outputs, targets)\n",
    "            loss.backward()\n",
    "            optimizer.step()\n",
    "            running_loss += loss.item()\n",
    "        \n",
    "        print(f\"Epoch [{epoch+1}/{num_epochs}], Loss: {running_loss/len(train_loader):.4f}\")\n",
    "    \n",
    "    model.save_model()\n",
    "\n",
    "train_model(model, train_loader, criterion, optimizer, device)"
   ]
  },
  {
   "cell_type": "code",
   "execution_count": 39,
   "id": "9498f2ac",
   "metadata": {
    "execution": {
     "iopub.execute_input": "2024-06-29T10:47:26.923214Z",
     "iopub.status.busy": "2024-06-29T10:47:26.922797Z",
     "iopub.status.idle": "2024-06-29T10:47:26.930010Z",
     "shell.execute_reply": "2024-06-29T10:47:26.928668Z"
    },
    "papermill": {
     "duration": 0.031246,
     "end_time": "2024-06-29T10:47:26.932864",
     "exception": false,
     "start_time": "2024-06-29T10:47:26.901618",
     "status": "completed"
    },
    "tags": []
   },
   "outputs": [],
   "source": [
    "def predict(model, data_loader, device='cpu'):\n",
    "    model.eval()\n",
    "    all_outputs = []\n",
    "    with torch.no_grad():\n",
    "        for inputs in data_loader:\n",
    "            inputs = inputs[0].to(device)  #get the first element (inputs) and send to device\n",
    "            outputs = model(inputs)\n",
    "            all_outputs.append(outputs.cpu().numpy())\n",
    "    return np.concatenate(all_outputs)"
   ]
  },
  {
   "cell_type": "code",
   "execution_count": 40,
   "id": "881646a6",
   "metadata": {
    "execution": {
     "iopub.execute_input": "2024-06-29T10:47:26.974893Z",
     "iopub.status.busy": "2024-06-29T10:47:26.974453Z",
     "iopub.status.idle": "2024-06-29T10:47:26.981079Z",
     "shell.execute_reply": "2024-06-29T10:47:26.979875Z"
    },
    "papermill": {
     "duration": 0.030595,
     "end_time": "2024-06-29T10:47:26.983565",
     "exception": false,
     "start_time": "2024-06-29T10:47:26.952970",
     "status": "completed"
    },
    "tags": []
   },
   "outputs": [],
   "source": [
    "#format the output\n",
    "def format_output(ids, predictions):\n",
    "    formatted_output = {}\n",
    "    for idx, id_val in enumerate(ids):\n",
    "        pred = predictions[idx].astype(int).tolist()\n",
    "        formatted_output[id_val] = [{\"attempt_1\": pred, \"attempt_2\": pred}]\n",
    "    return formatted_output"
   ]
  },
  {
   "cell_type": "code",
   "execution_count": 41,
   "id": "745daefd",
   "metadata": {
    "execution": {
     "iopub.execute_input": "2024-06-29T10:47:27.025270Z",
     "iopub.status.busy": "2024-06-29T10:47:27.024865Z",
     "iopub.status.idle": "2024-06-29T10:47:27.031921Z",
     "shell.execute_reply": "2024-06-29T10:47:27.030621Z"
    },
    "papermill": {
     "duration": 0.031243,
     "end_time": "2024-06-29T10:47:27.034759",
     "exception": false,
     "start_time": "2024-06-29T10:47:27.003516",
     "status": "completed"
    },
    "tags": []
   },
   "outputs": [],
   "source": [
    "if not isinstance(X_test, torch.Tensor):\n",
    "    X_test_tensor = torch.from_numpy(X_test).float()  #convert from NumPy array to tensor if necessary\n",
    "else:\n",
    "    X_test_tensor = X_test  #ese X_test directly if it's already a tensor\n",
    "\n",
    "#create TensorDataset\n",
    "test_dataset = TensorDataset(X_test_tensor)\n",
    "\n",
    "batch_size = 32\n",
    "test_loader = DataLoader(test_dataset, batch_size=batch_size, shuffle=False)"
   ]
  },
  {
   "cell_type": "code",
   "execution_count": 42,
   "id": "deead354",
   "metadata": {
    "execution": {
     "iopub.execute_input": "2024-06-29T10:47:27.078029Z",
     "iopub.status.busy": "2024-06-29T10:47:27.076863Z",
     "iopub.status.idle": "2024-06-29T10:47:27.245861Z",
     "shell.execute_reply": "2024-06-29T10:47:27.244478Z"
    },
    "papermill": {
     "duration": 0.194032,
     "end_time": "2024-06-29T10:47:27.248790",
     "exception": false,
     "start_time": "2024-06-29T10:47:27.054758",
     "status": "completed"
    },
    "tags": []
   },
   "outputs": [],
   "source": [
    "#predict the output for the test dataset\n",
    "predictions = predict(model, test_loader, device=device)"
   ]
  },
  {
   "cell_type": "code",
   "execution_count": 43,
   "id": "40f29d26",
   "metadata": {
    "execution": {
     "iopub.execute_input": "2024-06-29T10:47:27.293524Z",
     "iopub.status.busy": "2024-06-29T10:47:27.292601Z",
     "iopub.status.idle": "2024-06-29T10:47:27.380074Z",
     "shell.execute_reply": "2024-06-29T10:47:27.378782Z"
    },
    "papermill": {
     "duration": 0.112594,
     "end_time": "2024-06-29T10:47:27.382944",
     "exception": false,
     "start_time": "2024-06-29T10:47:27.270350",
     "status": "completed"
    },
    "tags": []
   },
   "outputs": [],
   "source": [
    "from sklearn.metrics import accuracy_score, precision_score, recall_score, f1_score\n",
    "\n",
    "def calculate_metrics(predictions, targets):\n",
    "    if isinstance(predictions, torch.Tensor):\n",
    "        predictions = predictions.cpu().numpy()  #convert PyTorch tensor to NumPy array\n",
    "    if isinstance(targets, torch.Tensor):\n",
    "        targets = targets.cpu().numpy()  #convert PyTorch tensor to NumPy array\n",
    "    \n",
    "    predictions = (predictions > 0.5).astype(int).flatten()\n",
    "    targets = targets.astype(int).flatten()\n",
    "    \n",
    "    accuracy = accuracy_score(targets, predictions)\n",
    "    precision = precision_score(targets, predictions, average='binary') \n",
    "    recall = recall_score(targets, predictions, average='binary')\n",
    "    f1 = f1_score(targets, predictions, average='binary') \n",
    "    \n",
    "    return accuracy, precision, recall, f1\n",
    "\n",
    "#calculate metrics\n",
    "accuracy, precision, recall, f1 = calculate_metrics(predictions, Y_test)"
   ]
  },
  {
   "cell_type": "code",
   "execution_count": 44,
   "id": "565904a1",
   "metadata": {
    "execution": {
     "iopub.execute_input": "2024-06-29T10:47:27.423787Z",
     "iopub.status.busy": "2024-06-29T10:47:27.423312Z",
     "iopub.status.idle": "2024-06-29T10:47:27.429826Z",
     "shell.execute_reply": "2024-06-29T10:47:27.428646Z"
    },
    "papermill": {
     "duration": 0.029869,
     "end_time": "2024-06-29T10:47:27.432382",
     "exception": false,
     "start_time": "2024-06-29T10:47:27.402513",
     "status": "completed"
    },
    "tags": []
   },
   "outputs": [
    {
     "name": "stdout",
     "output_type": "stream",
     "text": [
      "ARC Score Metrics:\n",
      "  Accuracy: 0.9391\n",
      "  Precision: 0.4997\n",
      "  Recall: 0.3988\n",
      "  F1-score: 0.4436\n"
     ]
    }
   ],
   "source": [
    "#print metrics\n",
    "print(f\"ARC Score Metrics:\")\n",
    "print(f\"  Accuracy: {accuracy:.4f}\")\n",
    "print(f\"  Precision: {precision:.4f}\")\n",
    "print(f\"  Recall: {recall:.4f}\")\n",
    "print(f\"  F1-score: {f1:.4f}\")"
   ]
  },
  {
   "cell_type": "code",
   "execution_count": 45,
   "id": "35f94283",
   "metadata": {
    "execution": {
     "iopub.execute_input": "2024-06-29T10:47:27.474093Z",
     "iopub.status.busy": "2024-06-29T10:47:27.472999Z",
     "iopub.status.idle": "2024-06-29T10:47:27.504567Z",
     "shell.execute_reply": "2024-06-29T10:47:27.503485Z"
    },
    "papermill": {
     "duration": 0.055278,
     "end_time": "2024-06-29T10:47:27.507332",
     "exception": false,
     "start_time": "2024-06-29T10:47:27.452054",
     "status": "completed"
    },
    "tags": []
   },
   "outputs": [],
   "source": [
    "file_path = '/kaggle/input/arc-prize-2024/arc-agi_test_challenges.json'\n",
    "\n",
    "def extract_ids_from_json(file_path):\n",
    "    with open(file_path, 'r') as f:\n",
    "        data = json.load(f)\n",
    "    \n",
    "    if 'challenges' in data:\n",
    "        return [challenge['id'] for challenge in data['challenges']]\n",
    "    else:\n",
    "        return []\n",
    "\n",
    "#extract IDs from the specified JSON file\n",
    "all_ids = extract_ids_from_json(file_path)"
   ]
  },
  {
   "cell_type": "code",
   "execution_count": 46,
   "id": "c906b2c5",
   "metadata": {
    "execution": {
     "iopub.execute_input": "2024-06-29T10:47:27.549320Z",
     "iopub.status.busy": "2024-06-29T10:47:27.548926Z",
     "iopub.status.idle": "2024-06-29T10:47:27.554392Z",
     "shell.execute_reply": "2024-06-29T10:47:27.553041Z"
    },
    "papermill": {
     "duration": 0.029602,
     "end_time": "2024-06-29T10:47:27.557034",
     "exception": false,
     "start_time": "2024-06-29T10:47:27.527432",
     "status": "completed"
    },
    "tags": []
   },
   "outputs": [],
   "source": [
    "#format the output\n",
    "formatted_output = format_output(all_ids, predictions)"
   ]
  },
  {
   "cell_type": "code",
   "execution_count": 47,
   "id": "4bada76d",
   "metadata": {
    "execution": {
     "iopub.execute_input": "2024-06-29T10:47:27.599572Z",
     "iopub.status.busy": "2024-06-29T10:47:27.598560Z",
     "iopub.status.idle": "2024-06-29T10:47:27.603828Z",
     "shell.execute_reply": "2024-06-29T10:47:27.602733Z"
    },
    "papermill": {
     "duration": 0.02876,
     "end_time": "2024-06-29T10:47:27.606302",
     "exception": false,
     "start_time": "2024-06-29T10:47:27.577542",
     "status": "completed"
    },
    "tags": []
   },
   "outputs": [],
   "source": [
    "submission_file = '/kaggle/working/submission.json'"
   ]
  },
  {
   "cell_type": "code",
   "execution_count": 48,
   "id": "03333a84",
   "metadata": {
    "execution": {
     "iopub.execute_input": "2024-06-29T10:47:27.647397Z",
     "iopub.status.busy": "2024-06-29T10:47:27.646988Z",
     "iopub.status.idle": "2024-06-29T10:47:27.652487Z",
     "shell.execute_reply": "2024-06-29T10:47:27.651177Z"
    },
    "papermill": {
     "duration": 0.029247,
     "end_time": "2024-06-29T10:47:27.655169",
     "exception": false,
     "start_time": "2024-06-29T10:47:27.625922",
     "status": "completed"
    },
    "tags": []
   },
   "outputs": [],
   "source": [
    "#serialize formatted_output to json format\n",
    "json_predictions = json.dumps(formatted_output, indent=2)"
   ]
  },
  {
   "cell_type": "code",
   "execution_count": 49,
   "id": "b1b83767",
   "metadata": {
    "execution": {
     "iopub.execute_input": "2024-06-29T10:47:27.697105Z",
     "iopub.status.busy": "2024-06-29T10:47:27.696675Z",
     "iopub.status.idle": "2024-06-29T10:47:27.703933Z",
     "shell.execute_reply": "2024-06-29T10:47:27.702753Z"
    },
    "papermill": {
     "duration": 0.03118,
     "end_time": "2024-06-29T10:47:27.706629",
     "exception": false,
     "start_time": "2024-06-29T10:47:27.675449",
     "status": "completed"
    },
    "tags": []
   },
   "outputs": [
    {
     "name": "stdout",
     "output_type": "stream",
     "text": [
      "Submission file '/kaggle/working/submission.json' created successfully.\n"
     ]
    }
   ],
   "source": [
    "#save json to submission.json\n",
    "with open(submission_file, 'w') as file:\n",
    "    file.write(json_predictions)\n",
    "\n",
    "print(f\"Submission file '{submission_file}' created successfully.\")"
   ]
  }
 ],
 "metadata": {
  "kaggle": {
   "accelerator": "none",
   "dataSources": [
    {
     "databundleVersionId": 8951125,
     "sourceId": 67357,
     "sourceType": "competition"
    }
   ],
   "dockerImageVersionId": 30732,
   "isGpuEnabled": false,
   "isInternetEnabled": false,
   "language": "python",
   "sourceType": "notebook"
  },
  "kernelspec": {
   "display_name": "Python 3",
   "language": "python",
   "name": "python3"
  },
  "language_info": {
   "codemirror_mode": {
    "name": "ipython",
    "version": 3
   },
   "file_extension": ".py",
   "mimetype": "text/x-python",
   "name": "python",
   "nbconvert_exporter": "python",
   "pygments_lexer": "ipython3",
   "version": "3.10.13"
  },
  "papermill": {
   "default_parameters": {},
   "duration": 66.449061,
   "end_time": "2024-06-29T10:47:29.153033",
   "environment_variables": {},
   "exception": null,
   "input_path": "__notebook__.ipynb",
   "output_path": "__notebook__.ipynb",
   "parameters": {},
   "start_time": "2024-06-29T10:46:22.703972",
   "version": "2.5.0"
  }
 },
 "nbformat": 4,
 "nbformat_minor": 5
}
